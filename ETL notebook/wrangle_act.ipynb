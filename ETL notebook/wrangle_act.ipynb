{
 "cells": [
  {
   "cell_type": "markdown",
   "metadata": {},
   "source": [
    "# Data Wrangling\n"
   ]
  },
  {
   "cell_type": "markdown",
   "metadata": {},
   "source": [
    "## Introduction\n",
    ">In this lesson, we have learned numerous techniques to gather, assess and clean data programmatically. These skills are exceptionally useful since data in real-world is rarely comes clean. This is the work that needs to be done in the background before nice data visualization and machine learning models can be effectively produced. \n",
    "\n",
    ">In this project, we gathered data from different sources and in many formats, assess the data's quality and tidiness and programmatically clean it using common python data science packages (numpy, pandas, matplotlib, and seaborn). \n",
    "\n",
    ">The first dataset is the tweet archive of Twitter user @dog_Rates, also known for WeRateDogs, which is a twitter account that rates peoples' dogs with humerous comment about the dog. The rating are out of 10. However, the rating can go beyond that, which is the unique feature for this account. This dataset contains basic tweet data (tweet ID, timestamp, text, and etc.) for over 5000+ tweets.\n",
    "\n",
    ">The goal of this project is to create interesting and trushworthy analyses and visualizations from this Twitter archive. This will be accomplished by gather more data such as dog's image classification using convolutional neural network to predict dog breed and also additional data with Twitter API. "
   ]
  },
  {
   "cell_type": "markdown",
   "metadata": {},
   "source": [
    "## Project Details"
   ]
  },
  {
   "cell_type": "markdown",
   "metadata": {},
   "source": [
    ">1) Wrangle the data including (gather, assess and clean)\n",
    "\n",
    ">2) Store, analyze and visualize the data\n",
    "\n",
    ">3) Data Wrangling Report and Data Analyses/Visualization Report"
   ]
  },
  {
   "cell_type": "markdown",
   "metadata": {},
   "source": [
    "## Additional Datasets"
   ]
  },
  {
   "cell_type": "markdown",
   "metadata": {},
   "source": [
    "### Image Predictions File\n",
    "\n",
    ">The file contains tweet image predictions of the dog's breed or other object using convolutional neural network. The file(image_prediction.tsv) is hosted on Udacity's servers. It was downloadded programmatically using the Requests library through the given URL.\n",
    "\n",
    "### Additional Data via the Twitter API\n",
    "\n",
    ">Each tweet's retweet count, favorite count, retweet date, retweet's user information were extracted from the Twitter API using Tweepy library. The data is stored as JSON and as txt file. The file is read to pandas Dataframe and joined with other datasets."
   ]
  },
  {
   "cell_type": "markdown",
   "metadata": {},
   "source": [
    "Required libraries are imported"
   ]
  },
  {
   "cell_type": "code",
   "execution_count": 10,
   "metadata": {},
   "outputs": [
    {
     "name": "stdout",
     "output_type": "stream",
     "text": [
      "[nltk_data] Downloading package stopwords to /root/nltk_data...\n",
      "[nltk_data]   Package stopwords is already up-to-date!\n",
      "[nltk_data] Downloading package wordnet to /root/nltk_data...\n",
      "[nltk_data]   Package wordnet is already up-to-date!\n"
     ]
    },
    {
     "data": {
      "text/plain": [
       "True"
      ]
     },
     "execution_count": 10,
     "metadata": {},
     "output_type": "execute_result"
    }
   ],
   "source": [
    "import tweepy\n",
    "import numpy as np\n",
    "import pandas as pd\n",
    "import matplotlib.pyplot as plt\n",
    "import seaborn as sb\n",
    "import requests\n",
    "import time\n",
    "\n",
    "import re\n",
    "import nltk\n",
    "from nltk.corpus import stopwords\n",
    "from nltk.stem.wordnet import WordNetLemmatizer\n",
    "nltk.download('stopwords')\n",
    "nltk.download('wordnet')"
   ]
  },
  {
   "cell_type": "markdown",
   "metadata": {},
   "source": [
    "## Gather"
   ]
  },
  {
   "cell_type": "markdown",
   "metadata": {},
   "source": [
    "### 1. Twitter Archived Enhanced Data"
   ]
  },
  {
   "cell_type": "code",
   "execution_count": 11,
   "metadata": {},
   "outputs": [],
   "source": [
    "df = pd.read_csv('./twitter-archive-enhanced.csv')"
   ]
  },
  {
   "cell_type": "markdown",
   "metadata": {},
   "source": [
    "The data is assessed programmatically to help understand the dataset and observe missing values "
   ]
  },
  {
   "cell_type": "code",
   "execution_count": 12,
   "metadata": {},
   "outputs": [
    {
     "data": {
      "text/html": [
       "<div>\n",
       "<style scoped>\n",
       "    .dataframe tbody tr th:only-of-type {\n",
       "        vertical-align: middle;\n",
       "    }\n",
       "\n",
       "    .dataframe tbody tr th {\n",
       "        vertical-align: top;\n",
       "    }\n",
       "\n",
       "    .dataframe thead th {\n",
       "        text-align: right;\n",
       "    }\n",
       "</style>\n",
       "<table border=\"1\" class=\"dataframe\">\n",
       "  <thead>\n",
       "    <tr style=\"text-align: right;\">\n",
       "      <th></th>\n",
       "      <th>tweet_id</th>\n",
       "      <th>in_reply_to_status_id</th>\n",
       "      <th>in_reply_to_user_id</th>\n",
       "      <th>timestamp</th>\n",
       "      <th>source</th>\n",
       "      <th>text</th>\n",
       "      <th>retweeted_status_id</th>\n",
       "      <th>retweeted_status_user_id</th>\n",
       "      <th>retweeted_status_timestamp</th>\n",
       "      <th>expanded_urls</th>\n",
       "      <th>rating_numerator</th>\n",
       "      <th>rating_denominator</th>\n",
       "      <th>name</th>\n",
       "      <th>doggo</th>\n",
       "      <th>floofer</th>\n",
       "      <th>pupper</th>\n",
       "      <th>puppo</th>\n",
       "    </tr>\n",
       "  </thead>\n",
       "  <tbody>\n",
       "    <tr>\n",
       "      <th>0</th>\n",
       "      <td>892420643555336193</td>\n",
       "      <td>NaN</td>\n",
       "      <td>NaN</td>\n",
       "      <td>2017-08-01 16:23:56 +0000</td>\n",
       "      <td>&lt;a href=\"http://twitter.com/download/iphone\" r...</td>\n",
       "      <td>This is Phineas. He's a mystical boy. Only eve...</td>\n",
       "      <td>NaN</td>\n",
       "      <td>NaN</td>\n",
       "      <td>NaN</td>\n",
       "      <td>https://twitter.com/dog_rates/status/892420643...</td>\n",
       "      <td>13</td>\n",
       "      <td>10</td>\n",
       "      <td>Phineas</td>\n",
       "      <td>None</td>\n",
       "      <td>None</td>\n",
       "      <td>None</td>\n",
       "      <td>None</td>\n",
       "    </tr>\n",
       "    <tr>\n",
       "      <th>1</th>\n",
       "      <td>892177421306343426</td>\n",
       "      <td>NaN</td>\n",
       "      <td>NaN</td>\n",
       "      <td>2017-08-01 00:17:27 +0000</td>\n",
       "      <td>&lt;a href=\"http://twitter.com/download/iphone\" r...</td>\n",
       "      <td>This is Tilly. She's just checking pup on you....</td>\n",
       "      <td>NaN</td>\n",
       "      <td>NaN</td>\n",
       "      <td>NaN</td>\n",
       "      <td>https://twitter.com/dog_rates/status/892177421...</td>\n",
       "      <td>13</td>\n",
       "      <td>10</td>\n",
       "      <td>Tilly</td>\n",
       "      <td>None</td>\n",
       "      <td>None</td>\n",
       "      <td>None</td>\n",
       "      <td>None</td>\n",
       "    </tr>\n",
       "    <tr>\n",
       "      <th>2</th>\n",
       "      <td>891815181378084864</td>\n",
       "      <td>NaN</td>\n",
       "      <td>NaN</td>\n",
       "      <td>2017-07-31 00:18:03 +0000</td>\n",
       "      <td>&lt;a href=\"http://twitter.com/download/iphone\" r...</td>\n",
       "      <td>This is Archie. He is a rare Norwegian Pouncin...</td>\n",
       "      <td>NaN</td>\n",
       "      <td>NaN</td>\n",
       "      <td>NaN</td>\n",
       "      <td>https://twitter.com/dog_rates/status/891815181...</td>\n",
       "      <td>12</td>\n",
       "      <td>10</td>\n",
       "      <td>Archie</td>\n",
       "      <td>None</td>\n",
       "      <td>None</td>\n",
       "      <td>None</td>\n",
       "      <td>None</td>\n",
       "    </tr>\n",
       "    <tr>\n",
       "      <th>3</th>\n",
       "      <td>891689557279858688</td>\n",
       "      <td>NaN</td>\n",
       "      <td>NaN</td>\n",
       "      <td>2017-07-30 15:58:51 +0000</td>\n",
       "      <td>&lt;a href=\"http://twitter.com/download/iphone\" r...</td>\n",
       "      <td>This is Darla. She commenced a snooze mid meal...</td>\n",
       "      <td>NaN</td>\n",
       "      <td>NaN</td>\n",
       "      <td>NaN</td>\n",
       "      <td>https://twitter.com/dog_rates/status/891689557...</td>\n",
       "      <td>13</td>\n",
       "      <td>10</td>\n",
       "      <td>Darla</td>\n",
       "      <td>None</td>\n",
       "      <td>None</td>\n",
       "      <td>None</td>\n",
       "      <td>None</td>\n",
       "    </tr>\n",
       "    <tr>\n",
       "      <th>4</th>\n",
       "      <td>891327558926688256</td>\n",
       "      <td>NaN</td>\n",
       "      <td>NaN</td>\n",
       "      <td>2017-07-29 16:00:24 +0000</td>\n",
       "      <td>&lt;a href=\"http://twitter.com/download/iphone\" r...</td>\n",
       "      <td>This is Franklin. He would like you to stop ca...</td>\n",
       "      <td>NaN</td>\n",
       "      <td>NaN</td>\n",
       "      <td>NaN</td>\n",
       "      <td>https://twitter.com/dog_rates/status/891327558...</td>\n",
       "      <td>12</td>\n",
       "      <td>10</td>\n",
       "      <td>Franklin</td>\n",
       "      <td>None</td>\n",
       "      <td>None</td>\n",
       "      <td>None</td>\n",
       "      <td>None</td>\n",
       "    </tr>\n",
       "  </tbody>\n",
       "</table>\n",
       "</div>"
      ],
      "text/plain": [
       "             tweet_id  in_reply_to_status_id  in_reply_to_user_id  \\\n",
       "0  892420643555336193                    NaN                  NaN   \n",
       "1  892177421306343426                    NaN                  NaN   \n",
       "2  891815181378084864                    NaN                  NaN   \n",
       "3  891689557279858688                    NaN                  NaN   \n",
       "4  891327558926688256                    NaN                  NaN   \n",
       "\n",
       "                   timestamp  \\\n",
       "0  2017-08-01 16:23:56 +0000   \n",
       "1  2017-08-01 00:17:27 +0000   \n",
       "2  2017-07-31 00:18:03 +0000   \n",
       "3  2017-07-30 15:58:51 +0000   \n",
       "4  2017-07-29 16:00:24 +0000   \n",
       "\n",
       "                                              source  \\\n",
       "0  <a href=\"http://twitter.com/download/iphone\" r...   \n",
       "1  <a href=\"http://twitter.com/download/iphone\" r...   \n",
       "2  <a href=\"http://twitter.com/download/iphone\" r...   \n",
       "3  <a href=\"http://twitter.com/download/iphone\" r...   \n",
       "4  <a href=\"http://twitter.com/download/iphone\" r...   \n",
       "\n",
       "                                                text  retweeted_status_id  \\\n",
       "0  This is Phineas. He's a mystical boy. Only eve...                  NaN   \n",
       "1  This is Tilly. She's just checking pup on you....                  NaN   \n",
       "2  This is Archie. He is a rare Norwegian Pouncin...                  NaN   \n",
       "3  This is Darla. She commenced a snooze mid meal...                  NaN   \n",
       "4  This is Franklin. He would like you to stop ca...                  NaN   \n",
       "\n",
       "   retweeted_status_user_id retweeted_status_timestamp  \\\n",
       "0                       NaN                        NaN   \n",
       "1                       NaN                        NaN   \n",
       "2                       NaN                        NaN   \n",
       "3                       NaN                        NaN   \n",
       "4                       NaN                        NaN   \n",
       "\n",
       "                                       expanded_urls  rating_numerator  \\\n",
       "0  https://twitter.com/dog_rates/status/892420643...                13   \n",
       "1  https://twitter.com/dog_rates/status/892177421...                13   \n",
       "2  https://twitter.com/dog_rates/status/891815181...                12   \n",
       "3  https://twitter.com/dog_rates/status/891689557...                13   \n",
       "4  https://twitter.com/dog_rates/status/891327558...                12   \n",
       "\n",
       "   rating_denominator      name doggo floofer pupper puppo  \n",
       "0                  10   Phineas  None    None   None  None  \n",
       "1                  10     Tilly  None    None   None  None  \n",
       "2                  10    Archie  None    None   None  None  \n",
       "3                  10     Darla  None    None   None  None  \n",
       "4                  10  Franklin  None    None   None  None  "
      ]
     },
     "execution_count": 12,
     "metadata": {},
     "output_type": "execute_result"
    }
   ],
   "source": [
    "df.head()"
   ]
  },
  {
   "cell_type": "code",
   "execution_count": 13,
   "metadata": {
    "scrolled": true
   },
   "outputs": [
    {
     "name": "stdout",
     "output_type": "stream",
     "text": [
      "<class 'pandas.core.frame.DataFrame'>\n",
      "RangeIndex: 2356 entries, 0 to 2355\n",
      "Data columns (total 17 columns):\n",
      "tweet_id                      2356 non-null int64\n",
      "in_reply_to_status_id         78 non-null float64\n",
      "in_reply_to_user_id           78 non-null float64\n",
      "timestamp                     2356 non-null object\n",
      "source                        2356 non-null object\n",
      "text                          2356 non-null object\n",
      "retweeted_status_id           181 non-null float64\n",
      "retweeted_status_user_id      181 non-null float64\n",
      "retweeted_status_timestamp    181 non-null object\n",
      "expanded_urls                 2297 non-null object\n",
      "rating_numerator              2356 non-null int64\n",
      "rating_denominator            2356 non-null int64\n",
      "name                          2356 non-null object\n",
      "doggo                         2356 non-null object\n",
      "floofer                       2356 non-null object\n",
      "pupper                        2356 non-null object\n",
      "puppo                         2356 non-null object\n",
      "dtypes: float64(4), int64(3), object(10)\n",
      "memory usage: 313.0+ KB\n"
     ]
    }
   ],
   "source": [
    "df.info()"
   ]
  },
  {
   "cell_type": "markdown",
   "metadata": {},
   "source": [
    "The list of tweet_id is stored as a variable to later be used to gather additional data by Twitter API "
   ]
  },
  {
   "cell_type": "code",
   "execution_count": 14,
   "metadata": {},
   "outputs": [],
   "source": [
    "tweet_ids = df['tweet_id']"
   ]
  },
  {
   "cell_type": "markdown",
   "metadata": {},
   "source": [
    "## 2. Image Predictions Data"
   ]
  },
  {
   "cell_type": "code",
   "execution_count": 16,
   "metadata": {},
   "outputs": [],
   "source": [
    "#by using the request library and the given urls we are able to write out the file as flatfile and import to our workspace\n",
    "url=\"https://d17h27t6h515a5.cloudfront.net/topher/2017/August/599fd2ad_image-predictions/image-predictions.tsv\"\n",
    "response = requests.get(url)\n",
    "\n",
    "with open('./image_predictions.tsv', 'wb') as file:\n",
    "    file.write(response.content)\n",
    "    \n",
    "df_image_pred = pd.read_csv('./image_predictions.tsv', sep = '\\t')"
   ]
  },
  {
   "cell_type": "markdown",
   "metadata": {},
   "source": [
    "Assess the data programmatically"
   ]
  },
  {
   "cell_type": "code",
   "execution_count": 17,
   "metadata": {},
   "outputs": [
    {
     "data": {
      "text/html": [
       "<div>\n",
       "<style scoped>\n",
       "    .dataframe tbody tr th:only-of-type {\n",
       "        vertical-align: middle;\n",
       "    }\n",
       "\n",
       "    .dataframe tbody tr th {\n",
       "        vertical-align: top;\n",
       "    }\n",
       "\n",
       "    .dataframe thead th {\n",
       "        text-align: right;\n",
       "    }\n",
       "</style>\n",
       "<table border=\"1\" class=\"dataframe\">\n",
       "  <thead>\n",
       "    <tr style=\"text-align: right;\">\n",
       "      <th></th>\n",
       "      <th>tweet_id</th>\n",
       "      <th>jpg_url</th>\n",
       "      <th>img_num</th>\n",
       "      <th>p1</th>\n",
       "      <th>p1_conf</th>\n",
       "      <th>p1_dog</th>\n",
       "      <th>p2</th>\n",
       "      <th>p2_conf</th>\n",
       "      <th>p2_dog</th>\n",
       "      <th>p3</th>\n",
       "      <th>p3_conf</th>\n",
       "      <th>p3_dog</th>\n",
       "    </tr>\n",
       "  </thead>\n",
       "  <tbody>\n",
       "    <tr>\n",
       "      <th>0</th>\n",
       "      <td>666020888022790149</td>\n",
       "      <td>https://pbs.twimg.com/media/CT4udn0WwAA0aMy.jpg</td>\n",
       "      <td>1</td>\n",
       "      <td>Welsh_springer_spaniel</td>\n",
       "      <td>0.465074</td>\n",
       "      <td>True</td>\n",
       "      <td>collie</td>\n",
       "      <td>0.156665</td>\n",
       "      <td>True</td>\n",
       "      <td>Shetland_sheepdog</td>\n",
       "      <td>0.061428</td>\n",
       "      <td>True</td>\n",
       "    </tr>\n",
       "    <tr>\n",
       "      <th>1</th>\n",
       "      <td>666029285002620928</td>\n",
       "      <td>https://pbs.twimg.com/media/CT42GRgUYAA5iDo.jpg</td>\n",
       "      <td>1</td>\n",
       "      <td>redbone</td>\n",
       "      <td>0.506826</td>\n",
       "      <td>True</td>\n",
       "      <td>miniature_pinscher</td>\n",
       "      <td>0.074192</td>\n",
       "      <td>True</td>\n",
       "      <td>Rhodesian_ridgeback</td>\n",
       "      <td>0.072010</td>\n",
       "      <td>True</td>\n",
       "    </tr>\n",
       "    <tr>\n",
       "      <th>2</th>\n",
       "      <td>666033412701032449</td>\n",
       "      <td>https://pbs.twimg.com/media/CT4521TWwAEvMyu.jpg</td>\n",
       "      <td>1</td>\n",
       "      <td>German_shepherd</td>\n",
       "      <td>0.596461</td>\n",
       "      <td>True</td>\n",
       "      <td>malinois</td>\n",
       "      <td>0.138584</td>\n",
       "      <td>True</td>\n",
       "      <td>bloodhound</td>\n",
       "      <td>0.116197</td>\n",
       "      <td>True</td>\n",
       "    </tr>\n",
       "    <tr>\n",
       "      <th>3</th>\n",
       "      <td>666044226329800704</td>\n",
       "      <td>https://pbs.twimg.com/media/CT5Dr8HUEAA-lEu.jpg</td>\n",
       "      <td>1</td>\n",
       "      <td>Rhodesian_ridgeback</td>\n",
       "      <td>0.408143</td>\n",
       "      <td>True</td>\n",
       "      <td>redbone</td>\n",
       "      <td>0.360687</td>\n",
       "      <td>True</td>\n",
       "      <td>miniature_pinscher</td>\n",
       "      <td>0.222752</td>\n",
       "      <td>True</td>\n",
       "    </tr>\n",
       "    <tr>\n",
       "      <th>4</th>\n",
       "      <td>666049248165822465</td>\n",
       "      <td>https://pbs.twimg.com/media/CT5IQmsXIAAKY4A.jpg</td>\n",
       "      <td>1</td>\n",
       "      <td>miniature_pinscher</td>\n",
       "      <td>0.560311</td>\n",
       "      <td>True</td>\n",
       "      <td>Rottweiler</td>\n",
       "      <td>0.243682</td>\n",
       "      <td>True</td>\n",
       "      <td>Doberman</td>\n",
       "      <td>0.154629</td>\n",
       "      <td>True</td>\n",
       "    </tr>\n",
       "  </tbody>\n",
       "</table>\n",
       "</div>"
      ],
      "text/plain": [
       "             tweet_id                                          jpg_url  \\\n",
       "0  666020888022790149  https://pbs.twimg.com/media/CT4udn0WwAA0aMy.jpg   \n",
       "1  666029285002620928  https://pbs.twimg.com/media/CT42GRgUYAA5iDo.jpg   \n",
       "2  666033412701032449  https://pbs.twimg.com/media/CT4521TWwAEvMyu.jpg   \n",
       "3  666044226329800704  https://pbs.twimg.com/media/CT5Dr8HUEAA-lEu.jpg   \n",
       "4  666049248165822465  https://pbs.twimg.com/media/CT5IQmsXIAAKY4A.jpg   \n",
       "\n",
       "   img_num                      p1   p1_conf  p1_dog                  p2  \\\n",
       "0        1  Welsh_springer_spaniel  0.465074    True              collie   \n",
       "1        1                 redbone  0.506826    True  miniature_pinscher   \n",
       "2        1         German_shepherd  0.596461    True            malinois   \n",
       "3        1     Rhodesian_ridgeback  0.408143    True             redbone   \n",
       "4        1      miniature_pinscher  0.560311    True          Rottweiler   \n",
       "\n",
       "    p2_conf  p2_dog                   p3   p3_conf  p3_dog  \n",
       "0  0.156665    True    Shetland_sheepdog  0.061428    True  \n",
       "1  0.074192    True  Rhodesian_ridgeback  0.072010    True  \n",
       "2  0.138584    True           bloodhound  0.116197    True  \n",
       "3  0.360687    True   miniature_pinscher  0.222752    True  \n",
       "4  0.243682    True             Doberman  0.154629    True  "
      ]
     },
     "execution_count": 17,
     "metadata": {},
     "output_type": "execute_result"
    }
   ],
   "source": [
    "df_image_pred.head()"
   ]
  },
  {
   "cell_type": "markdown",
   "metadata": {},
   "source": [
    "Check for null values"
   ]
  },
  {
   "cell_type": "code",
   "execution_count": 18,
   "metadata": {},
   "outputs": [
    {
     "name": "stdout",
     "output_type": "stream",
     "text": [
      "<class 'pandas.core.frame.DataFrame'>\n",
      "RangeIndex: 2075 entries, 0 to 2074\n",
      "Data columns (total 12 columns):\n",
      "tweet_id    2075 non-null int64\n",
      "jpg_url     2075 non-null object\n",
      "img_num     2075 non-null int64\n",
      "p1          2075 non-null object\n",
      "p1_conf     2075 non-null float64\n",
      "p1_dog      2075 non-null bool\n",
      "p2          2075 non-null object\n",
      "p2_conf     2075 non-null float64\n",
      "p2_dog      2075 non-null bool\n",
      "p3          2075 non-null object\n",
      "p3_conf     2075 non-null float64\n",
      "p3_dog      2075 non-null bool\n",
      "dtypes: bool(3), float64(3), int64(2), object(4)\n",
      "memory usage: 152.1+ KB\n"
     ]
    }
   ],
   "source": [
    "df_image_pred.info()"
   ]
  },
  {
   "cell_type": "markdown",
   "metadata": {},
   "source": [
    "## 3. Additional Data from Twitter API"
   ]
  },
  {
   "cell_type": "code",
   "execution_count": 19,
   "metadata": {},
   "outputs": [],
   "source": [
    "#using tweepy API to obtain additional data\n",
    "#all the user's related information are erased for privacy purpose\n",
    "consumer_key = \n",
    "consumer_secret = \n",
    "access_token = \n",
    "access_secret = \n",
    "\n",
    "auth = tweepy.OAuthHandler(consumer_key, consumer_secret)\n",
    "auth.set_access_token(access_token, access_secret)\n",
    "\n",
    "api = tweepy.API(auth, wait_on_rate_limit=True, wait_on_rate_limit_notify=True)"
   ]
  },
  {
   "cell_type": "code",
   "execution_count": 20,
   "metadata": {
    "scrolled": true
   },
   "outputs": [
    {
     "name": "stdout",
     "output_type": "stream",
     "text": [
      "888202515573088257 _ [{'code': 144, 'message': 'No status found with that ID.'}]\n",
      "873697596434513921 _ [{'code': 144, 'message': 'No status found with that ID.'}]\n",
      "872668790621863937 _ [{'code': 144, 'message': 'No status found with that ID.'}]\n",
      "872261713294495745 _ [{'code': 144, 'message': 'No status found with that ID.'}]\n",
      "869988702071779329 _ [{'code': 144, 'message': 'No status found with that ID.'}]\n",
      "866816280283807744 _ [{'code': 144, 'message': 'No status found with that ID.'}]\n",
      "861769973181624320 _ [{'code': 144, 'message': 'No status found with that ID.'}]\n",
      "856602993587888130 _ [{'code': 144, 'message': 'No status found with that ID.'}]\n",
      "851953902622658560 _ [{'code': 144, 'message': 'No status found with that ID.'}]\n",
      "845459076796616705 _ [{'code': 144, 'message': 'No status found with that ID.'}]\n",
      "844704788403113984 _ [{'code': 144, 'message': 'No status found with that ID.'}]\n",
      "842892208864923648 _ [{'code': 144, 'message': 'No status found with that ID.'}]\n",
      "837366284874571778 _ [{'code': 144, 'message': 'No status found with that ID.'}]\n",
      "837012587749474308 _ [{'code': 144, 'message': 'No status found with that ID.'}]\n",
      "829374341691346946 _ [{'code': 144, 'message': 'No status found with that ID.'}]\n",
      "827228250799742977 _ [{'code': 144, 'message': 'No status found with that ID.'}]\n",
      "812747805718642688 _ [{'code': 144, 'message': 'No status found with that ID.'}]\n",
      "802247111496568832 _ [{'code': 144, 'message': 'No status found with that ID.'}]\n",
      "779123168116150273 _ [{'code': 144, 'message': 'No status found with that ID.'}]\n",
      "775096608509886464 _ [{'code': 144, 'message': 'No status found with that ID.'}]\n",
      "771004394259247104 _ [{'code': 179, 'message': 'Sorry, you are not authorized to see this status.'}]\n",
      "770743923962707968 _ [{'code': 144, 'message': 'No status found with that ID.'}]\n",
      "759566828574212096 _ [{'code': 144, 'message': 'No status found with that ID.'}]\n",
      "Rate limit reached. Sleeping for: 740\n",
      "754011816964026368 _ [{'code': 144, 'message': 'No status found with that ID.'}]\n",
      "680055455951884288 _ [{'code': 144, 'message': 'No status found with that ID.'}]\n",
      "Rate limit reached. Sleeping for: 738\n",
      "Total time taken for execution 1911.0901019573212\n"
     ]
    }
   ],
   "source": [
    "# creating a list for tweets with exceptions/errors \n",
    "tweets_error_list = []\n",
    "\n",
    "# List of tweets\n",
    "df_tweets = []\n",
    "\n",
    "# start time of execution\n",
    "start = time.time()\n",
    "\n",
    "# For loop which will add each available tweet json to df_list\n",
    "for tweet_id in tweet_ids:\n",
    "    try:\n",
    "        tweet = api.get_status(tweet_id, tweet_mode= 'extended')._json \n",
    "        \n",
    "        favorites = tweet['favorite_count'] # number of favorites for the tweet\n",
    "        retweets = tweet['retweet_count'] # number of retweets\n",
    "        user_followers = tweet['user']['followers_count'] # number of followers of the user who tweeted\n",
    "        user_favourites = tweet['user']['favourites_count'] # number of favourites for the user who tweeted\n",
    "        date_time = tweet['created_at'] # the timestamp i.e. date and time of creation of the tweet\n",
    "        \n",
    "        df_tweets.append({'tweet_id': int(tweet_id),\n",
    "                        'favorites': int(favorites),\n",
    "                        'retweets': int(retweets),\n",
    "                        'user_followers': int(user_followers),\n",
    "                        'user_favourites': int(user_favourites),\n",
    "                        'date_time': pd.to_datetime(date_time)})\n",
    "    except Exception as e:\n",
    "        print(str(tweet_id)+ \" _ \" + str(e))\n",
    "        tweets_error_list.append(tweet_id)\n",
    "        \n",
    "# end time for excution\n",
    "end = time.time()\n",
    "\n",
    "#printing time for execution\n",
    "print(\"Total time taken for execution\", end - start)"
   ]
  },
  {
   "cell_type": "markdown",
   "metadata": {},
   "source": [
    "Assess the data programmatically and visually and Load to the workspace as .txt file"
   ]
  },
  {
   "cell_type": "code",
   "execution_count": 21,
   "metadata": {},
   "outputs": [],
   "source": [
    "#convert json datatype to pandas dataframe and store as .txt \n",
    "df_tweets_json = pd.DataFrame(df_tweets)\n",
    "\n",
    "df_tweets_json.to_csv('tweet_json.txt', encoding= 'utf-8', index=False)"
   ]
  },
  {
   "cell_type": "code",
   "execution_count": 22,
   "metadata": {},
   "outputs": [
    {
     "data": {
      "text/plain": [
       "[{'tweet_id': 892420643555336193,\n",
       "  'favorites': 35251,\n",
       "  'retweets': 7434,\n",
       "  'user_followers': 8943067,\n",
       "  'user_favourites': 146211,\n",
       "  'date_time': Timestamp('2017-08-01 16:23:56')},\n",
       " {'tweet_id': 892177421306343426,\n",
       "  'favorites': 30517,\n",
       "  'retweets': 5529,\n",
       "  'user_followers': 8943067,\n",
       "  'user_favourites': 146211,\n",
       "  'date_time': Timestamp('2017-08-01 00:17:27')}]"
      ]
     },
     "execution_count": 22,
     "metadata": {},
     "output_type": "execute_result"
    }
   ],
   "source": [
    "#assess the data\n",
    "df_tweets[:2]"
   ]
  },
  {
   "cell_type": "code",
   "execution_count": 23,
   "metadata": {},
   "outputs": [
    {
     "name": "stdout",
     "output_type": "stream",
     "text": [
      "<class 'pandas.core.frame.DataFrame'>\n",
      "RangeIndex: 2331 entries, 0 to 2330\n",
      "Data columns (total 6 columns):\n",
      "date_time          2331 non-null datetime64[ns]\n",
      "favorites          2331 non-null int64\n",
      "retweets           2331 non-null int64\n",
      "tweet_id           2331 non-null int64\n",
      "user_favourites    2331 non-null int64\n",
      "user_followers     2331 non-null int64\n",
      "dtypes: datetime64[ns](1), int64(5)\n",
      "memory usage: 109.3 KB\n"
     ]
    }
   ],
   "source": [
    "df_tweets_json.info()"
   ]
  },
  {
   "cell_type": "code",
   "execution_count": 24,
   "metadata": {},
   "outputs": [
    {
     "data": {
      "text/html": [
       "<div>\n",
       "<style scoped>\n",
       "    .dataframe tbody tr th:only-of-type {\n",
       "        vertical-align: middle;\n",
       "    }\n",
       "\n",
       "    .dataframe tbody tr th {\n",
       "        vertical-align: top;\n",
       "    }\n",
       "\n",
       "    .dataframe thead th {\n",
       "        text-align: right;\n",
       "    }\n",
       "</style>\n",
       "<table border=\"1\" class=\"dataframe\">\n",
       "  <thead>\n",
       "    <tr style=\"text-align: right;\">\n",
       "      <th></th>\n",
       "      <th>date_time</th>\n",
       "      <th>favorites</th>\n",
       "      <th>retweets</th>\n",
       "      <th>tweet_id</th>\n",
       "      <th>user_favourites</th>\n",
       "      <th>user_followers</th>\n",
       "    </tr>\n",
       "  </thead>\n",
       "  <tbody>\n",
       "    <tr>\n",
       "      <th>0</th>\n",
       "      <td>2017-08-01 16:23:56</td>\n",
       "      <td>35251</td>\n",
       "      <td>7434</td>\n",
       "      <td>892420643555336193</td>\n",
       "      <td>146211</td>\n",
       "      <td>8943067</td>\n",
       "    </tr>\n",
       "    <tr>\n",
       "      <th>1</th>\n",
       "      <td>2017-08-01 00:17:27</td>\n",
       "      <td>30517</td>\n",
       "      <td>5529</td>\n",
       "      <td>892177421306343426</td>\n",
       "      <td>146211</td>\n",
       "      <td>8943067</td>\n",
       "    </tr>\n",
       "    <tr>\n",
       "      <th>2</th>\n",
       "      <td>2017-07-31 00:18:03</td>\n",
       "      <td>22944</td>\n",
       "      <td>3648</td>\n",
       "      <td>891815181378084864</td>\n",
       "      <td>146211</td>\n",
       "      <td>8943067</td>\n",
       "    </tr>\n",
       "    <tr>\n",
       "      <th>3</th>\n",
       "      <td>2017-07-30 15:58:51</td>\n",
       "      <td>38538</td>\n",
       "      <td>7612</td>\n",
       "      <td>891689557279858688</td>\n",
       "      <td>146211</td>\n",
       "      <td>8943067</td>\n",
       "    </tr>\n",
       "    <tr>\n",
       "      <th>4</th>\n",
       "      <td>2017-07-29 16:00:24</td>\n",
       "      <td>36814</td>\n",
       "      <td>8193</td>\n",
       "      <td>891327558926688256</td>\n",
       "      <td>146211</td>\n",
       "      <td>8943067</td>\n",
       "    </tr>\n",
       "  </tbody>\n",
       "</table>\n",
       "</div>"
      ],
      "text/plain": [
       "             date_time  favorites  retweets            tweet_id  \\\n",
       "0  2017-08-01 16:23:56      35251      7434  892420643555336193   \n",
       "1  2017-08-01 00:17:27      30517      5529  892177421306343426   \n",
       "2  2017-07-31 00:18:03      22944      3648  891815181378084864   \n",
       "3  2017-07-30 15:58:51      38538      7612  891689557279858688   \n",
       "4  2017-07-29 16:00:24      36814      8193  891327558926688256   \n",
       "\n",
       "   user_favourites  user_followers  \n",
       "0           146211         8943067  \n",
       "1           146211         8943067  \n",
       "2           146211         8943067  \n",
       "3           146211         8943067  \n",
       "4           146211         8943067  "
      ]
     },
     "execution_count": 24,
     "metadata": {},
     "output_type": "execute_result"
    }
   ],
   "source": [
    "#load the data / assess\n",
    "tweet_df = pd.read_csv('tweet_json.txt')\n",
    "tweet_df.head()"
   ]
  },
  {
   "cell_type": "code",
   "execution_count": 25,
   "metadata": {},
   "outputs": [],
   "source": [
    "df_nuniques = [(col, tweet_df[col].nunique()) for col in tweet_df]"
   ]
  },
  {
   "cell_type": "markdown",
   "metadata": {},
   "source": [
    "The columns user_favorites contains 2 unique values, not really telling us much variability in the data"
   ]
  },
  {
   "cell_type": "code",
   "execution_count": 26,
   "metadata": {},
   "outputs": [
    {
     "data": {
      "text/plain": [
       "[('date_time', 2331),\n",
       " ('favorites', 1988),\n",
       " ('retweets', 1671),\n",
       " ('tweet_id', 2331),\n",
       " ('user_favourites', 3),\n",
       " ('user_followers', 34)]"
      ]
     },
     "execution_count": 26,
     "metadata": {},
     "output_type": "execute_result"
    }
   ],
   "source": [
    "df_nuniques"
   ]
  },
  {
   "cell_type": "code",
   "execution_count": 27,
   "metadata": {},
   "outputs": [
    {
     "data": {
      "image/png": "[encoded data removed]",
      "text/plain": [
       "<matplotlib.figure.Figure at 0x7f16ee2edef0>"
      ]
     },
     "metadata": {
      "needs_background": "light"
     },
     "output_type": "display_data"
    }
   ],
   "source": [
    "tweet_df.favorites.hist(range=(0,15000), bins=22, grid=False, alpha=0.4, label='Number of Favorites')\n",
    "tweet_df.retweets.hist(range = (0,15000), bins=22,grid=False, alpha=0.4, color='pink', label='Number of Retweets')\n",
    "plt.legend()\n",
    "plt.title('Distribution of Number of Retweets/Favorites')\n",
    "plt.xlabel('Number of Retweets/Favorites')\n",
    "plt.ylabel('Frequency');"
   ]
  },
  {
   "cell_type": "markdown",
   "metadata": {},
   "source": [
    "The retweet and favorties data follows a low lambda value of poisson distribution. However, the favorites data has a longer tail than the retweets meaning the value are generally higher. "
   ]
  },
  {
   "cell_type": "code",
   "execution_count": 28,
   "metadata": {},
   "outputs": [
    {
     "data": {
      "image/png": "[encoded data removed]",
      "text/plain": [
       "<matplotlib.figure.Figure at 0x7f16ee4b9ba8>"
      ]
     },
     "metadata": {
      "needs_background": "light"
     },
     "output_type": "display_data"
    }
   ],
   "source": [
    "#assess the most common prediction data visually\n",
    "df_image_pred.p1.value_counts()[:10].plot(kind='bar', color=sb.color_palette()[0])\n",
    "plt.ylabel('frequency')\n",
    "plt.title('Neural Network Prediction of Dog Breed');"
   ]
  },
  {
   "cell_type": "markdown",
   "metadata": {},
   "source": [
    "The top 3 dog breeds are golden_retriever, labrador_retriever, and pembroke. "
   ]
  },
  {
   "cell_type": "markdown",
   "metadata": {},
   "source": [
    "## Quality Issues\n",
    "\n",
    "**df_twitter_enhanced dataframe**\n",
    "\n",
    "> timestamp column needed to be datetime object instead of string\n",
    "\n",
    "> in_reply_to_status_id, in_reply_user_id, retweeted_status_id, retweeted_status_user_id should be int instead of float\n",
    "\n",
    "> datetime and timestamp columns are repeated\n",
    "\n",
    "> tweet text needed to be normalized in order to extract information from\n",
    "\n",
    "> gender column needed to be engineered in order to perform further analysis\n",
    "\n",
    "> tweet_length needed to be engineered in order to perform further analysis\n",
    "\n",
    "> source column needed to be clean to remove url information\n",
    "\n",
    "**df_image_pred dataframe**\n",
    "\n",
    "> p1, p2, p3 needed to be merged to one as well as p1_conf, p2_conf, p3_conf\n",
    "\n",
    "> p1_dog, p2_dog, p3_dog are not needed, we only need one most confident dog breed prediction instead of 3 values\n",
    "\n",
    "> img number are not needed since the model prediction result is in the file\n",
    "\n",
    "\n",
    "**df_api_data dataframe**\n",
    "\n",
    "> datetime column is string which should be converted to datetime\n",
    "\n",
    "> in_reply_to_user_id contains only one unique value, which does not explain any variability of the data, needed to be dropped\n",
    "\n",
    "## Tidiness Issues\n",
    "\n",
    "> 3 datasets needed to be merged\n",
    "\n",
    "> date_time data from the additional API data and timestamp from archive data are repeated\n",
    "\n",
    "> in image prediction data p1,p2,p3 and p1_conf, p2_conf, p3_conf needed to be merged \n",
    "\n",
    "\n"
   ]
  },
  {
   "cell_type": "markdown",
   "metadata": {},
   "source": [
    "## Cleaning"
   ]
  },
  {
   "cell_type": "markdown",
   "metadata": {},
   "source": [
    "#### Define\n",
    "\n",
    "The 3 datasets from different sources needed to be combined to perform further analysis"
   ]
  },
  {
   "cell_type": "markdown",
   "metadata": {},
   "source": [
    "#### Code"
   ]
  },
  {
   "cell_type": "code",
   "execution_count": 29,
   "metadata": {},
   "outputs": [],
   "source": [
    "#merge 3 datasets\n",
    "df_master = (df.merge(tweet_df,how = 'inner', on = 'tweet_id')).merge(df_image_pred,how='inner', on = 'tweet_id')"
   ]
  },
  {
   "cell_type": "markdown",
   "metadata": {},
   "source": [
    "#### Test"
   ]
  },
  {
   "cell_type": "code",
   "execution_count": 30,
   "metadata": {
    "scrolled": true
   },
   "outputs": [
    {
     "data": {
      "text/plain": [
       "Index(['tweet_id', 'in_reply_to_status_id', 'in_reply_to_user_id', 'timestamp',\n",
       "       'source', 'text', 'retweeted_status_id', 'retweeted_status_user_id',\n",
       "       'retweeted_status_timestamp', 'expanded_urls', 'rating_numerator',\n",
       "       'rating_denominator', 'name', 'doggo', 'floofer', 'pupper', 'puppo',\n",
       "       'date_time', 'favorites', 'retweets', 'user_favourites',\n",
       "       'user_followers', 'jpg_url', 'img_num', 'p1', 'p1_conf', 'p1_dog', 'p2',\n",
       "       'p2_conf', 'p2_dog', 'p3', 'p3_conf', 'p3_dog'],\n",
       "      dtype='object')"
      ]
     },
     "execution_count": 30,
     "metadata": {},
     "output_type": "execute_result"
    }
   ],
   "source": [
    "df_master.columns"
   ]
  },
  {
   "cell_type": "code",
   "execution_count": 31,
   "metadata": {},
   "outputs": [
    {
     "data": {
      "text/plain": [
       "(2059, 33)"
      ]
     },
     "execution_count": 31,
     "metadata": {},
     "output_type": "execute_result"
    }
   ],
   "source": [
    "df_master.shape"
   ]
  },
  {
   "cell_type": "markdown",
   "metadata": {},
   "source": [
    "#### Define\n",
    "\n",
    "The timestamp and datetime are identical and needed to be removed"
   ]
  },
  {
   "cell_type": "markdown",
   "metadata": {},
   "source": [
    "#### Code"
   ]
  },
  {
   "cell_type": "code",
   "execution_count": 32,
   "metadata": {},
   "outputs": [],
   "source": [
    "df_master['timestamp'] = pd.to_datetime(df_master['timestamp'])\n",
    "df_master['date_time'] = pd.to_datetime(df_master['date_time'])"
   ]
  },
  {
   "cell_type": "code",
   "execution_count": 33,
   "metadata": {},
   "outputs": [
    {
     "data": {
      "text/html": [
       "<div>\n",
       "<style scoped>\n",
       "    .dataframe tbody tr th:only-of-type {\n",
       "        vertical-align: middle;\n",
       "    }\n",
       "\n",
       "    .dataframe tbody tr th {\n",
       "        vertical-align: top;\n",
       "    }\n",
       "\n",
       "    .dataframe thead th {\n",
       "        text-align: right;\n",
       "    }\n",
       "</style>\n",
       "<table border=\"1\" class=\"dataframe\">\n",
       "  <thead>\n",
       "    <tr style=\"text-align: right;\">\n",
       "      <th></th>\n",
       "      <th>timestamp</th>\n",
       "      <th>date_time</th>\n",
       "    </tr>\n",
       "  </thead>\n",
       "  <tbody>\n",
       "    <tr>\n",
       "      <th>0</th>\n",
       "      <td>2017-08-01 16:23:56</td>\n",
       "      <td>2017-08-01 16:23:56</td>\n",
       "    </tr>\n",
       "    <tr>\n",
       "      <th>1</th>\n",
       "      <td>2017-08-01 00:17:27</td>\n",
       "      <td>2017-08-01 00:17:27</td>\n",
       "    </tr>\n",
       "    <tr>\n",
       "      <th>2</th>\n",
       "      <td>2017-07-31 00:18:03</td>\n",
       "      <td>2017-07-31 00:18:03</td>\n",
       "    </tr>\n",
       "    <tr>\n",
       "      <th>3</th>\n",
       "      <td>2017-07-30 15:58:51</td>\n",
       "      <td>2017-07-30 15:58:51</td>\n",
       "    </tr>\n",
       "    <tr>\n",
       "      <th>4</th>\n",
       "      <td>2017-07-29 16:00:24</td>\n",
       "      <td>2017-07-29 16:00:24</td>\n",
       "    </tr>\n",
       "  </tbody>\n",
       "</table>\n",
       "</div>"
      ],
      "text/plain": [
       "            timestamp           date_time\n",
       "0 2017-08-01 16:23:56 2017-08-01 16:23:56\n",
       "1 2017-08-01 00:17:27 2017-08-01 00:17:27\n",
       "2 2017-07-31 00:18:03 2017-07-31 00:18:03\n",
       "3 2017-07-30 15:58:51 2017-07-30 15:58:51\n",
       "4 2017-07-29 16:00:24 2017-07-29 16:00:24"
      ]
     },
     "execution_count": 33,
     "metadata": {},
     "output_type": "execute_result"
    }
   ],
   "source": [
    "df_master[['timestamp', 'date_time']].head()"
   ]
  },
  {
   "cell_type": "code",
   "execution_count": 34,
   "metadata": {
    "scrolled": false
   },
   "outputs": [
    {
     "data": {
      "text/html": [
       "<div>\n",
       "<style scoped>\n",
       "    .dataframe tbody tr th:only-of-type {\n",
       "        vertical-align: middle;\n",
       "    }\n",
       "\n",
       "    .dataframe tbody tr th {\n",
       "        vertical-align: top;\n",
       "    }\n",
       "\n",
       "    .dataframe thead th {\n",
       "        text-align: right;\n",
       "    }\n",
       "</style>\n",
       "<table border=\"1\" class=\"dataframe\">\n",
       "  <thead>\n",
       "    <tr style=\"text-align: right;\">\n",
       "      <th></th>\n",
       "      <th>tweet_id</th>\n",
       "      <th>in_reply_to_status_id</th>\n",
       "      <th>in_reply_to_user_id</th>\n",
       "      <th>timestamp</th>\n",
       "      <th>source</th>\n",
       "      <th>text</th>\n",
       "      <th>retweeted_status_id</th>\n",
       "      <th>retweeted_status_user_id</th>\n",
       "      <th>retweeted_status_timestamp</th>\n",
       "      <th>expanded_urls</th>\n",
       "      <th>...</th>\n",
       "      <th>img_num</th>\n",
       "      <th>p1</th>\n",
       "      <th>p1_conf</th>\n",
       "      <th>p1_dog</th>\n",
       "      <th>p2</th>\n",
       "      <th>p2_conf</th>\n",
       "      <th>p2_dog</th>\n",
       "      <th>p3</th>\n",
       "      <th>p3_conf</th>\n",
       "      <th>p3_dog</th>\n",
       "    </tr>\n",
       "  </thead>\n",
       "  <tbody>\n",
       "  </tbody>\n",
       "</table>\n",
       "<p>0 rows × 33 columns</p>\n",
       "</div>"
      ],
      "text/plain": [
       "Empty DataFrame\n",
       "Columns: [tweet_id, in_reply_to_status_id, in_reply_to_user_id, timestamp, source, text, retweeted_status_id, retweeted_status_user_id, retweeted_status_timestamp, expanded_urls, rating_numerator, rating_denominator, name, doggo, floofer, pupper, puppo, date_time, favorites, retweets, user_favourites, user_followers, jpg_url, img_num, p1, p1_conf, p1_dog, p2, p2_conf, p2_dog, p3, p3_conf, p3_dog]\n",
       "Index: []\n",
       "\n",
       "[0 rows x 33 columns]"
      ]
     },
     "execution_count": 34,
     "metadata": {},
     "output_type": "execute_result"
    }
   ],
   "source": [
    "df_master[df_master['timestamp'] != df_master['date_time']] #these are the same so we can drop one column"
   ]
  },
  {
   "cell_type": "code",
   "execution_count": 35,
   "metadata": {},
   "outputs": [],
   "source": [
    "df_master.drop(columns = 'timestamp', inplace=True)"
   ]
  },
  {
   "cell_type": "markdown",
   "metadata": {},
   "source": [
    "#### Test "
   ]
  },
  {
   "cell_type": "code",
   "execution_count": 36,
   "metadata": {},
   "outputs": [
    {
     "data": {
      "text/plain": [
       "(2059, 32)"
      ]
     },
     "execution_count": 36,
     "metadata": {},
     "output_type": "execute_result"
    }
   ],
   "source": [
    "df_master.shape #one less column due to dropped timestamp column"
   ]
  },
  {
   "cell_type": "markdown",
   "metadata": {},
   "source": [
    "#### Define\n",
    "\n",
    "p1,p2,p3 and p1_conf, p2_conf, and p3_conf needed to be selected based on whether the prediction is for dog's breed or not"
   ]
  },
  {
   "cell_type": "code",
   "execution_count": 37,
   "metadata": {},
   "outputs": [
    {
     "data": {
      "text/html": [
       "<div>\n",
       "<style scoped>\n",
       "    .dataframe tbody tr th:only-of-type {\n",
       "        vertical-align: middle;\n",
       "    }\n",
       "\n",
       "    .dataframe tbody tr th {\n",
       "        vertical-align: top;\n",
       "    }\n",
       "\n",
       "    .dataframe thead th {\n",
       "        text-align: right;\n",
       "    }\n",
       "</style>\n",
       "<table border=\"1\" class=\"dataframe\">\n",
       "  <thead>\n",
       "    <tr style=\"text-align: right;\">\n",
       "      <th></th>\n",
       "      <th>img_num</th>\n",
       "      <th>p1</th>\n",
       "      <th>p1_conf</th>\n",
       "      <th>p1_dog</th>\n",
       "      <th>p2</th>\n",
       "      <th>p2_conf</th>\n",
       "      <th>p2_dog</th>\n",
       "      <th>p3</th>\n",
       "      <th>p3_conf</th>\n",
       "      <th>p3_dog</th>\n",
       "    </tr>\n",
       "  </thead>\n",
       "  <tbody>\n",
       "    <tr>\n",
       "      <th>0</th>\n",
       "      <td>1</td>\n",
       "      <td>orange</td>\n",
       "      <td>0.097049</td>\n",
       "      <td>False</td>\n",
       "      <td>bagel</td>\n",
       "      <td>0.085851</td>\n",
       "      <td>False</td>\n",
       "      <td>banana</td>\n",
       "      <td>0.076110</td>\n",
       "      <td>False</td>\n",
       "    </tr>\n",
       "    <tr>\n",
       "      <th>1</th>\n",
       "      <td>1</td>\n",
       "      <td>Chihuahua</td>\n",
       "      <td>0.323581</td>\n",
       "      <td>True</td>\n",
       "      <td>Pekinese</td>\n",
       "      <td>0.090647</td>\n",
       "      <td>True</td>\n",
       "      <td>papillon</td>\n",
       "      <td>0.068957</td>\n",
       "      <td>True</td>\n",
       "    </tr>\n",
       "    <tr>\n",
       "      <th>2</th>\n",
       "      <td>1</td>\n",
       "      <td>Chihuahua</td>\n",
       "      <td>0.716012</td>\n",
       "      <td>True</td>\n",
       "      <td>malamute</td>\n",
       "      <td>0.078253</td>\n",
       "      <td>True</td>\n",
       "      <td>kelpie</td>\n",
       "      <td>0.031379</td>\n",
       "      <td>True</td>\n",
       "    </tr>\n",
       "    <tr>\n",
       "      <th>3</th>\n",
       "      <td>1</td>\n",
       "      <td>paper_towel</td>\n",
       "      <td>0.170278</td>\n",
       "      <td>False</td>\n",
       "      <td>Labrador_retriever</td>\n",
       "      <td>0.168086</td>\n",
       "      <td>True</td>\n",
       "      <td>spatula</td>\n",
       "      <td>0.040836</td>\n",
       "      <td>False</td>\n",
       "    </tr>\n",
       "    <tr>\n",
       "      <th>4</th>\n",
       "      <td>2</td>\n",
       "      <td>basset</td>\n",
       "      <td>0.555712</td>\n",
       "      <td>True</td>\n",
       "      <td>English_springer</td>\n",
       "      <td>0.225770</td>\n",
       "      <td>True</td>\n",
       "      <td>German_short-haired_pointer</td>\n",
       "      <td>0.175219</td>\n",
       "      <td>True</td>\n",
       "    </tr>\n",
       "  </tbody>\n",
       "</table>\n",
       "</div>"
      ],
      "text/plain": [
       "   img_num           p1   p1_conf  p1_dog                  p2   p2_conf  \\\n",
       "0        1       orange  0.097049   False               bagel  0.085851   \n",
       "1        1    Chihuahua  0.323581    True            Pekinese  0.090647   \n",
       "2        1    Chihuahua  0.716012    True            malamute  0.078253   \n",
       "3        1  paper_towel  0.170278   False  Labrador_retriever  0.168086   \n",
       "4        2       basset  0.555712    True    English_springer  0.225770   \n",
       "\n",
       "   p2_dog                           p3   p3_conf  p3_dog  \n",
       "0   False                       banana  0.076110   False  \n",
       "1    True                     papillon  0.068957    True  \n",
       "2    True                       kelpie  0.031379    True  \n",
       "3    True                      spatula  0.040836   False  \n",
       "4    True  German_short-haired_pointer  0.175219    True  "
      ]
     },
     "execution_count": 37,
     "metadata": {},
     "output_type": "execute_result"
    }
   ],
   "source": [
    "df_master.iloc[:,22:].head()"
   ]
  },
  {
   "cell_type": "markdown",
   "metadata": {},
   "source": [
    "#### Code"
   ]
  },
  {
   "cell_type": "code",
   "execution_count": 38,
   "metadata": {},
   "outputs": [],
   "source": [
    "def prediction_confidence(df):\n",
    "    predictions = []\n",
    "    confidences = []\n",
    "    for i in range(len(df_master)):\n",
    "        if df.iloc[i,:]['p1_dog'] == True:\n",
    "            predictions.append(df.iloc[i,:]['p1'])\n",
    "            confidences.append(df.iloc[i,:]['p1_conf'])\n",
    "        elif df.iloc[i,:]['p2_dog'] == True:\n",
    "            predictions.append(df.iloc[i,:]['p2'])\n",
    "            confidences.append(df.iloc[i,:]['p2_conf'])\n",
    "        elif df.iloc[i,:]['p3_dog'] == True:\n",
    "            predictions.append(df.iloc[i,:]['p3'])\n",
    "            confidences.append(df.iloc[i,:]['p3_conf'])\n",
    "        else:\n",
    "            predictions.append(np.nan)\n",
    "            confidences.append(0)\n",
    "    return predictions, confidences"
   ]
  },
  {
   "cell_type": "code",
   "execution_count": 39,
   "metadata": {},
   "outputs": [],
   "source": [
    "predictions, confidences = prediction_confidence(df_master)"
   ]
  },
  {
   "cell_type": "code",
   "execution_count": 40,
   "metadata": {},
   "outputs": [],
   "source": [
    "df_master['predictions'] = predictions\n",
    "df_master['confidences'] = confidences"
   ]
  },
  {
   "cell_type": "code",
   "execution_count": 41,
   "metadata": {},
   "outputs": [],
   "source": [
    "df_master = df_master.drop(columns = ['p1','p2','p3','p1_conf','p2_conf','p3_conf','p1_dog','p2_dog','p3_dog'])"
   ]
  },
  {
   "cell_type": "markdown",
   "metadata": {},
   "source": [
    "#### Test "
   ]
  },
  {
   "cell_type": "code",
   "execution_count": 42,
   "metadata": {
    "scrolled": true
   },
   "outputs": [
    {
     "data": {
      "text/html": [
       "<div>\n",
       "<style scoped>\n",
       "    .dataframe tbody tr th:only-of-type {\n",
       "        vertical-align: middle;\n",
       "    }\n",
       "\n",
       "    .dataframe tbody tr th {\n",
       "        vertical-align: top;\n",
       "    }\n",
       "\n",
       "    .dataframe thead th {\n",
       "        text-align: right;\n",
       "    }\n",
       "</style>\n",
       "<table border=\"1\" class=\"dataframe\">\n",
       "  <thead>\n",
       "    <tr style=\"text-align: right;\">\n",
       "      <th></th>\n",
       "      <th>tweet_id</th>\n",
       "      <th>in_reply_to_status_id</th>\n",
       "      <th>in_reply_to_user_id</th>\n",
       "      <th>source</th>\n",
       "      <th>text</th>\n",
       "      <th>retweeted_status_id</th>\n",
       "      <th>retweeted_status_user_id</th>\n",
       "      <th>retweeted_status_timestamp</th>\n",
       "      <th>expanded_urls</th>\n",
       "      <th>rating_numerator</th>\n",
       "      <th>...</th>\n",
       "      <th>puppo</th>\n",
       "      <th>date_time</th>\n",
       "      <th>favorites</th>\n",
       "      <th>retweets</th>\n",
       "      <th>user_favourites</th>\n",
       "      <th>user_followers</th>\n",
       "      <th>jpg_url</th>\n",
       "      <th>img_num</th>\n",
       "      <th>predictions</th>\n",
       "      <th>confidences</th>\n",
       "    </tr>\n",
       "  </thead>\n",
       "  <tbody>\n",
       "    <tr>\n",
       "      <th>0</th>\n",
       "      <td>892420643555336193</td>\n",
       "      <td>NaN</td>\n",
       "      <td>NaN</td>\n",
       "      <td>&lt;a href=\"http://twitter.com/download/iphone\" r...</td>\n",
       "      <td>This is Phineas. He's a mystical boy. Only eve...</td>\n",
       "      <td>NaN</td>\n",
       "      <td>NaN</td>\n",
       "      <td>NaN</td>\n",
       "      <td>https://twitter.com/dog_rates/status/892420643...</td>\n",
       "      <td>13</td>\n",
       "      <td>...</td>\n",
       "      <td>None</td>\n",
       "      <td>2017-08-01 16:23:56</td>\n",
       "      <td>35251</td>\n",
       "      <td>7434</td>\n",
       "      <td>146211</td>\n",
       "      <td>8943067</td>\n",
       "      <td>https://pbs.twimg.com/media/DGKD1-bXoAAIAUK.jpg</td>\n",
       "      <td>1</td>\n",
       "      <td>NaN</td>\n",
       "      <td>0.000000</td>\n",
       "    </tr>\n",
       "    <tr>\n",
       "      <th>1</th>\n",
       "      <td>892177421306343426</td>\n",
       "      <td>NaN</td>\n",
       "      <td>NaN</td>\n",
       "      <td>&lt;a href=\"http://twitter.com/download/iphone\" r...</td>\n",
       "      <td>This is Tilly. She's just checking pup on you....</td>\n",
       "      <td>NaN</td>\n",
       "      <td>NaN</td>\n",
       "      <td>NaN</td>\n",
       "      <td>https://twitter.com/dog_rates/status/892177421...</td>\n",
       "      <td>13</td>\n",
       "      <td>...</td>\n",
       "      <td>None</td>\n",
       "      <td>2017-08-01 00:17:27</td>\n",
       "      <td>30517</td>\n",
       "      <td>5529</td>\n",
       "      <td>146211</td>\n",
       "      <td>8943067</td>\n",
       "      <td>https://pbs.twimg.com/media/DGGmoV4XsAAUL6n.jpg</td>\n",
       "      <td>1</td>\n",
       "      <td>Chihuahua</td>\n",
       "      <td>0.323581</td>\n",
       "    </tr>\n",
       "    <tr>\n",
       "      <th>2</th>\n",
       "      <td>891815181378084864</td>\n",
       "      <td>NaN</td>\n",
       "      <td>NaN</td>\n",
       "      <td>&lt;a href=\"http://twitter.com/download/iphone\" r...</td>\n",
       "      <td>This is Archie. He is a rare Norwegian Pouncin...</td>\n",
       "      <td>NaN</td>\n",
       "      <td>NaN</td>\n",
       "      <td>NaN</td>\n",
       "      <td>https://twitter.com/dog_rates/status/891815181...</td>\n",
       "      <td>12</td>\n",
       "      <td>...</td>\n",
       "      <td>None</td>\n",
       "      <td>2017-07-31 00:18:03</td>\n",
       "      <td>22944</td>\n",
       "      <td>3648</td>\n",
       "      <td>146211</td>\n",
       "      <td>8943067</td>\n",
       "      <td>https://pbs.twimg.com/media/DGBdLU1WsAANxJ9.jpg</td>\n",
       "      <td>1</td>\n",
       "      <td>Chihuahua</td>\n",
       "      <td>0.716012</td>\n",
       "    </tr>\n",
       "    <tr>\n",
       "      <th>3</th>\n",
       "      <td>891689557279858688</td>\n",
       "      <td>NaN</td>\n",
       "      <td>NaN</td>\n",
       "      <td>&lt;a href=\"http://twitter.com/download/iphone\" r...</td>\n",
       "      <td>This is Darla. She commenced a snooze mid meal...</td>\n",
       "      <td>NaN</td>\n",
       "      <td>NaN</td>\n",
       "      <td>NaN</td>\n",
       "      <td>https://twitter.com/dog_rates/status/891689557...</td>\n",
       "      <td>13</td>\n",
       "      <td>...</td>\n",
       "      <td>None</td>\n",
       "      <td>2017-07-30 15:58:51</td>\n",
       "      <td>38538</td>\n",
       "      <td>7612</td>\n",
       "      <td>146211</td>\n",
       "      <td>8943067</td>\n",
       "      <td>https://pbs.twimg.com/media/DF_q7IAWsAEuuN8.jpg</td>\n",
       "      <td>1</td>\n",
       "      <td>Labrador_retriever</td>\n",
       "      <td>0.168086</td>\n",
       "    </tr>\n",
       "    <tr>\n",
       "      <th>4</th>\n",
       "      <td>891327558926688256</td>\n",
       "      <td>NaN</td>\n",
       "      <td>NaN</td>\n",
       "      <td>&lt;a href=\"http://twitter.com/download/iphone\" r...</td>\n",
       "      <td>This is Franklin. He would like you to stop ca...</td>\n",
       "      <td>NaN</td>\n",
       "      <td>NaN</td>\n",
       "      <td>NaN</td>\n",
       "      <td>https://twitter.com/dog_rates/status/891327558...</td>\n",
       "      <td>12</td>\n",
       "      <td>...</td>\n",
       "      <td>None</td>\n",
       "      <td>2017-07-29 16:00:24</td>\n",
       "      <td>36814</td>\n",
       "      <td>8193</td>\n",
       "      <td>146211</td>\n",
       "      <td>8943067</td>\n",
       "      <td>https://pbs.twimg.com/media/DF6hr6BUMAAzZgT.jpg</td>\n",
       "      <td>2</td>\n",
       "      <td>basset</td>\n",
       "      <td>0.555712</td>\n",
       "    </tr>\n",
       "  </tbody>\n",
       "</table>\n",
       "<p>5 rows × 25 columns</p>\n",
       "</div>"
      ],
      "text/plain": [
       "             tweet_id  in_reply_to_status_id  in_reply_to_user_id  \\\n",
       "0  892420643555336193                    NaN                  NaN   \n",
       "1  892177421306343426                    NaN                  NaN   \n",
       "2  891815181378084864                    NaN                  NaN   \n",
       "3  891689557279858688                    NaN                  NaN   \n",
       "4  891327558926688256                    NaN                  NaN   \n",
       "\n",
       "                                              source  \\\n",
       "0  <a href=\"http://twitter.com/download/iphone\" r...   \n",
       "1  <a href=\"http://twitter.com/download/iphone\" r...   \n",
       "2  <a href=\"http://twitter.com/download/iphone\" r...   \n",
       "3  <a href=\"http://twitter.com/download/iphone\" r...   \n",
       "4  <a href=\"http://twitter.com/download/iphone\" r...   \n",
       "\n",
       "                                                text  retweeted_status_id  \\\n",
       "0  This is Phineas. He's a mystical boy. Only eve...                  NaN   \n",
       "1  This is Tilly. She's just checking pup on you....                  NaN   \n",
       "2  This is Archie. He is a rare Norwegian Pouncin...                  NaN   \n",
       "3  This is Darla. She commenced a snooze mid meal...                  NaN   \n",
       "4  This is Franklin. He would like you to stop ca...                  NaN   \n",
       "\n",
       "   retweeted_status_user_id retweeted_status_timestamp  \\\n",
       "0                       NaN                        NaN   \n",
       "1                       NaN                        NaN   \n",
       "2                       NaN                        NaN   \n",
       "3                       NaN                        NaN   \n",
       "4                       NaN                        NaN   \n",
       "\n",
       "                                       expanded_urls  rating_numerator  \\\n",
       "0  https://twitter.com/dog_rates/status/892420643...                13   \n",
       "1  https://twitter.com/dog_rates/status/892177421...                13   \n",
       "2  https://twitter.com/dog_rates/status/891815181...                12   \n",
       "3  https://twitter.com/dog_rates/status/891689557...                13   \n",
       "4  https://twitter.com/dog_rates/status/891327558...                12   \n",
       "\n",
       "      ...       puppo           date_time favorites retweets user_favourites  \\\n",
       "0     ...        None 2017-08-01 16:23:56     35251     7434          146211   \n",
       "1     ...        None 2017-08-01 00:17:27     30517     5529          146211   \n",
       "2     ...        None 2017-07-31 00:18:03     22944     3648          146211   \n",
       "3     ...        None 2017-07-30 15:58:51     38538     7612          146211   \n",
       "4     ...        None 2017-07-29 16:00:24     36814     8193          146211   \n",
       "\n",
       "  user_followers                                          jpg_url  img_num  \\\n",
       "0        8943067  https://pbs.twimg.com/media/DGKD1-bXoAAIAUK.jpg        1   \n",
       "1        8943067  https://pbs.twimg.com/media/DGGmoV4XsAAUL6n.jpg        1   \n",
       "2        8943067  https://pbs.twimg.com/media/DGBdLU1WsAANxJ9.jpg        1   \n",
       "3        8943067  https://pbs.twimg.com/media/DF_q7IAWsAEuuN8.jpg        1   \n",
       "4        8943067  https://pbs.twimg.com/media/DF6hr6BUMAAzZgT.jpg        2   \n",
       "\n",
       "          predictions  confidences  \n",
       "0                 NaN     0.000000  \n",
       "1           Chihuahua     0.323581  \n",
       "2           Chihuahua     0.716012  \n",
       "3  Labrador_retriever     0.168086  \n",
       "4              basset     0.555712  \n",
       "\n",
       "[5 rows x 25 columns]"
      ]
     },
     "execution_count": 42,
     "metadata": {},
     "output_type": "execute_result"
    }
   ],
   "source": [
    "df_master.head()"
   ]
  },
  {
   "cell_type": "markdown",
   "metadata": {},
   "source": [
    "#### Define \n",
    "\n",
    "Source column needed to be clean to extract the tweet source"
   ]
  },
  {
   "cell_type": "code",
   "execution_count": 43,
   "metadata": {},
   "outputs": [
    {
     "data": {
      "text/plain": [
       "'<a href=\"http://twitter.com/download/iphone\" rel=\"nofollow\">Twitter for iPhone</a>'"
      ]
     },
     "execution_count": 43,
     "metadata": {},
     "output_type": "execute_result"
    }
   ],
   "source": [
    "df_master['source'][0]"
   ]
  },
  {
   "cell_type": "markdown",
   "metadata": {},
   "source": [
    "#### Code"
   ]
  },
  {
   "cell_type": "code",
   "execution_count": 44,
   "metadata": {},
   "outputs": [],
   "source": [
    "df_master['source'] = df_master['source'].apply(lambda source : re.findall(pattern = '>(.*)<',string = source)[0])"
   ]
  },
  {
   "cell_type": "markdown",
   "metadata": {},
   "source": [
    "#### Test"
   ]
  },
  {
   "cell_type": "code",
   "execution_count": 45,
   "metadata": {},
   "outputs": [
    {
     "data": {
      "text/plain": [
       "Twitter for iPhone    2019\n",
       "Twitter Web Client      30\n",
       "TweetDeck               10\n",
       "Name: source, dtype: int64"
      ]
     },
     "execution_count": 45,
     "metadata": {},
     "output_type": "execute_result"
    }
   ],
   "source": [
    "df_master.source.value_counts()"
   ]
  },
  {
   "cell_type": "markdown",
   "metadata": {},
   "source": [
    "Most source are from iPhone and less than 3 percent comes from either webclient or tweetdeck(for multipl accounts management),\n",
    "makes me question whether if the tweet is from Andriod is that grouped together with \"Twitter for iPhone\" category?"
   ]
  },
  {
   "cell_type": "markdown",
   "metadata": {},
   "source": [
    "#### Define\n",
    "\n",
    "Twitter text needed to be normalized and process in order to perform further analysis"
   ]
  },
  {
   "cell_type": "markdown",
   "metadata": {},
   "source": [
    "#### Code"
   ]
  },
  {
   "cell_type": "markdown",
   "metadata": {},
   "source": [
    "Basic Natural Langauge Process Pipeline, from normalizing, splitting, stop word removing, and lemmatizing(stemming).\\"
   ]
  },
  {
   "cell_type": "code",
   "execution_count": 46,
   "metadata": {},
   "outputs": [],
   "source": [
    "def normalized_text(text):\n",
    "    normalized_text = re.sub(r\"[^a-zA-Z0-9]\", \" \", text.lower())\n",
    "    return normalized_text"
   ]
  },
  {
   "cell_type": "code",
   "execution_count": 47,
   "metadata": {},
   "outputs": [],
   "source": [
    "def split_text(text):\n",
    "    splited_text = text.split()\n",
    "    return splited_text"
   ]
  },
  {
   "cell_type": "code",
   "execution_count": 48,
   "metadata": {},
   "outputs": [],
   "source": [
    "def remove_stop_words(text):\n",
    "    if text not in stopwords.words(\"english\"):\n",
    "        return text"
   ]
  },
  {
   "cell_type": "code",
   "execution_count": 49,
   "metadata": {},
   "outputs": [],
   "source": [
    "def lemmatization(text):\n",
    "    clean_text = WordNetLemmatizer().lemmatize(text) \n",
    "    return clean_text"
   ]
  },
  {
   "cell_type": "code",
   "execution_count": 50,
   "metadata": {},
   "outputs": [],
   "source": [
    "normalized_texts = df_master.text.apply(normalized_text).apply(split_text).apply(remove_stop_words)"
   ]
  },
  {
   "cell_type": "code",
   "execution_count": 51,
   "metadata": {},
   "outputs": [],
   "source": [
    "sentences = []\n",
    "for i in range(len(normalized_texts)):\n",
    "    words = [WordNetLemmatizer().lemmatize(w) for w in normalized_texts[i]]\n",
    "    sentences.append(words)"
   ]
  },
  {
   "cell_type": "code",
   "execution_count": 52,
   "metadata": {},
   "outputs": [],
   "source": [
    "df_master['text'] = sentences"
   ]
  },
  {
   "cell_type": "markdown",
   "metadata": {},
   "source": [
    "#### Test"
   ]
  },
  {
   "cell_type": "code",
   "execution_count": 53,
   "metadata": {
    "scrolled": true
   },
   "outputs": [
    {
     "data": {
      "text/plain": [
       "0    [this, is, phineas, he, s, a, mystical, boy, o...\n",
       "1    [this, is, tilly, she, s, just, checking, pup,...\n",
       "2    [this, is, archie, he, is, a, rare, norwegian,...\n",
       "3    [this, is, darla, she, commenced, a, snooze, m...\n",
       "4    [this, is, franklin, he, would, like, you, to,...\n",
       "Name: text, dtype: object"
      ]
     },
     "execution_count": 53,
     "metadata": {},
     "output_type": "execute_result"
    }
   ],
   "source": [
    "df_master['text'].head()"
   ]
  },
  {
   "cell_type": "markdown",
   "metadata": {},
   "source": [
    "#### Define\n",
    "\n",
    "Gender column needed to be engineered to perform further analysis\n",
    "\n",
    "If the tweet contains any of the pronouns category, it will be assign that particular gender."
   ]
  },
  {
   "cell_type": "markdown",
   "metadata": {},
   "source": [
    "#### Code"
   ]
  },
  {
   "cell_type": "code",
   "execution_count": 54,
   "metadata": {},
   "outputs": [],
   "source": [
    "#categorize gender\n",
    "\n",
    "male_pronouns = ['he','him',\"he's\", 'himself','himself.','his','He','boy',\"He's\",'boy.', 'His','boy?']\n",
    "female_pronous = ['She','she','her',\"she's\", 'herself', \"She's\",'girl','girl.','Her','girl?']\n",
    "unknown_pronous = ['It','it','they','them','They','dog','it.','them.','dogs.', \"it's\", 'this','dog.','This','this']"
   ]
  },
  {
   "cell_type": "code",
   "execution_count": 55,
   "metadata": {},
   "outputs": [],
   "source": [
    "genders = []\n",
    "for i in df_master.text:\n",
    "    if len(set(male_pronouns).intersection(set(i))) > 0:\n",
    "        gender = 'male'\n",
    "    elif len(set(female_pronous).intersection(set(i))) > 0:\n",
    "        gender = 'female'\n",
    "    elif len(set(unknown_pronous).intersection(set(i))) > 0:\n",
    "        gender = 'unknown'\n",
    "    else:\n",
    "        gender = np.nan\n",
    "        \n",
    "    genders.append(gender)"
   ]
  },
  {
   "cell_type": "code",
   "execution_count": 56,
   "metadata": {},
   "outputs": [],
   "source": [
    "df_master['gender'] = genders"
   ]
  },
  {
   "cell_type": "markdown",
   "metadata": {},
   "source": [
    "There are about 10 percent of the data that we did not capture and many tweets do not have any information about dog's gender"
   ]
  },
  {
   "cell_type": "code",
   "execution_count": 57,
   "metadata": {},
   "outputs": [
    {
     "data": {
      "text/plain": [
       "228"
      ]
     },
     "execution_count": 57,
     "metadata": {},
     "output_type": "execute_result"
    }
   ],
   "source": [
    "df_master.gender.isnull().sum()"
   ]
  },
  {
   "cell_type": "markdown",
   "metadata": {},
   "source": [
    "#### Test \n",
    "\n"
   ]
  },
  {
   "cell_type": "code",
   "execution_count": 58,
   "metadata": {},
   "outputs": [
    {
     "data": {
      "text/plain": [
       "0      male\n",
       "1    female\n",
       "2      male\n",
       "3    female\n",
       "4      male\n",
       "Name: gender, dtype: object"
      ]
     },
     "execution_count": 58,
     "metadata": {},
     "output_type": "execute_result"
    }
   ],
   "source": [
    "df_master.gender.head()"
   ]
  },
  {
   "cell_type": "markdown",
   "metadata": {},
   "source": [
    "#### Define\n",
    "Engineered tweet length feature for further analysis"
   ]
  },
  {
   "cell_type": "code",
   "execution_count": 59,
   "metadata": {},
   "outputs": [
    {
     "data": {
      "text/plain": [
       "(2059, 26)"
      ]
     },
     "execution_count": 59,
     "metadata": {},
     "output_type": "execute_result"
    }
   ],
   "source": [
    "df_master.shape"
   ]
  },
  {
   "cell_type": "code",
   "execution_count": 60,
   "metadata": {},
   "outputs": [
    {
     "data": {
      "text/plain": [
       "Index(['tweet_id', 'in_reply_to_status_id', 'in_reply_to_user_id', 'source',\n",
       "       'text', 'retweeted_status_id', 'retweeted_status_user_id',\n",
       "       'retweeted_status_timestamp', 'expanded_urls', 'rating_numerator',\n",
       "       'rating_denominator', 'name', 'doggo', 'floofer', 'pupper', 'puppo',\n",
       "       'date_time', 'favorites', 'retweets', 'user_favourites',\n",
       "       'user_followers', 'jpg_url', 'img_num', 'predictions', 'confidences',\n",
       "       'gender'],\n",
       "      dtype='object')"
      ]
     },
     "execution_count": 60,
     "metadata": {},
     "output_type": "execute_result"
    }
   ],
   "source": [
    "df_master.columns"
   ]
  },
  {
   "cell_type": "markdown",
   "metadata": {},
   "source": [
    "#### Code"
   ]
  },
  {
   "cell_type": "code",
   "execution_count": 61,
   "metadata": {},
   "outputs": [],
   "source": [
    "df_master['tweet_length'] = [len(i) for i in df_master.text]   "
   ]
  },
  {
   "cell_type": "markdown",
   "metadata": {},
   "source": [
    "#### Test"
   ]
  },
  {
   "cell_type": "code",
   "execution_count": 62,
   "metadata": {
    "scrolled": true
   },
   "outputs": [
    {
     "data": {
      "image/png": "[encoded data removed]",
      "text/plain": [
       "<matplotlib.figure.Figure at 0x7f16ee27a7f0>"
      ]
     },
     "metadata": {
      "needs_background": "light"
     },
     "output_type": "display_data"
    }
   ],
   "source": [
    "df_master.tweet_length.hist(grid=False)\n",
    "plt.title('Distribution of Tweet Length (word)')\n",
    "plt.ylabel('Frequency')\n",
    "plt.xlabel('Number of Word');"
   ]
  },
  {
   "cell_type": "markdown",
   "metadata": {},
   "source": [
    "The distribution seems to make sense. Majority of the tweets are about 25 words ranging from 15-30 words"
   ]
  },
  {
   "cell_type": "code",
   "execution_count": 63,
   "metadata": {},
   "outputs": [
    {
     "data": {
      "text/plain": [
       "Index(['tweet_id', 'in_reply_to_status_id', 'in_reply_to_user_id', 'source',\n",
       "       'text', 'retweeted_status_id', 'retweeted_status_user_id',\n",
       "       'retweeted_status_timestamp', 'expanded_urls', 'rating_numerator',\n",
       "       'rating_denominator', 'name', 'doggo', 'floofer', 'pupper', 'puppo',\n",
       "       'date_time', 'favorites', 'retweets', 'user_favourites',\n",
       "       'user_followers', 'jpg_url', 'img_num', 'predictions', 'confidences',\n",
       "       'gender', 'tweet_length'],\n",
       "      dtype='object')"
      ]
     },
     "execution_count": 63,
     "metadata": {},
     "output_type": "execute_result"
    }
   ],
   "source": [
    "df_master.columns"
   ]
  },
  {
   "cell_type": "markdown",
   "metadata": {},
   "source": [
    "Check for null-values, seems like the first 5 columns almost entire columns as null -values, we might consider drop these"
   ]
  },
  {
   "cell_type": "code",
   "execution_count": 64,
   "metadata": {},
   "outputs": [
    {
     "data": {
      "text/plain": [
       "in_reply_to_status_id         2036\n",
       "in_reply_to_user_id           2036\n",
       "retweeted_status_id           1987\n",
       "retweeted_status_user_id      1987\n",
       "retweeted_status_timestamp    1987\n",
       "predictions                    322\n",
       "gender                         228\n",
       "tweet_length                     0\n",
       "name                             0\n",
       "source                           0\n",
       "dtype: int64"
      ]
     },
     "execution_count": 64,
     "metadata": {},
     "output_type": "execute_result"
    }
   ],
   "source": [
    "df_master.isnull().sum().sort_values(ascending=False)[:10]"
   ]
  },
  {
   "cell_type": "code",
   "execution_count": 65,
   "metadata": {
    "scrolled": true
   },
   "outputs": [
    {
     "data": {
      "text/plain": [
       "8943108    285\n",
       "8943144    209\n",
       "8943069    201\n",
       "8943111    173\n",
       "8943066    145\n",
       "Name: user_followers, dtype: int64"
      ]
     },
     "execution_count": 65,
     "metadata": {},
     "output_type": "execute_result"
    }
   ],
   "source": [
    "df_master.user_followers.value_counts().head()"
   ]
  },
  {
   "cell_type": "markdown",
   "metadata": {},
   "source": [
    "Does not seems like these retweet_status_timestamp is giving us any information. However, we still need to check other columns"
   ]
  },
  {
   "cell_type": "code",
   "execution_count": 66,
   "metadata": {},
   "outputs": [
    {
     "data": {
      "text/html": [
       "<div>\n",
       "<style scoped>\n",
       "    .dataframe tbody tr th:only-of-type {\n",
       "        vertical-align: middle;\n",
       "    }\n",
       "\n",
       "    .dataframe tbody tr th {\n",
       "        vertical-align: top;\n",
       "    }\n",
       "\n",
       "    .dataframe thead th {\n",
       "        text-align: right;\n",
       "    }\n",
       "</style>\n",
       "<table border=\"1\" class=\"dataframe\">\n",
       "  <thead>\n",
       "    <tr style=\"text-align: right;\">\n",
       "      <th></th>\n",
       "      <th>tweet_id</th>\n",
       "      <th>in_reply_to_status_id</th>\n",
       "      <th>in_reply_to_user_id</th>\n",
       "      <th>source</th>\n",
       "      <th>text</th>\n",
       "      <th>retweeted_status_id</th>\n",
       "      <th>retweeted_status_user_id</th>\n",
       "      <th>retweeted_status_timestamp</th>\n",
       "      <th>expanded_urls</th>\n",
       "      <th>rating_numerator</th>\n",
       "      <th>...</th>\n",
       "      <th>favorites</th>\n",
       "      <th>retweets</th>\n",
       "      <th>user_favourites</th>\n",
       "      <th>user_followers</th>\n",
       "      <th>jpg_url</th>\n",
       "      <th>img_num</th>\n",
       "      <th>predictions</th>\n",
       "      <th>confidences</th>\n",
       "      <th>gender</th>\n",
       "      <th>tweet_length</th>\n",
       "    </tr>\n",
       "  </thead>\n",
       "  <tbody>\n",
       "    <tr>\n",
       "      <th>32</th>\n",
       "      <td>885311592912609280</td>\n",
       "      <td>NaN</td>\n",
       "      <td>NaN</td>\n",
       "      <td>Twitter for iPhone</td>\n",
       "      <td>[rt, dog, rate, this, is, lilly, she, just, pa...</td>\n",
       "      <td>8.305833e+17</td>\n",
       "      <td>4.196984e+09</td>\n",
       "      <td>2017-02-12 01:04:29 +0000</td>\n",
       "      <td>https://twitter.com/dog_rates/status/830583320...</td>\n",
       "      <td>13</td>\n",
       "      <td>...</td>\n",
       "      <td>0</td>\n",
       "      <td>16291</td>\n",
       "      <td>146211</td>\n",
       "      <td>8943066</td>\n",
       "      <td>https://pbs.twimg.com/media/C4bTH6nWMAAX_bJ.jpg</td>\n",
       "      <td>1</td>\n",
       "      <td>Labrador_retriever</td>\n",
       "      <td>0.908703</td>\n",
       "      <td>female</td>\n",
       "      <td>25</td>\n",
       "    </tr>\n",
       "    <tr>\n",
       "      <th>67</th>\n",
       "      <td>877611172832227328</td>\n",
       "      <td>NaN</td>\n",
       "      <td>NaN</td>\n",
       "      <td>Twitter for iPhone</td>\n",
       "      <td>[rt, rachel2195, dog, rate, the, boyfriend, an...</td>\n",
       "      <td>8.768508e+17</td>\n",
       "      <td>5.128045e+08</td>\n",
       "      <td>2017-06-19 17:14:49 +0000</td>\n",
       "      <td>https://twitter.com/rachel2195/status/87685077...</td>\n",
       "      <td>14</td>\n",
       "      <td>...</td>\n",
       "      <td>0</td>\n",
       "      <td>71</td>\n",
       "      <td>146211</td>\n",
       "      <td>8943066</td>\n",
       "      <td>https://pbs.twimg.com/media/DCszHgmW0AAmIpT.jpg</td>\n",
       "      <td>1</td>\n",
       "      <td>Irish_setter</td>\n",
       "      <td>0.364729</td>\n",
       "      <td>male</td>\n",
       "      <td>23</td>\n",
       "    </tr>\n",
       "    <tr>\n",
       "      <th>107</th>\n",
       "      <td>867072653475098625</td>\n",
       "      <td>NaN</td>\n",
       "      <td>NaN</td>\n",
       "      <td>Twitter for iPhone</td>\n",
       "      <td>[rt, rachaeleasler, these, dog, rate, hat, are...</td>\n",
       "      <td>8.650134e+17</td>\n",
       "      <td>7.874618e+17</td>\n",
       "      <td>2017-05-18 01:17:25 +0000</td>\n",
       "      <td>https://twitter.com/rachaeleasler/status/86501...</td>\n",
       "      <td>13</td>\n",
       "      <td>...</td>\n",
       "      <td>0</td>\n",
       "      <td>108</td>\n",
       "      <td>146211</td>\n",
       "      <td>8943067</td>\n",
       "      <td>https://pbs.twimg.com/media/DAElHfmUMAEH9lB.jpg</td>\n",
       "      <td>1</td>\n",
       "      <td>Blenheim_spaniel</td>\n",
       "      <td>0.352946</td>\n",
       "      <td>unknown</td>\n",
       "      <td>15</td>\n",
       "    </tr>\n",
       "    <tr>\n",
       "      <th>130</th>\n",
       "      <td>860924035999428608</td>\n",
       "      <td>NaN</td>\n",
       "      <td>NaN</td>\n",
       "      <td>Twitter for iPhone</td>\n",
       "      <td>[rt, tallylott, h, ckin, adorable, promposal, ...</td>\n",
       "      <td>8.609145e+17</td>\n",
       "      <td>3.638908e+08</td>\n",
       "      <td>2017-05-06 17:49:42 +0000</td>\n",
       "      <td>https://twitter.com/tallylott/status/860914485...</td>\n",
       "      <td>13</td>\n",
       "      <td>...</td>\n",
       "      <td>0</td>\n",
       "      <td>723</td>\n",
       "      <td>146211</td>\n",
       "      <td>8943066</td>\n",
       "      <td>https://pbs.twimg.com/media/C_KVJjDXsAEUCWn.jpg</td>\n",
       "      <td>2</td>\n",
       "      <td>NaN</td>\n",
       "      <td>0.000000</td>\n",
       "      <td>unknown</td>\n",
       "      <td>14</td>\n",
       "    </tr>\n",
       "    <tr>\n",
       "      <th>167</th>\n",
       "      <td>851861385021730816</td>\n",
       "      <td>NaN</td>\n",
       "      <td>NaN</td>\n",
       "      <td>Twitter for iPhone</td>\n",
       "      <td>[rt, eddie, coe98, thanks, dog, rate, complete...</td>\n",
       "      <td>8.482894e+17</td>\n",
       "      <td>3.410211e+08</td>\n",
       "      <td>2017-04-01 21:42:03 +0000</td>\n",
       "      <td>https://twitter.com/eddie_coe98/status/8482893...</td>\n",
       "      <td>10</td>\n",
       "      <td>...</td>\n",
       "      <td>0</td>\n",
       "      <td>19</td>\n",
       "      <td>146211</td>\n",
       "      <td>8943066</td>\n",
       "      <td>https://pbs.twimg.com/media/C8W6sY_W0AEmttW.jpg</td>\n",
       "      <td>1</td>\n",
       "      <td>NaN</td>\n",
       "      <td>0.000000</td>\n",
       "      <td>unknown</td>\n",
       "      <td>18</td>\n",
       "    </tr>\n",
       "    <tr>\n",
       "      <th>182</th>\n",
       "      <td>847971574464610304</td>\n",
       "      <td>NaN</td>\n",
       "      <td>NaN</td>\n",
       "      <td>Twitter for iPhone</td>\n",
       "      <td>[rt, basic, vacek, i, love, my, new, mug, easy...</td>\n",
       "      <td>8.479710e+17</td>\n",
       "      <td>5.970642e+08</td>\n",
       "      <td>2017-04-01 00:36:55 +0000</td>\n",
       "      <td>https://twitter.com/basic_vacek_/status/847971...</td>\n",
       "      <td>13</td>\n",
       "      <td>...</td>\n",
       "      <td>0</td>\n",
       "      <td>419</td>\n",
       "      <td>146211</td>\n",
       "      <td>8943066</td>\n",
       "      <td>https://pbs.twimg.com/media/C8SZH1EWAAAIRRF.jpg</td>\n",
       "      <td>1</td>\n",
       "      <td>NaN</td>\n",
       "      <td>0.000000</td>\n",
       "      <td>unknown</td>\n",
       "      <td>17</td>\n",
       "    </tr>\n",
       "    <tr>\n",
       "      <th>209</th>\n",
       "      <td>841833993020538882</td>\n",
       "      <td>NaN</td>\n",
       "      <td>NaN</td>\n",
       "      <td>Twitter for iPhone</td>\n",
       "      <td>[rt, dog, rate, this, is, ken, his, cheek, are...</td>\n",
       "      <td>8.174239e+17</td>\n",
       "      <td>4.196984e+09</td>\n",
       "      <td>2017-01-06 17:33:29 +0000</td>\n",
       "      <td>https://twitter.com/dog_rates/status/817423860...</td>\n",
       "      <td>13</td>\n",
       "      <td>...</td>\n",
       "      <td>0</td>\n",
       "      <td>14403</td>\n",
       "      <td>146211</td>\n",
       "      <td>8943067</td>\n",
       "      <td>https://pbs.twimg.com/ext_tw_video_thumb/81742...</td>\n",
       "      <td>1</td>\n",
       "      <td>Samoyed</td>\n",
       "      <td>0.201358</td>\n",
       "      <td>male</td>\n",
       "      <td>19</td>\n",
       "    </tr>\n",
       "    <tr>\n",
       "      <th>220</th>\n",
       "      <td>839290600511926273</td>\n",
       "      <td>NaN</td>\n",
       "      <td>NaN</td>\n",
       "      <td>Twitter for iPhone</td>\n",
       "      <td>[rt, alexmartindawg, the, drink, is, dr, puppe...</td>\n",
       "      <td>8.392899e+17</td>\n",
       "      <td>4.119842e+07</td>\n",
       "      <td>2017-03-08 01:41:24 +0000</td>\n",
       "      <td>https://twitter.com/alexmartindawg/status/8392...</td>\n",
       "      <td>10</td>\n",
       "      <td>...</td>\n",
       "      <td>0</td>\n",
       "      <td>139</td>\n",
       "      <td>146211</td>\n",
       "      <td>8943067</td>\n",
       "      <td>https://pbs.twimg.com/media/C6XBt9XXEAEEW9U.jpg</td>\n",
       "      <td>1</td>\n",
       "      <td>NaN</td>\n",
       "      <td>0.000000</td>\n",
       "      <td>NaN</td>\n",
       "      <td>18</td>\n",
       "    </tr>\n",
       "    <tr>\n",
       "      <th>223</th>\n",
       "      <td>838916489579200512</td>\n",
       "      <td>NaN</td>\n",
       "      <td>NaN</td>\n",
       "      <td>Twitter for iPhone</td>\n",
       "      <td>[rt, kibadva, i, collected, all, the, good, do...</td>\n",
       "      <td>8.389060e+17</td>\n",
       "      <td>8.117408e+08</td>\n",
       "      <td>2017-03-07 00:15:46 +0000</td>\n",
       "      <td>https://twitter.com/KibaDva/status/83890598062...</td>\n",
       "      <td>15</td>\n",
       "      <td>...</td>\n",
       "      <td>0</td>\n",
       "      <td>33</td>\n",
       "      <td>146211</td>\n",
       "      <td>8943067</td>\n",
       "      <td>https://pbs.twimg.com/media/C6RkiQZUsAAM4R4.jpg</td>\n",
       "      <td>2</td>\n",
       "      <td>NaN</td>\n",
       "      <td>0.000000</td>\n",
       "      <td>unknown</td>\n",
       "      <td>17</td>\n",
       "    </tr>\n",
       "    <tr>\n",
       "      <th>255</th>\n",
       "      <td>832769181346996225</td>\n",
       "      <td>NaN</td>\n",
       "      <td>NaN</td>\n",
       "      <td>Twitter for iPhone</td>\n",
       "      <td>[rt, emiliegambril, 12, 10, h, cking, excited,...</td>\n",
       "      <td>8.327664e+17</td>\n",
       "      <td>4.871977e+08</td>\n",
       "      <td>2017-02-18 01:39:12 +0000</td>\n",
       "      <td>https://twitter.com/EmilieGambril/status/83276...</td>\n",
       "      <td>12</td>\n",
       "      <td>...</td>\n",
       "      <td>0</td>\n",
       "      <td>38</td>\n",
       "      <td>146211</td>\n",
       "      <td>8943069</td>\n",
       "      <td>https://pbs.twimg.com/media/C46UmzSVMAAqBug.jpg</td>\n",
       "      <td>1</td>\n",
       "      <td>NaN</td>\n",
       "      <td>0.000000</td>\n",
       "      <td>unknown</td>\n",
       "      <td>17</td>\n",
       "    </tr>\n",
       "    <tr>\n",
       "      <th>261</th>\n",
       "      <td>832215726631055365</td>\n",
       "      <td>NaN</td>\n",
       "      <td>NaN</td>\n",
       "      <td>Twitter for iPhone</td>\n",
       "      <td>[rt, dog, rate, this, is, moreton, he, s, the,...</td>\n",
       "      <td>7.932865e+17</td>\n",
       "      <td>4.196984e+09</td>\n",
       "      <td>2016-11-01 03:00:09 +0000</td>\n",
       "      <td>https://twitter.com/dog_rates/status/793286476...</td>\n",
       "      <td>13</td>\n",
       "      <td>...</td>\n",
       "      <td>0</td>\n",
       "      <td>9057</td>\n",
       "      <td>146211</td>\n",
       "      <td>8943069</td>\n",
       "      <td>https://pbs.twimg.com/media/CwJR1okWIAA6XMp.jpg</td>\n",
       "      <td>1</td>\n",
       "      <td>Afghan_hound</td>\n",
       "      <td>0.274637</td>\n",
       "      <td>male</td>\n",
       "      <td>23</td>\n",
       "    </tr>\n",
       "    <tr>\n",
       "      <th>262</th>\n",
       "      <td>832040443403784192</td>\n",
       "      <td>NaN</td>\n",
       "      <td>NaN</td>\n",
       "      <td>Twitter for iPhone</td>\n",
       "      <td>[rt, dog, rate, this, is, klein, these, pic, w...</td>\n",
       "      <td>7.699404e+17</td>\n",
       "      <td>4.196984e+09</td>\n",
       "      <td>2016-08-28 16:51:16 +0000</td>\n",
       "      <td>https://twitter.com/dog_rates/status/769940425...</td>\n",
       "      <td>12</td>\n",
       "      <td>...</td>\n",
       "      <td>0</td>\n",
       "      <td>9306</td>\n",
       "      <td>146211</td>\n",
       "      <td>8943069</td>\n",
       "      <td>https://pbs.twimg.com/media/Cq9guJ5WgAADfpF.jpg</td>\n",
       "      <td>1</td>\n",
       "      <td>miniature_pinscher</td>\n",
       "      <td>0.796313</td>\n",
       "      <td>male</td>\n",
       "      <td>28</td>\n",
       "    </tr>\n",
       "    <tr>\n",
       "      <th>276</th>\n",
       "      <td>829878982036299777</td>\n",
       "      <td>NaN</td>\n",
       "      <td>NaN</td>\n",
       "      <td>Twitter for iPhone</td>\n",
       "      <td>[rt, dog, rate, this, is, loki, he, smile, lik...</td>\n",
       "      <td>8.269587e+17</td>\n",
       "      <td>4.196984e+09</td>\n",
       "      <td>2017-02-02 01:01:21 +0000</td>\n",
       "      <td>https://twitter.com/dog_rates/status/826958653...</td>\n",
       "      <td>12</td>\n",
       "      <td>...</td>\n",
       "      <td>0</td>\n",
       "      <td>4869</td>\n",
       "      <td>146211</td>\n",
       "      <td>8943069</td>\n",
       "      <td>https://pbs.twimg.com/media/C3nygbBWQAAjwcW.jpg</td>\n",
       "      <td>1</td>\n",
       "      <td>golden_retriever</td>\n",
       "      <td>0.617389</td>\n",
       "      <td>male</td>\n",
       "      <td>23</td>\n",
       "    </tr>\n",
       "    <tr>\n",
       "      <th>309</th>\n",
       "      <td>824796380199809024</td>\n",
       "      <td>NaN</td>\n",
       "      <td>NaN</td>\n",
       "      <td>Twitter for iPhone</td>\n",
       "      <td>[rt, dog, rate, this, is, bailey, she, love, g...</td>\n",
       "      <td>7.950767e+17</td>\n",
       "      <td>4.196984e+09</td>\n",
       "      <td>2016-11-06 01:33:58 +0000</td>\n",
       "      <td>https://twitter.com/dog_rates/status/795076730...</td>\n",
       "      <td>11</td>\n",
       "      <td>...</td>\n",
       "      <td>0</td>\n",
       "      <td>5383</td>\n",
       "      <td>146211</td>\n",
       "      <td>8943069</td>\n",
       "      <td>https://pbs.twimg.com/media/CwiuEJmW8AAZnit.jpg</td>\n",
       "      <td>2</td>\n",
       "      <td>NaN</td>\n",
       "      <td>0.000000</td>\n",
       "      <td>female</td>\n",
       "      <td>24</td>\n",
       "    </tr>\n",
       "    <tr>\n",
       "      <th>318</th>\n",
       "      <td>823269594223824897</td>\n",
       "      <td>NaN</td>\n",
       "      <td>NaN</td>\n",
       "      <td>Twitter for iPhone</td>\n",
       "      <td>[rt, dog, rate, we, only, rate, dog, please, d...</td>\n",
       "      <td>8.222448e+17</td>\n",
       "      <td>4.196984e+09</td>\n",
       "      <td>2017-01-20 00:50:15 +0000</td>\n",
       "      <td>https://twitter.com/dog_rates/status/822244816...</td>\n",
       "      <td>11</td>\n",
       "      <td>...</td>\n",
       "      <td>0</td>\n",
       "      <td>9663</td>\n",
       "      <td>146211</td>\n",
       "      <td>8943069</td>\n",
       "      <td>https://pbs.twimg.com/media/C2kzTGxWEAEOpPL.jpg</td>\n",
       "      <td>1</td>\n",
       "      <td>Samoyed</td>\n",
       "      <td>0.585441</td>\n",
       "      <td>unknown</td>\n",
       "      <td>26</td>\n",
       "    </tr>\n",
       "    <tr>\n",
       "      <th>322</th>\n",
       "      <td>822647212903690241</td>\n",
       "      <td>NaN</td>\n",
       "      <td>NaN</td>\n",
       "      <td>Twitter for iPhone</td>\n",
       "      <td>[rt, dog, rate, this, is, paisley, she, really...</td>\n",
       "      <td>8.224891e+17</td>\n",
       "      <td>4.196984e+09</td>\n",
       "      <td>2017-01-20 17:00:46 +0000</td>\n",
       "      <td>https://twitter.com/dog_rates/status/822489057...</td>\n",
       "      <td>13</td>\n",
       "      <td>...</td>\n",
       "      <td>0</td>\n",
       "      <td>6264</td>\n",
       "      <td>146211</td>\n",
       "      <td>8943069</td>\n",
       "      <td>https://pbs.twimg.com/media/C2oRbOuWEAAbVSl.jpg</td>\n",
       "      <td>1</td>\n",
       "      <td>Samoyed</td>\n",
       "      <td>0.416769</td>\n",
       "      <td>female</td>\n",
       "      <td>23</td>\n",
       "    </tr>\n",
       "    <tr>\n",
       "      <th>328</th>\n",
       "      <td>821813639212650496</td>\n",
       "      <td>NaN</td>\n",
       "      <td>NaN</td>\n",
       "      <td>Twitter for iPhone</td>\n",
       "      <td>[rt, dog, rate, meet, hercules, he, can, have,...</td>\n",
       "      <td>7.806013e+17</td>\n",
       "      <td>4.196984e+09</td>\n",
       "      <td>2016-09-27 02:53:48 +0000</td>\n",
       "      <td>https://twitter.com/dog_rates/status/780601303...</td>\n",
       "      <td>12</td>\n",
       "      <td>...</td>\n",
       "      <td>0</td>\n",
       "      <td>3303</td>\n",
       "      <td>146211</td>\n",
       "      <td>8943068</td>\n",
       "      <td>https://pbs.twimg.com/media/CtVAvX-WIAAcGTf.jpg</td>\n",
       "      <td>1</td>\n",
       "      <td>Saint_Bernard</td>\n",
       "      <td>0.995143</td>\n",
       "      <td>male</td>\n",
       "      <td>25</td>\n",
       "    </tr>\n",
       "    <tr>\n",
       "      <th>337</th>\n",
       "      <td>820446719150292993</td>\n",
       "      <td>NaN</td>\n",
       "      <td>NaN</td>\n",
       "      <td>Twitter for iPhone</td>\n",
       "      <td>[rt, dog, rate, this, is, peach, she, s, the, ...</td>\n",
       "      <td>8.001414e+17</td>\n",
       "      <td>4.196984e+09</td>\n",
       "      <td>2016-11-20 00:59:15 +0000</td>\n",
       "      <td>https://twitter.com/dog_rates/status/800141422...</td>\n",
       "      <td>13</td>\n",
       "      <td>...</td>\n",
       "      <td>0</td>\n",
       "      <td>2520</td>\n",
       "      <td>146211</td>\n",
       "      <td>8943069</td>\n",
       "      <td>https://pbs.twimg.com/media/CxqsX-8XUAAEvjD.jpg</td>\n",
       "      <td>3</td>\n",
       "      <td>golden_retriever</td>\n",
       "      <td>0.938048</td>\n",
       "      <td>female</td>\n",
       "      <td>23</td>\n",
       "    </tr>\n",
       "    <tr>\n",
       "      <th>346</th>\n",
       "      <td>819015337530290176</td>\n",
       "      <td>NaN</td>\n",
       "      <td>NaN</td>\n",
       "      <td>Twitter for iPhone</td>\n",
       "      <td>[rt, dog, rate, this, is, bo, he, wa, a, very,...</td>\n",
       "      <td>8.190048e+17</td>\n",
       "      <td>4.196984e+09</td>\n",
       "      <td>2017-01-11 02:15:36 +0000</td>\n",
       "      <td>https://twitter.com/dog_rates/status/819004803...</td>\n",
       "      <td>14</td>\n",
       "      <td>...</td>\n",
       "      <td>0</td>\n",
       "      <td>36316</td>\n",
       "      <td>146211</td>\n",
       "      <td>8943069</td>\n",
       "      <td>https://pbs.twimg.com/media/C12whDoVEAALRxa.jpg</td>\n",
       "      <td>1</td>\n",
       "      <td>standard_poodle</td>\n",
       "      <td>0.351308</td>\n",
       "      <td>male</td>\n",
       "      <td>26</td>\n",
       "    </tr>\n",
       "    <tr>\n",
       "      <th>347</th>\n",
       "      <td>819015331746349057</td>\n",
       "      <td>NaN</td>\n",
       "      <td>NaN</td>\n",
       "      <td>Twitter for iPhone</td>\n",
       "      <td>[rt, dog, rate, this, is, sunny, she, wa, also...</td>\n",
       "      <td>8.190064e+17</td>\n",
       "      <td>4.196984e+09</td>\n",
       "      <td>2017-01-11 02:21:57 +0000</td>\n",
       "      <td>https://twitter.com/dog_rates/status/819006400...</td>\n",
       "      <td>14</td>\n",
       "      <td>...</td>\n",
       "      <td>0</td>\n",
       "      <td>18691</td>\n",
       "      <td>146211</td>\n",
       "      <td>8943069</td>\n",
       "      <td>https://pbs.twimg.com/media/C12x-JTVIAAzdfl.jpg</td>\n",
       "      <td>4</td>\n",
       "      <td>NaN</td>\n",
       "      <td>0.000000</td>\n",
       "      <td>female</td>\n",
       "      <td>28</td>\n",
       "    </tr>\n",
       "    <tr>\n",
       "      <th>352</th>\n",
       "      <td>818588835076603904</td>\n",
       "      <td>NaN</td>\n",
       "      <td>NaN</td>\n",
       "      <td>Twitter for iPhone</td>\n",
       "      <td>[rt, dog, rate, this, is, chelsea, she, forgot...</td>\n",
       "      <td>7.735476e+17</td>\n",
       "      <td>4.196984e+09</td>\n",
       "      <td>2016-09-07 15:44:53 +0000</td>\n",
       "      <td>https://twitter.com/dog_rates/status/773547596...</td>\n",
       "      <td>11</td>\n",
       "      <td>...</td>\n",
       "      <td>0</td>\n",
       "      <td>6009</td>\n",
       "      <td>146211</td>\n",
       "      <td>8943069</td>\n",
       "      <td>https://pbs.twimg.com/media/Crwxb5yWgAAX5P_.jpg</td>\n",
       "      <td>1</td>\n",
       "      <td>Norwegian_elkhound</td>\n",
       "      <td>0.372202</td>\n",
       "      <td>female</td>\n",
       "      <td>21</td>\n",
       "    </tr>\n",
       "    <tr>\n",
       "      <th>361</th>\n",
       "      <td>817181837579653120</td>\n",
       "      <td>NaN</td>\n",
       "      <td>NaN</td>\n",
       "      <td>Twitter for iPhone</td>\n",
       "      <td>[rt, dog, rate, here, s, a, pupper, with, sque...</td>\n",
       "      <td>8.159661e+17</td>\n",
       "      <td>4.196984e+09</td>\n",
       "      <td>2017-01-02 17:00:46 +0000</td>\n",
       "      <td>https://twitter.com/dog_rates/status/815966073...</td>\n",
       "      <td>13</td>\n",
       "      <td>...</td>\n",
       "      <td>0</td>\n",
       "      <td>8318</td>\n",
       "      <td>146211</td>\n",
       "      <td>8943069</td>\n",
       "      <td>https://pbs.twimg.com/ext_tw_video_thumb/81596...</td>\n",
       "      <td>1</td>\n",
       "      <td>Tibetan_mastiff</td>\n",
       "      <td>0.506312</td>\n",
       "      <td>unknown</td>\n",
       "      <td>18</td>\n",
       "    </tr>\n",
       "    <tr>\n",
       "      <th>365</th>\n",
       "      <td>816829038950027264</td>\n",
       "      <td>NaN</td>\n",
       "      <td>NaN</td>\n",
       "      <td>Twitter for iPhone</td>\n",
       "      <td>[rt, dog, rate, this, is, betty, she, s, assis...</td>\n",
       "      <td>7.909461e+17</td>\n",
       "      <td>4.196984e+09</td>\n",
       "      <td>2016-10-25 16:00:09 +0000</td>\n",
       "      <td>https://twitter.com/dog_rates/status/790946055...</td>\n",
       "      <td>12</td>\n",
       "      <td>...</td>\n",
       "      <td>0</td>\n",
       "      <td>4634</td>\n",
       "      <td>146211</td>\n",
       "      <td>8943069</td>\n",
       "      <td>https://pbs.twimg.com/media/CvoBPWRWgAA4het.jpg</td>\n",
       "      <td>1</td>\n",
       "      <td>golden_retriever</td>\n",
       "      <td>0.245773</td>\n",
       "      <td>female</td>\n",
       "      <td>26</td>\n",
       "    </tr>\n",
       "    <tr>\n",
       "      <th>371</th>\n",
       "      <td>816014286006976512</td>\n",
       "      <td>NaN</td>\n",
       "      <td>NaN</td>\n",
       "      <td>Twitter for iPhone</td>\n",
       "      <td>[rt, dog, rate, this, is, larry, he, ha, no, s...</td>\n",
       "      <td>7.320056e+17</td>\n",
       "      <td>4.196984e+09</td>\n",
       "      <td>2016-05-16 00:31:53 +0000</td>\n",
       "      <td>https://twitter.com/dog_rates/status/732005617...</td>\n",
       "      <td>11</td>\n",
       "      <td>...</td>\n",
       "      <td>0</td>\n",
       "      <td>5167</td>\n",
       "      <td>146211</td>\n",
       "      <td>8943069</td>\n",
       "      <td>https://pbs.twimg.com/media/CiibOMzUYAA9Mxz.jpg</td>\n",
       "      <td>1</td>\n",
       "      <td>English_setter</td>\n",
       "      <td>0.677408</td>\n",
       "      <td>male</td>\n",
       "      <td>22</td>\n",
       "    </tr>\n",
       "    <tr>\n",
       "      <th>381</th>\n",
       "      <td>813944609378369540</td>\n",
       "      <td>NaN</td>\n",
       "      <td>NaN</td>\n",
       "      <td>Twitter for iPhone</td>\n",
       "      <td>[rt, dog, rate, this, is, bruce, he, never, ba...</td>\n",
       "      <td>7.902771e+17</td>\n",
       "      <td>4.196984e+09</td>\n",
       "      <td>2016-10-23 19:42:02 +0000</td>\n",
       "      <td>https://twitter.com/dog_rates/status/790277117...</td>\n",
       "      <td>11</td>\n",
       "      <td>...</td>\n",
       "      <td>0</td>\n",
       "      <td>3138</td>\n",
       "      <td>146211</td>\n",
       "      <td>8943069</td>\n",
       "      <td>https://pbs.twimg.com/media/Cveg1-NXgAASaaT.jpg</td>\n",
       "      <td>1</td>\n",
       "      <td>Labrador_retriever</td>\n",
       "      <td>0.427742</td>\n",
       "      <td>male</td>\n",
       "      <td>23</td>\n",
       "    </tr>\n",
       "    <tr>\n",
       "      <th>412</th>\n",
       "      <td>809808892968534016</td>\n",
       "      <td>NaN</td>\n",
       "      <td>NaN</td>\n",
       "      <td>Twitter for iPhone</td>\n",
       "      <td>[rt, dog, rate, this, is, maximus, his, face, ...</td>\n",
       "      <td>7.939622e+17</td>\n",
       "      <td>4.196984e+09</td>\n",
       "      <td>2016-11-02 23:45:19 +0000</td>\n",
       "      <td>https://twitter.com/dog_rates/status/793962221...</td>\n",
       "      <td>12</td>\n",
       "      <td>...</td>\n",
       "      <td>0</td>\n",
       "      <td>4836</td>\n",
       "      <td>146211</td>\n",
       "      <td>8943069</td>\n",
       "      <td>https://pbs.twimg.com/media/CwS4aqZXUAAe3IO.jpg</td>\n",
       "      <td>1</td>\n",
       "      <td>Labrador_retriever</td>\n",
       "      <td>0.861651</td>\n",
       "      <td>male</td>\n",
       "      <td>26</td>\n",
       "    </tr>\n",
       "    <tr>\n",
       "      <th>419</th>\n",
       "      <td>808134635716833280</td>\n",
       "      <td>NaN</td>\n",
       "      <td>NaN</td>\n",
       "      <td>Twitter for iPhone</td>\n",
       "      <td>[rt, dog, rate, this, is, milo, i, would, do, ...</td>\n",
       "      <td>8.011679e+17</td>\n",
       "      <td>4.196984e+09</td>\n",
       "      <td>2016-11-22 20:58:07 +0000</td>\n",
       "      <td>https://twitter.com/dog_rates/status/801167903...</td>\n",
       "      <td>13</td>\n",
       "      <td>...</td>\n",
       "      <td>0</td>\n",
       "      <td>5842</td>\n",
       "      <td>146211</td>\n",
       "      <td>8943069</td>\n",
       "      <td>https://pbs.twimg.com/media/Cx5R8wPVEAALa9r.jpg</td>\n",
       "      <td>1</td>\n",
       "      <td>cocker_spaniel</td>\n",
       "      <td>0.740220</td>\n",
       "      <td>unknown</td>\n",
       "      <td>19</td>\n",
       "    </tr>\n",
       "    <tr>\n",
       "      <th>424</th>\n",
       "      <td>807059379405148160</td>\n",
       "      <td>NaN</td>\n",
       "      <td>NaN</td>\n",
       "      <td>Twitter for iPhone</td>\n",
       "      <td>[rt, dog, rate, this, is, cali, she, arrived, ...</td>\n",
       "      <td>7.829691e+17</td>\n",
       "      <td>4.196984e+09</td>\n",
       "      <td>2016-10-03 15:42:44 +0000</td>\n",
       "      <td>https://twitter.com/dog_rates/status/782969140...</td>\n",
       "      <td>12</td>\n",
       "      <td>...</td>\n",
       "      <td>0</td>\n",
       "      <td>7253</td>\n",
       "      <td>146211</td>\n",
       "      <td>8943069</td>\n",
       "      <td>https://pbs.twimg.com/media/Ct2qO5PXEAE6eB0.jpg</td>\n",
       "      <td>1</td>\n",
       "      <td>golden_retriever</td>\n",
       "      <td>0.171393</td>\n",
       "      <td>female</td>\n",
       "      <td>24</td>\n",
       "    </tr>\n",
       "    <tr>\n",
       "      <th>428</th>\n",
       "      <td>806242860592926720</td>\n",
       "      <td>NaN</td>\n",
       "      <td>NaN</td>\n",
       "      <td>Twitter for iPhone</td>\n",
       "      <td>[rt, dog, rate, this, is, dave, he, s, current...</td>\n",
       "      <td>7.833346e+17</td>\n",
       "      <td>4.196984e+09</td>\n",
       "      <td>2016-10-04 15:55:06 +0000</td>\n",
       "      <td>https://twitter.com/dog_rates/status/783334639...</td>\n",
       "      <td>12</td>\n",
       "      <td>...</td>\n",
       "      <td>0</td>\n",
       "      <td>11502</td>\n",
       "      <td>146211</td>\n",
       "      <td>8943069</td>\n",
       "      <td>https://pbs.twimg.com/media/Ct72q9jWcAAhlnw.jpg</td>\n",
       "      <td>2</td>\n",
       "      <td>Cardigan</td>\n",
       "      <td>0.593858</td>\n",
       "      <td>male</td>\n",
       "      <td>27</td>\n",
       "    </tr>\n",
       "    <tr>\n",
       "      <th>430</th>\n",
       "      <td>805958939288408065</td>\n",
       "      <td>NaN</td>\n",
       "      <td>NaN</td>\n",
       "      <td>Twitter for iPhone</td>\n",
       "      <td>[rt, dog, rate, this, is, penny, she, fought, ...</td>\n",
       "      <td>7.827226e+17</td>\n",
       "      <td>4.196984e+09</td>\n",
       "      <td>2016-10-02 23:23:04 +0000</td>\n",
       "      <td>https://twitter.com/dog_rates/status/782722598...</td>\n",
       "      <td>10</td>\n",
       "      <td>...</td>\n",
       "      <td>0</td>\n",
       "      <td>5305</td>\n",
       "      <td>146211</td>\n",
       "      <td>8943069</td>\n",
       "      <td>https://pbs.twimg.com/media/CtzKC7zXEAALfSo.jpg</td>\n",
       "      <td>1</td>\n",
       "      <td>Irish_setter</td>\n",
       "      <td>0.574557</td>\n",
       "      <td>female</td>\n",
       "      <td>27</td>\n",
       "    </tr>\n",
       "    <tr>\n",
       "      <th>...</th>\n",
       "      <td>...</td>\n",
       "      <td>...</td>\n",
       "      <td>...</td>\n",
       "      <td>...</td>\n",
       "      <td>...</td>\n",
       "      <td>...</td>\n",
       "      <td>...</td>\n",
       "      <td>...</td>\n",
       "      <td>...</td>\n",
       "      <td>...</td>\n",
       "      <td>...</td>\n",
       "      <td>...</td>\n",
       "      <td>...</td>\n",
       "      <td>...</td>\n",
       "      <td>...</td>\n",
       "      <td>...</td>\n",
       "      <td>...</td>\n",
       "      <td>...</td>\n",
       "      <td>...</td>\n",
       "      <td>...</td>\n",
       "      <td>...</td>\n",
       "    </tr>\n",
       "    <tr>\n",
       "      <th>484</th>\n",
       "      <td>796177847564038144</td>\n",
       "      <td>NaN</td>\n",
       "      <td>NaN</td>\n",
       "      <td>Twitter for iPhone</td>\n",
       "      <td>[rt, dog, rate, this, is, ruby, she, just, tur...</td>\n",
       "      <td>7.961497e+17</td>\n",
       "      <td>4.196984e+09</td>\n",
       "      <td>2016-11-09 00:37:46 +0000</td>\n",
       "      <td>https://twitter.com/dog_rates/status/796149749...</td>\n",
       "      <td>11</td>\n",
       "      <td>...</td>\n",
       "      <td>0</td>\n",
       "      <td>14125</td>\n",
       "      <td>146211</td>\n",
       "      <td>8943071</td>\n",
       "      <td>https://pbs.twimg.com/media/Cwx99rpW8AMk_Ie.jpg</td>\n",
       "      <td>1</td>\n",
       "      <td>golden_retriever</td>\n",
       "      <td>0.600276</td>\n",
       "      <td>female</td>\n",
       "      <td>23</td>\n",
       "    </tr>\n",
       "    <tr>\n",
       "      <th>492</th>\n",
       "      <td>794983741416415232</td>\n",
       "      <td>NaN</td>\n",
       "      <td>NaN</td>\n",
       "      <td>Twitter for iPhone</td>\n",
       "      <td>[rt, dog, rate, this, is, rizzy, she, smile, a...</td>\n",
       "      <td>7.895309e+17</td>\n",
       "      <td>4.196984e+09</td>\n",
       "      <td>2016-10-21 18:16:44 +0000</td>\n",
       "      <td>https://twitter.com/dog_rates/status/789530877...</td>\n",
       "      <td>12</td>\n",
       "      <td>...</td>\n",
       "      <td>0</td>\n",
       "      <td>3343</td>\n",
       "      <td>146211</td>\n",
       "      <td>8943071</td>\n",
       "      <td>https://pbs.twimg.com/media/CvT6IV6WEAQhhV5.jpg</td>\n",
       "      <td>3</td>\n",
       "      <td>schipperke</td>\n",
       "      <td>0.363272</td>\n",
       "      <td>female</td>\n",
       "      <td>18</td>\n",
       "    </tr>\n",
       "    <tr>\n",
       "      <th>494</th>\n",
       "      <td>794355576146903043</td>\n",
       "      <td>NaN</td>\n",
       "      <td>NaN</td>\n",
       "      <td>Twitter for iPhone</td>\n",
       "      <td>[rt, dog, rate, this, is, butter, she, can, ha...</td>\n",
       "      <td>7.887659e+17</td>\n",
       "      <td>4.196984e+09</td>\n",
       "      <td>2016-10-19 15:37:03 +0000</td>\n",
       "      <td>https://twitter.com/dog_rates/status/788765914...</td>\n",
       "      <td>12</td>\n",
       "      <td>...</td>\n",
       "      <td>0</td>\n",
       "      <td>10171</td>\n",
       "      <td>146211</td>\n",
       "      <td>8943071</td>\n",
       "      <td>https://pbs.twimg.com/media/CvJCabcWgAIoUxW.jpg</td>\n",
       "      <td>1</td>\n",
       "      <td>cocker_spaniel</td>\n",
       "      <td>0.500509</td>\n",
       "      <td>female</td>\n",
       "      <td>22</td>\n",
       "    </tr>\n",
       "    <tr>\n",
       "      <th>499</th>\n",
       "      <td>793614319594401792</td>\n",
       "      <td>NaN</td>\n",
       "      <td>NaN</td>\n",
       "      <td>Twitter for iPhone</td>\n",
       "      <td>[rt, dog, rate, when, she, say, you, re, a, go...</td>\n",
       "      <td>7.916723e+17</td>\n",
       "      <td>4.196984e+09</td>\n",
       "      <td>2016-10-27 16:06:04 +0000</td>\n",
       "      <td>https://twitter.com/dog_rates/status/791672322...</td>\n",
       "      <td>13</td>\n",
       "      <td>...</td>\n",
       "      <td>0</td>\n",
       "      <td>3098</td>\n",
       "      <td>146211</td>\n",
       "      <td>8943071</td>\n",
       "      <td>https://pbs.twimg.com/media/CvyVxQRWEAAdSZS.jpg</td>\n",
       "      <td>1</td>\n",
       "      <td>golden_retriever</td>\n",
       "      <td>0.705092</td>\n",
       "      <td>male</td>\n",
       "      <td>31</td>\n",
       "    </tr>\n",
       "    <tr>\n",
       "      <th>522</th>\n",
       "      <td>791026214425268224</td>\n",
       "      <td>NaN</td>\n",
       "      <td>NaN</td>\n",
       "      <td>Twitter for iPhone</td>\n",
       "      <td>[rt, dog, rate, this, is, alfie, he, s, touchi...</td>\n",
       "      <td>7.638376e+17</td>\n",
       "      <td>4.196984e+09</td>\n",
       "      <td>2016-08-11 20:40:41 +0000</td>\n",
       "      <td>https://twitter.com/dog_rates/status/763837565...</td>\n",
       "      <td>11</td>\n",
       "      <td>...</td>\n",
       "      <td>0</td>\n",
       "      <td>4046</td>\n",
       "      <td>146209</td>\n",
       "      <td>8943694</td>\n",
       "      <td>https://pbs.twimg.com/media/CpmyNumW8AAAJGj.jpg</td>\n",
       "      <td>1</td>\n",
       "      <td>malamute</td>\n",
       "      <td>0.375098</td>\n",
       "      <td>male</td>\n",
       "      <td>21</td>\n",
       "    </tr>\n",
       "    <tr>\n",
       "      <th>525</th>\n",
       "      <td>790723298204217344</td>\n",
       "      <td>NaN</td>\n",
       "      <td>NaN</td>\n",
       "      <td>Twitter for iPhone</td>\n",
       "      <td>[rt, dog, rate, this, is, happy, he, s, a, bat...</td>\n",
       "      <td>7.899865e+17</td>\n",
       "      <td>4.196984e+09</td>\n",
       "      <td>2016-10-23 00:27:05 +0000</td>\n",
       "      <td>https://twitter.com/dog_rates/status/789986466...</td>\n",
       "      <td>12</td>\n",
       "      <td>...</td>\n",
       "      <td>0</td>\n",
       "      <td>2282</td>\n",
       "      <td>146211</td>\n",
       "      <td>8943071</td>\n",
       "      <td>https://pbs.twimg.com/media/CvaYgDOWgAEfjls.jpg</td>\n",
       "      <td>1</td>\n",
       "      <td>golden_retriever</td>\n",
       "      <td>0.078530</td>\n",
       "      <td>male</td>\n",
       "      <td>24</td>\n",
       "    </tr>\n",
       "    <tr>\n",
       "      <th>541</th>\n",
       "      <td>788070120937619456</td>\n",
       "      <td>NaN</td>\n",
       "      <td>NaN</td>\n",
       "      <td>Twitter for iPhone</td>\n",
       "      <td>[rt, dog, rate, this, is, bo, and, ty, bo, eat...</td>\n",
       "      <td>7.610045e+17</td>\n",
       "      <td>4.196984e+09</td>\n",
       "      <td>2016-08-04 01:03:17 +0000</td>\n",
       "      <td>https://twitter.com/dog_rates/status/761004547...</td>\n",
       "      <td>11</td>\n",
       "      <td>...</td>\n",
       "      <td>0</td>\n",
       "      <td>3391</td>\n",
       "      <td>146211</td>\n",
       "      <td>8943071</td>\n",
       "      <td>https://pbs.twimg.com/media/Co-hmcYXYAASkiG.jpg</td>\n",
       "      <td>1</td>\n",
       "      <td>golden_retriever</td>\n",
       "      <td>0.735163</td>\n",
       "      <td>unknown</td>\n",
       "      <td>24</td>\n",
       "    </tr>\n",
       "    <tr>\n",
       "      <th>553</th>\n",
       "      <td>786036967502913536</td>\n",
       "      <td>NaN</td>\n",
       "      <td>NaN</td>\n",
       "      <td>Twitter for iPhone</td>\n",
       "      <td>[rt, dog, rate, this, is, scout, he, really, w...</td>\n",
       "      <td>7.798343e+17</td>\n",
       "      <td>4.196984e+09</td>\n",
       "      <td>2016-09-25 00:06:08 +0000</td>\n",
       "      <td>https://twitter.com/dog_rates/status/779834332...</td>\n",
       "      <td>11</td>\n",
       "      <td>...</td>\n",
       "      <td>0</td>\n",
       "      <td>6898</td>\n",
       "      <td>146211</td>\n",
       "      <td>8943071</td>\n",
       "      <td>https://pbs.twimg.com/media/CtKHLuCWYAA2TTs.jpg</td>\n",
       "      <td>1</td>\n",
       "      <td>golden_retriever</td>\n",
       "      <td>0.993830</td>\n",
       "      <td>male</td>\n",
       "      <td>23</td>\n",
       "    </tr>\n",
       "    <tr>\n",
       "      <th>568</th>\n",
       "      <td>783347506784731136</td>\n",
       "      <td>NaN</td>\n",
       "      <td>NaN</td>\n",
       "      <td>Twitter for iPhone</td>\n",
       "      <td>[rt, dog, rate, this, is, kenny, he, just, wan...</td>\n",
       "      <td>6.742918e+17</td>\n",
       "      <td>4.196984e+09</td>\n",
       "      <td>2015-12-08 18:17:56 +0000</td>\n",
       "      <td>https://twitter.com/dog_rates/status/674291837...</td>\n",
       "      <td>11</td>\n",
       "      <td>...</td>\n",
       "      <td>0</td>\n",
       "      <td>5452</td>\n",
       "      <td>146211</td>\n",
       "      <td>8943071</td>\n",
       "      <td>https://pbs.twimg.com/media/CVuQ2LeUsAAIe3s.jpg</td>\n",
       "      <td>1</td>\n",
       "      <td>Cardigan</td>\n",
       "      <td>0.611525</td>\n",
       "      <td>male</td>\n",
       "      <td>21</td>\n",
       "    </tr>\n",
       "    <tr>\n",
       "      <th>576</th>\n",
       "      <td>782021823840026624</td>\n",
       "      <td>NaN</td>\n",
       "      <td>NaN</td>\n",
       "      <td>Twitter for iPhone</td>\n",
       "      <td>[rt, dog, rate, this, is, harper, she, scraped...</td>\n",
       "      <td>7.076109e+17</td>\n",
       "      <td>4.196984e+09</td>\n",
       "      <td>2016-03-09 16:56:11 +0000</td>\n",
       "      <td>https://twitter.com/dog_rates/status/707610948...</td>\n",
       "      <td>12</td>\n",
       "      <td>...</td>\n",
       "      <td>0</td>\n",
       "      <td>6096</td>\n",
       "      <td>146211</td>\n",
       "      <td>8943071</td>\n",
       "      <td>https://pbs.twimg.com/media/CdHwZd0VIAA4792.jpg</td>\n",
       "      <td>1</td>\n",
       "      <td>golden_retriever</td>\n",
       "      <td>0.383223</td>\n",
       "      <td>female</td>\n",
       "      <td>25</td>\n",
       "    </tr>\n",
       "    <tr>\n",
       "      <th>587</th>\n",
       "      <td>780496263422808064</td>\n",
       "      <td>NaN</td>\n",
       "      <td>NaN</td>\n",
       "      <td>Twitter for iPhone</td>\n",
       "      <td>[rt, dog, rate, this, is, bell, she, like, hol...</td>\n",
       "      <td>7.424232e+17</td>\n",
       "      <td>4.196984e+09</td>\n",
       "      <td>2016-06-13 18:27:32 +0000</td>\n",
       "      <td>https://twitter.com/dog_rates/status/742423170...</td>\n",
       "      <td>12</td>\n",
       "      <td>...</td>\n",
       "      <td>0</td>\n",
       "      <td>3607</td>\n",
       "      <td>146211</td>\n",
       "      <td>8943072</td>\n",
       "      <td>https://pbs.twimg.com/media/Ck2d7tJWUAEPTL3.jpg</td>\n",
       "      <td>1</td>\n",
       "      <td>pug</td>\n",
       "      <td>0.997310</td>\n",
       "      <td>female</td>\n",
       "      <td>22</td>\n",
       "    </tr>\n",
       "    <tr>\n",
       "      <th>588</th>\n",
       "      <td>780476555013349377</td>\n",
       "      <td>NaN</td>\n",
       "      <td>NaN</td>\n",
       "      <td>Twitter for iPhone</td>\n",
       "      <td>[rt, patreon, well, dog, rate, is, on, patreon...</td>\n",
       "      <td>7.804657e+17</td>\n",
       "      <td>1.228326e+09</td>\n",
       "      <td>2016-09-26 17:55:00 +0000</td>\n",
       "      <td>https://www.patreon.com/WeRateDogs,https://twi...</td>\n",
       "      <td>12</td>\n",
       "      <td>...</td>\n",
       "      <td>0</td>\n",
       "      <td>109</td>\n",
       "      <td>146211</td>\n",
       "      <td>8943072</td>\n",
       "      <td>https://pbs.twimg.com/tweet_video_thumb/CtTFZZ...</td>\n",
       "      <td>1</td>\n",
       "      <td>pug</td>\n",
       "      <td>0.919255</td>\n",
       "      <td>unknown</td>\n",
       "      <td>18</td>\n",
       "    </tr>\n",
       "    <tr>\n",
       "      <th>599</th>\n",
       "      <td>778396591732486144</td>\n",
       "      <td>NaN</td>\n",
       "      <td>NaN</td>\n",
       "      <td>Twitter for iPhone</td>\n",
       "      <td>[rt, dog, rate, this, is, an, east, african, c...</td>\n",
       "      <td>7.030419e+17</td>\n",
       "      <td>4.196984e+09</td>\n",
       "      <td>2016-02-26 02:20:37 +0000</td>\n",
       "      <td>https://twitter.com/dog_rates/status/703041949...</td>\n",
       "      <td>10</td>\n",
       "      <td>...</td>\n",
       "      <td>0</td>\n",
       "      <td>11992</td>\n",
       "      <td>146211</td>\n",
       "      <td>8943072</td>\n",
       "      <td>https://pbs.twimg.com/media/CcG07BYW0AErrC9.jpg</td>\n",
       "      <td>1</td>\n",
       "      <td>NaN</td>\n",
       "      <td>0.000000</td>\n",
       "      <td>unknown</td>\n",
       "      <td>27</td>\n",
       "    </tr>\n",
       "    <tr>\n",
       "      <th>606</th>\n",
       "      <td>777641927919427584</td>\n",
       "      <td>NaN</td>\n",
       "      <td>NaN</td>\n",
       "      <td>Twitter for iPhone</td>\n",
       "      <td>[rt, dog, rate, this, is, arnie, he, s, a, nov...</td>\n",
       "      <td>7.504293e+17</td>\n",
       "      <td>4.196984e+09</td>\n",
       "      <td>2016-07-05 20:41:01 +0000</td>\n",
       "      <td>https://twitter.com/dog_rates/status/750429297...</td>\n",
       "      <td>12</td>\n",
       "      <td>...</td>\n",
       "      <td>0</td>\n",
       "      <td>4143</td>\n",
       "      <td>146211</td>\n",
       "      <td>8943072</td>\n",
       "      <td>https://pbs.twimg.com/media/CmoPdmHW8AAi8BI.jpg</td>\n",
       "      <td>1</td>\n",
       "      <td>golden_retriever</td>\n",
       "      <td>0.964929</td>\n",
       "      <td>male</td>\n",
       "      <td>21</td>\n",
       "    </tr>\n",
       "    <tr>\n",
       "      <th>609</th>\n",
       "      <td>776819012571455488</td>\n",
       "      <td>NaN</td>\n",
       "      <td>NaN</td>\n",
       "      <td>Twitter for iPhone</td>\n",
       "      <td>[rt, dog, rate, everybody, look, at, this, bea...</td>\n",
       "      <td>6.798284e+17</td>\n",
       "      <td>4.196984e+09</td>\n",
       "      <td>2015-12-24 00:58:27 +0000</td>\n",
       "      <td>https://twitter.com/dog_rates/status/679828447...</td>\n",
       "      <td>13</td>\n",
       "      <td>...</td>\n",
       "      <td>0</td>\n",
       "      <td>13414</td>\n",
       "      <td>146211</td>\n",
       "      <td>8943072</td>\n",
       "      <td>https://pbs.twimg.com/media/CW88XN4WsAAlo8r.jpg</td>\n",
       "      <td>3</td>\n",
       "      <td>Chihuahua</td>\n",
       "      <td>0.346545</td>\n",
       "      <td>unknown</td>\n",
       "      <td>15</td>\n",
       "    </tr>\n",
       "    <tr>\n",
       "      <th>616</th>\n",
       "      <td>775898661951791106</td>\n",
       "      <td>NaN</td>\n",
       "      <td>NaN</td>\n",
       "      <td>Twitter for iPhone</td>\n",
       "      <td>[rt, dog, rate, like, father, doggo, like, son...</td>\n",
       "      <td>7.331095e+17</td>\n",
       "      <td>4.196984e+09</td>\n",
       "      <td>2016-05-19 01:38:16 +0000</td>\n",
       "      <td>https://twitter.com/dog_rates/status/733109485...</td>\n",
       "      <td>12</td>\n",
       "      <td>...</td>\n",
       "      <td>0</td>\n",
       "      <td>16437</td>\n",
       "      <td>146211</td>\n",
       "      <td>8943072</td>\n",
       "      <td>https://pbs.twimg.com/media/CiyHLocU4AI2pJu.jpg</td>\n",
       "      <td>1</td>\n",
       "      <td>golden_retriever</td>\n",
       "      <td>0.945523</td>\n",
       "      <td>unknown</td>\n",
       "      <td>16</td>\n",
       "    </tr>\n",
       "    <tr>\n",
       "      <th>635</th>\n",
       "      <td>772615324260794368</td>\n",
       "      <td>NaN</td>\n",
       "      <td>NaN</td>\n",
       "      <td>Twitter for iPhone</td>\n",
       "      <td>[rt, dog, rate, this, is, gromit, he, s, pupse...</td>\n",
       "      <td>7.652221e+17</td>\n",
       "      <td>4.196984e+09</td>\n",
       "      <td>2016-08-15 16:22:20 +0000</td>\n",
       "      <td>https://twitter.com/dog_rates/status/765222098...</td>\n",
       "      <td>10</td>\n",
       "      <td>...</td>\n",
       "      <td>0</td>\n",
       "      <td>3308</td>\n",
       "      <td>146211</td>\n",
       "      <td>8943072</td>\n",
       "      <td>https://pbs.twimg.com/media/Cp6db4-XYAAMmqL.jpg</td>\n",
       "      <td>1</td>\n",
       "      <td>dalmatian</td>\n",
       "      <td>0.556595</td>\n",
       "      <td>male</td>\n",
       "      <td>28</td>\n",
       "    </tr>\n",
       "    <tr>\n",
       "      <th>645</th>\n",
       "      <td>771171053431250945</td>\n",
       "      <td>NaN</td>\n",
       "      <td>NaN</td>\n",
       "      <td>Twitter for iPhone</td>\n",
       "      <td>[rt, dog, rate, this, is, frankie, he, s, wear...</td>\n",
       "      <td>6.733201e+17</td>\n",
       "      <td>4.196984e+09</td>\n",
       "      <td>2015-12-06 01:56:44 +0000</td>\n",
       "      <td>https://twitter.com/dog_rates/status/673320132...</td>\n",
       "      <td>11</td>\n",
       "      <td>...</td>\n",
       "      <td>0</td>\n",
       "      <td>7271</td>\n",
       "      <td>146211</td>\n",
       "      <td>8943072</td>\n",
       "      <td>https://pbs.twimg.com/media/CVgdFjNWEAAxmbq.jpg</td>\n",
       "      <td>3</td>\n",
       "      <td>Samoyed</td>\n",
       "      <td>0.978833</td>\n",
       "      <td>male</td>\n",
       "      <td>21</td>\n",
       "    </tr>\n",
       "    <tr>\n",
       "      <th>654</th>\n",
       "      <td>770093767776997377</td>\n",
       "      <td>NaN</td>\n",
       "      <td>NaN</td>\n",
       "      <td>Twitter for iPhone</td>\n",
       "      <td>[rt, dog, rate, this, is, just, downright, pre...</td>\n",
       "      <td>7.410673e+17</td>\n",
       "      <td>4.196984e+09</td>\n",
       "      <td>2016-06-10 00:39:48 +0000</td>\n",
       "      <td>https://twitter.com/dog_rates/status/741067306...</td>\n",
       "      <td>12</td>\n",
       "      <td>...</td>\n",
       "      <td>0</td>\n",
       "      <td>2976</td>\n",
       "      <td>146211</td>\n",
       "      <td>8943072</td>\n",
       "      <td>https://pbs.twimg.com/media/CkjMx99UoAM2B1a.jpg</td>\n",
       "      <td>1</td>\n",
       "      <td>golden_retriever</td>\n",
       "      <td>0.843799</td>\n",
       "      <td>unknown</td>\n",
       "      <td>20</td>\n",
       "    </tr>\n",
       "    <tr>\n",
       "      <th>674</th>\n",
       "      <td>766078092750233600</td>\n",
       "      <td>NaN</td>\n",
       "      <td>NaN</td>\n",
       "      <td>Twitter for iPhone</td>\n",
       "      <td>[rt, dog, rate, this, is, colby, he, s, curren...</td>\n",
       "      <td>7.258423e+17</td>\n",
       "      <td>4.196984e+09</td>\n",
       "      <td>2016-04-29 00:21:01 +0000</td>\n",
       "      <td>https://twitter.com/dog_rates/status/725842289...</td>\n",
       "      <td>12</td>\n",
       "      <td>...</td>\n",
       "      <td>0</td>\n",
       "      <td>2559</td>\n",
       "      <td>146211</td>\n",
       "      <td>8943072</td>\n",
       "      <td>https://pbs.twimg.com/media/ChK1tdBWwAQ1flD.jpg</td>\n",
       "      <td>1</td>\n",
       "      <td>toy_poodle</td>\n",
       "      <td>0.420463</td>\n",
       "      <td>male</td>\n",
       "      <td>27</td>\n",
       "    </tr>\n",
       "    <tr>\n",
       "      <th>693</th>\n",
       "      <td>761750502866649088</td>\n",
       "      <td>NaN</td>\n",
       "      <td>NaN</td>\n",
       "      <td>Twitter for iPhone</td>\n",
       "      <td>[rt, dog, rate, tristan, do, not, speak, to, m...</td>\n",
       "      <td>6.853251e+17</td>\n",
       "      <td>4.196984e+09</td>\n",
       "      <td>2016-01-08 05:00:14 +0000</td>\n",
       "      <td>https://twitter.com/dog_rates/status/685325112...</td>\n",
       "      <td>10</td>\n",
       "      <td>...</td>\n",
       "      <td>0</td>\n",
       "      <td>3816</td>\n",
       "      <td>146211</td>\n",
       "      <td>8943072</td>\n",
       "      <td>https://pbs.twimg.com/media/CYLDikFWEAAIy1y.jpg</td>\n",
       "      <td>1</td>\n",
       "      <td>golden_retriever</td>\n",
       "      <td>0.586937</td>\n",
       "      <td>unknown</td>\n",
       "      <td>27</td>\n",
       "    </tr>\n",
       "    <tr>\n",
       "      <th>697</th>\n",
       "      <td>761371037149827077</td>\n",
       "      <td>NaN</td>\n",
       "      <td>NaN</td>\n",
       "      <td>Twitter for iPhone</td>\n",
       "      <td>[rt, dog, rate, oh, my, god, 13, 10, magical, ...</td>\n",
       "      <td>7.116948e+17</td>\n",
       "      <td>4.196984e+09</td>\n",
       "      <td>2016-03-20 23:23:54 +0000</td>\n",
       "      <td>https://twitter.com/dog_rates/status/711694788...</td>\n",
       "      <td>13</td>\n",
       "      <td>...</td>\n",
       "      <td>0</td>\n",
       "      <td>17628</td>\n",
       "      <td>146211</td>\n",
       "      <td>8943072</td>\n",
       "      <td>https://pbs.twimg.com/tweet_video_thumb/CeBym7...</td>\n",
       "      <td>1</td>\n",
       "      <td>NaN</td>\n",
       "      <td>0.000000</td>\n",
       "      <td>unknown</td>\n",
       "      <td>14</td>\n",
       "    </tr>\n",
       "    <tr>\n",
       "      <th>715</th>\n",
       "      <td>759159934323924993</td>\n",
       "      <td>NaN</td>\n",
       "      <td>NaN</td>\n",
       "      <td>Twitter for iPhone</td>\n",
       "      <td>[rt, dog, rate, at, dawn, we, ride, 11, 10, ht...</td>\n",
       "      <td>6.703191e+17</td>\n",
       "      <td>4.196984e+09</td>\n",
       "      <td>2015-11-27 19:11:49 +0000</td>\n",
       "      <td>https://twitter.com/dog_rates/status/670319130...</td>\n",
       "      <td>11</td>\n",
       "      <td>...</td>\n",
       "      <td>0</td>\n",
       "      <td>1128</td>\n",
       "      <td>146211</td>\n",
       "      <td>8943072</td>\n",
       "      <td>https://pbs.twimg.com/media/CU1zsMSUAAAS0qW.jpg</td>\n",
       "      <td>1</td>\n",
       "      <td>Irish_terrier</td>\n",
       "      <td>0.254856</td>\n",
       "      <td>unknown</td>\n",
       "      <td>13</td>\n",
       "    </tr>\n",
       "    <tr>\n",
       "      <th>727</th>\n",
       "      <td>757729163776290825</td>\n",
       "      <td>NaN</td>\n",
       "      <td>NaN</td>\n",
       "      <td>Twitter for iPhone</td>\n",
       "      <td>[rt, dog, rate, this, is, chompsky, he, life, ...</td>\n",
       "      <td>6.790626e+17</td>\n",
       "      <td>4.196984e+09</td>\n",
       "      <td>2015-12-21 22:15:18 +0000</td>\n",
       "      <td>https://twitter.com/dog_rates/status/679062614...</td>\n",
       "      <td>11</td>\n",
       "      <td>...</td>\n",
       "      <td>0</td>\n",
       "      <td>7676</td>\n",
       "      <td>146211</td>\n",
       "      <td>8943107</td>\n",
       "      <td>https://pbs.twimg.com/media/CWyD2HGUYAQ1Xa7.jpg</td>\n",
       "      <td>2</td>\n",
       "      <td>schipperke</td>\n",
       "      <td>0.045519</td>\n",
       "      <td>male</td>\n",
       "      <td>18</td>\n",
       "    </tr>\n",
       "    <tr>\n",
       "      <th>730</th>\n",
       "      <td>757597904299253760</td>\n",
       "      <td>NaN</td>\n",
       "      <td>NaN</td>\n",
       "      <td>Twitter for iPhone</td>\n",
       "      <td>[rt, jon, hill987, dog, rate, there, is, a, cu...</td>\n",
       "      <td>7.575971e+17</td>\n",
       "      <td>2.804798e+08</td>\n",
       "      <td>2016-07-25 15:23:28 +0000</td>\n",
       "      <td>https://twitter.com/jon_hill987/status/7575971...</td>\n",
       "      <td>11</td>\n",
       "      <td>...</td>\n",
       "      <td>0</td>\n",
       "      <td>292</td>\n",
       "      <td>146211</td>\n",
       "      <td>8943107</td>\n",
       "      <td>https://pbs.twimg.com/media/CoOGZjiWAAEMKGx.jpg</td>\n",
       "      <td>1</td>\n",
       "      <td>NaN</td>\n",
       "      <td>0.000000</td>\n",
       "      <td>unknown</td>\n",
       "      <td>21</td>\n",
       "    </tr>\n",
       "    <tr>\n",
       "      <th>745</th>\n",
       "      <td>754874841593970688</td>\n",
       "      <td>NaN</td>\n",
       "      <td>NaN</td>\n",
       "      <td>Twitter for iPhone</td>\n",
       "      <td>[rt, dog, rate, this, is, rubio, he, ha, too, ...</td>\n",
       "      <td>6.791584e+17</td>\n",
       "      <td>4.196984e+09</td>\n",
       "      <td>2015-12-22 04:35:49 +0000</td>\n",
       "      <td>https://twitter.com/dog_rates/status/679158373...</td>\n",
       "      <td>11</td>\n",
       "      <td>...</td>\n",
       "      <td>0</td>\n",
       "      <td>7677</td>\n",
       "      <td>146211</td>\n",
       "      <td>8943107</td>\n",
       "      <td>https://pbs.twimg.com/media/CWza7kpWcAAdYLc.jpg</td>\n",
       "      <td>1</td>\n",
       "      <td>pug</td>\n",
       "      <td>0.272205</td>\n",
       "      <td>male</td>\n",
       "      <td>17</td>\n",
       "    </tr>\n",
       "    <tr>\n",
       "      <th>762</th>\n",
       "      <td>752309394570878976</td>\n",
       "      <td>NaN</td>\n",
       "      <td>NaN</td>\n",
       "      <td>Twitter for iPhone</td>\n",
       "      <td>[rt, dog, rate, everyone, need, to, watch, thi...</td>\n",
       "      <td>6.753544e+17</td>\n",
       "      <td>4.196984e+09</td>\n",
       "      <td>2015-12-11 16:40:19 +0000</td>\n",
       "      <td>https://twitter.com/dog_rates/status/675354435...</td>\n",
       "      <td>13</td>\n",
       "      <td>...</td>\n",
       "      <td>0</td>\n",
       "      <td>15719</td>\n",
       "      <td>146211</td>\n",
       "      <td>8943108</td>\n",
       "      <td>https://pbs.twimg.com/ext_tw_video_thumb/67535...</td>\n",
       "      <td>1</td>\n",
       "      <td>golden_retriever</td>\n",
       "      <td>0.181351</td>\n",
       "      <td>unknown</td>\n",
       "      <td>14</td>\n",
       "    </tr>\n",
       "    <tr>\n",
       "      <th>1022</th>\n",
       "      <td>711998809858043904</td>\n",
       "      <td>NaN</td>\n",
       "      <td>NaN</td>\n",
       "      <td>Twitter for iPhone</td>\n",
       "      <td>[rt, twitter, dog, rate, awesome, tweet, 12, 1...</td>\n",
       "      <td>7.119983e+17</td>\n",
       "      <td>7.832140e+05</td>\n",
       "      <td>2016-03-21 19:29:52 +0000</td>\n",
       "      <td>https://twitter.com/twitter/status/71199827977...</td>\n",
       "      <td>12</td>\n",
       "      <td>...</td>\n",
       "      <td>0</td>\n",
       "      <td>123</td>\n",
       "      <td>146211</td>\n",
       "      <td>8943108</td>\n",
       "      <td>https://pbs.twimg.com/tweet_video_thumb/CeGGkW...</td>\n",
       "      <td>1</td>\n",
       "      <td>kuvasz</td>\n",
       "      <td>0.059895</td>\n",
       "      <td>unknown</td>\n",
       "      <td>15</td>\n",
       "    </tr>\n",
       "    <tr>\n",
       "      <th>1963</th>\n",
       "      <td>667550904950915073</td>\n",
       "      <td>NaN</td>\n",
       "      <td>NaN</td>\n",
       "      <td>Twitter Web Client</td>\n",
       "      <td>[rt, dogratingrating, exceptional, talent, ori...</td>\n",
       "      <td>6.675487e+17</td>\n",
       "      <td>4.296832e+09</td>\n",
       "      <td>2015-11-20 03:43:06 +0000</td>\n",
       "      <td>https://twitter.com/dogratingrating/status/667...</td>\n",
       "      <td>12</td>\n",
       "      <td>...</td>\n",
       "      <td>0</td>\n",
       "      <td>31</td>\n",
       "      <td>146208</td>\n",
       "      <td>8943149</td>\n",
       "      <td>https://pbs.twimg.com/media/CUOb_gUUkAACXdS.jpg</td>\n",
       "      <td>1</td>\n",
       "      <td>vizsla</td>\n",
       "      <td>0.000081</td>\n",
       "      <td>NaN</td>\n",
       "      <td>17</td>\n",
       "    </tr>\n",
       "    <tr>\n",
       "      <th>1964</th>\n",
       "      <td>667550882905632768</td>\n",
       "      <td>NaN</td>\n",
       "      <td>NaN</td>\n",
       "      <td>Twitter Web Client</td>\n",
       "      <td>[rt, dogratingrating, unoriginal, idea, blatan...</td>\n",
       "      <td>6.675484e+17</td>\n",
       "      <td>4.296832e+09</td>\n",
       "      <td>2015-11-20 03:41:59 +0000</td>\n",
       "      <td>https://twitter.com/dogratingrating/status/667...</td>\n",
       "      <td>5</td>\n",
       "      <td>...</td>\n",
       "      <td>0</td>\n",
       "      <td>27</td>\n",
       "      <td>146208</td>\n",
       "      <td>8943149</td>\n",
       "      <td>https://pbs.twimg.com/media/CUObvUJVEAAnYPF.jpg</td>\n",
       "      <td>1</td>\n",
       "      <td>NaN</td>\n",
       "      <td>0.000000</td>\n",
       "      <td>NaN</td>\n",
       "      <td>14</td>\n",
       "    </tr>\n",
       "  </tbody>\n",
       "</table>\n",
       "<p>72 rows × 27 columns</p>\n",
       "</div>"
      ],
      "text/plain": [
       "                tweet_id  in_reply_to_status_id  in_reply_to_user_id  \\\n",
       "32    885311592912609280                    NaN                  NaN   \n",
       "67    877611172832227328                    NaN                  NaN   \n",
       "107   867072653475098625                    NaN                  NaN   \n",
       "130   860924035999428608                    NaN                  NaN   \n",
       "167   851861385021730816                    NaN                  NaN   \n",
       "182   847971574464610304                    NaN                  NaN   \n",
       "209   841833993020538882                    NaN                  NaN   \n",
       "220   839290600511926273                    NaN                  NaN   \n",
       "223   838916489579200512                    NaN                  NaN   \n",
       "255   832769181346996225                    NaN                  NaN   \n",
       "261   832215726631055365                    NaN                  NaN   \n",
       "262   832040443403784192                    NaN                  NaN   \n",
       "276   829878982036299777                    NaN                  NaN   \n",
       "309   824796380199809024                    NaN                  NaN   \n",
       "318   823269594223824897                    NaN                  NaN   \n",
       "322   822647212903690241                    NaN                  NaN   \n",
       "328   821813639212650496                    NaN                  NaN   \n",
       "337   820446719150292993                    NaN                  NaN   \n",
       "346   819015337530290176                    NaN                  NaN   \n",
       "347   819015331746349057                    NaN                  NaN   \n",
       "352   818588835076603904                    NaN                  NaN   \n",
       "361   817181837579653120                    NaN                  NaN   \n",
       "365   816829038950027264                    NaN                  NaN   \n",
       "371   816014286006976512                    NaN                  NaN   \n",
       "381   813944609378369540                    NaN                  NaN   \n",
       "412   809808892968534016                    NaN                  NaN   \n",
       "419   808134635716833280                    NaN                  NaN   \n",
       "424   807059379405148160                    NaN                  NaN   \n",
       "428   806242860592926720                    NaN                  NaN   \n",
       "430   805958939288408065                    NaN                  NaN   \n",
       "...                  ...                    ...                  ...   \n",
       "484   796177847564038144                    NaN                  NaN   \n",
       "492   794983741416415232                    NaN                  NaN   \n",
       "494   794355576146903043                    NaN                  NaN   \n",
       "499   793614319594401792                    NaN                  NaN   \n",
       "522   791026214425268224                    NaN                  NaN   \n",
       "525   790723298204217344                    NaN                  NaN   \n",
       "541   788070120937619456                    NaN                  NaN   \n",
       "553   786036967502913536                    NaN                  NaN   \n",
       "568   783347506784731136                    NaN                  NaN   \n",
       "576   782021823840026624                    NaN                  NaN   \n",
       "587   780496263422808064                    NaN                  NaN   \n",
       "588   780476555013349377                    NaN                  NaN   \n",
       "599   778396591732486144                    NaN                  NaN   \n",
       "606   777641927919427584                    NaN                  NaN   \n",
       "609   776819012571455488                    NaN                  NaN   \n",
       "616   775898661951791106                    NaN                  NaN   \n",
       "635   772615324260794368                    NaN                  NaN   \n",
       "645   771171053431250945                    NaN                  NaN   \n",
       "654   770093767776997377                    NaN                  NaN   \n",
       "674   766078092750233600                    NaN                  NaN   \n",
       "693   761750502866649088                    NaN                  NaN   \n",
       "697   761371037149827077                    NaN                  NaN   \n",
       "715   759159934323924993                    NaN                  NaN   \n",
       "727   757729163776290825                    NaN                  NaN   \n",
       "730   757597904299253760                    NaN                  NaN   \n",
       "745   754874841593970688                    NaN                  NaN   \n",
       "762   752309394570878976                    NaN                  NaN   \n",
       "1022  711998809858043904                    NaN                  NaN   \n",
       "1963  667550904950915073                    NaN                  NaN   \n",
       "1964  667550882905632768                    NaN                  NaN   \n",
       "\n",
       "                  source                                               text  \\\n",
       "32    Twitter for iPhone  [rt, dog, rate, this, is, lilly, she, just, pa...   \n",
       "67    Twitter for iPhone  [rt, rachel2195, dog, rate, the, boyfriend, an...   \n",
       "107   Twitter for iPhone  [rt, rachaeleasler, these, dog, rate, hat, are...   \n",
       "130   Twitter for iPhone  [rt, tallylott, h, ckin, adorable, promposal, ...   \n",
       "167   Twitter for iPhone  [rt, eddie, coe98, thanks, dog, rate, complete...   \n",
       "182   Twitter for iPhone  [rt, basic, vacek, i, love, my, new, mug, easy...   \n",
       "209   Twitter for iPhone  [rt, dog, rate, this, is, ken, his, cheek, are...   \n",
       "220   Twitter for iPhone  [rt, alexmartindawg, the, drink, is, dr, puppe...   \n",
       "223   Twitter for iPhone  [rt, kibadva, i, collected, all, the, good, do...   \n",
       "255   Twitter for iPhone  [rt, emiliegambril, 12, 10, h, cking, excited,...   \n",
       "261   Twitter for iPhone  [rt, dog, rate, this, is, moreton, he, s, the,...   \n",
       "262   Twitter for iPhone  [rt, dog, rate, this, is, klein, these, pic, w...   \n",
       "276   Twitter for iPhone  [rt, dog, rate, this, is, loki, he, smile, lik...   \n",
       "309   Twitter for iPhone  [rt, dog, rate, this, is, bailey, she, love, g...   \n",
       "318   Twitter for iPhone  [rt, dog, rate, we, only, rate, dog, please, d...   \n",
       "322   Twitter for iPhone  [rt, dog, rate, this, is, paisley, she, really...   \n",
       "328   Twitter for iPhone  [rt, dog, rate, meet, hercules, he, can, have,...   \n",
       "337   Twitter for iPhone  [rt, dog, rate, this, is, peach, she, s, the, ...   \n",
       "346   Twitter for iPhone  [rt, dog, rate, this, is, bo, he, wa, a, very,...   \n",
       "347   Twitter for iPhone  [rt, dog, rate, this, is, sunny, she, wa, also...   \n",
       "352   Twitter for iPhone  [rt, dog, rate, this, is, chelsea, she, forgot...   \n",
       "361   Twitter for iPhone  [rt, dog, rate, here, s, a, pupper, with, sque...   \n",
       "365   Twitter for iPhone  [rt, dog, rate, this, is, betty, she, s, assis...   \n",
       "371   Twitter for iPhone  [rt, dog, rate, this, is, larry, he, ha, no, s...   \n",
       "381   Twitter for iPhone  [rt, dog, rate, this, is, bruce, he, never, ba...   \n",
       "412   Twitter for iPhone  [rt, dog, rate, this, is, maximus, his, face, ...   \n",
       "419   Twitter for iPhone  [rt, dog, rate, this, is, milo, i, would, do, ...   \n",
       "424   Twitter for iPhone  [rt, dog, rate, this, is, cali, she, arrived, ...   \n",
       "428   Twitter for iPhone  [rt, dog, rate, this, is, dave, he, s, current...   \n",
       "430   Twitter for iPhone  [rt, dog, rate, this, is, penny, she, fought, ...   \n",
       "...                  ...                                                ...   \n",
       "484   Twitter for iPhone  [rt, dog, rate, this, is, ruby, she, just, tur...   \n",
       "492   Twitter for iPhone  [rt, dog, rate, this, is, rizzy, she, smile, a...   \n",
       "494   Twitter for iPhone  [rt, dog, rate, this, is, butter, she, can, ha...   \n",
       "499   Twitter for iPhone  [rt, dog, rate, when, she, say, you, re, a, go...   \n",
       "522   Twitter for iPhone  [rt, dog, rate, this, is, alfie, he, s, touchi...   \n",
       "525   Twitter for iPhone  [rt, dog, rate, this, is, happy, he, s, a, bat...   \n",
       "541   Twitter for iPhone  [rt, dog, rate, this, is, bo, and, ty, bo, eat...   \n",
       "553   Twitter for iPhone  [rt, dog, rate, this, is, scout, he, really, w...   \n",
       "568   Twitter for iPhone  [rt, dog, rate, this, is, kenny, he, just, wan...   \n",
       "576   Twitter for iPhone  [rt, dog, rate, this, is, harper, she, scraped...   \n",
       "587   Twitter for iPhone  [rt, dog, rate, this, is, bell, she, like, hol...   \n",
       "588   Twitter for iPhone  [rt, patreon, well, dog, rate, is, on, patreon...   \n",
       "599   Twitter for iPhone  [rt, dog, rate, this, is, an, east, african, c...   \n",
       "606   Twitter for iPhone  [rt, dog, rate, this, is, arnie, he, s, a, nov...   \n",
       "609   Twitter for iPhone  [rt, dog, rate, everybody, look, at, this, bea...   \n",
       "616   Twitter for iPhone  [rt, dog, rate, like, father, doggo, like, son...   \n",
       "635   Twitter for iPhone  [rt, dog, rate, this, is, gromit, he, s, pupse...   \n",
       "645   Twitter for iPhone  [rt, dog, rate, this, is, frankie, he, s, wear...   \n",
       "654   Twitter for iPhone  [rt, dog, rate, this, is, just, downright, pre...   \n",
       "674   Twitter for iPhone  [rt, dog, rate, this, is, colby, he, s, curren...   \n",
       "693   Twitter for iPhone  [rt, dog, rate, tristan, do, not, speak, to, m...   \n",
       "697   Twitter for iPhone  [rt, dog, rate, oh, my, god, 13, 10, magical, ...   \n",
       "715   Twitter for iPhone  [rt, dog, rate, at, dawn, we, ride, 11, 10, ht...   \n",
       "727   Twitter for iPhone  [rt, dog, rate, this, is, chompsky, he, life, ...   \n",
       "730   Twitter for iPhone  [rt, jon, hill987, dog, rate, there, is, a, cu...   \n",
       "745   Twitter for iPhone  [rt, dog, rate, this, is, rubio, he, ha, too, ...   \n",
       "762   Twitter for iPhone  [rt, dog, rate, everyone, need, to, watch, thi...   \n",
       "1022  Twitter for iPhone  [rt, twitter, dog, rate, awesome, tweet, 12, 1...   \n",
       "1963  Twitter Web Client  [rt, dogratingrating, exceptional, talent, ori...   \n",
       "1964  Twitter Web Client  [rt, dogratingrating, unoriginal, idea, blatan...   \n",
       "\n",
       "      retweeted_status_id  retweeted_status_user_id  \\\n",
       "32           8.305833e+17              4.196984e+09   \n",
       "67           8.768508e+17              5.128045e+08   \n",
       "107          8.650134e+17              7.874618e+17   \n",
       "130          8.609145e+17              3.638908e+08   \n",
       "167          8.482894e+17              3.410211e+08   \n",
       "182          8.479710e+17              5.970642e+08   \n",
       "209          8.174239e+17              4.196984e+09   \n",
       "220          8.392899e+17              4.119842e+07   \n",
       "223          8.389060e+17              8.117408e+08   \n",
       "255          8.327664e+17              4.871977e+08   \n",
       "261          7.932865e+17              4.196984e+09   \n",
       "262          7.699404e+17              4.196984e+09   \n",
       "276          8.269587e+17              4.196984e+09   \n",
       "309          7.950767e+17              4.196984e+09   \n",
       "318          8.222448e+17              4.196984e+09   \n",
       "322          8.224891e+17              4.196984e+09   \n",
       "328          7.806013e+17              4.196984e+09   \n",
       "337          8.001414e+17              4.196984e+09   \n",
       "346          8.190048e+17              4.196984e+09   \n",
       "347          8.190064e+17              4.196984e+09   \n",
       "352          7.735476e+17              4.196984e+09   \n",
       "361          8.159661e+17              4.196984e+09   \n",
       "365          7.909461e+17              4.196984e+09   \n",
       "371          7.320056e+17              4.196984e+09   \n",
       "381          7.902771e+17              4.196984e+09   \n",
       "412          7.939622e+17              4.196984e+09   \n",
       "419          8.011679e+17              4.196984e+09   \n",
       "424          7.829691e+17              4.196984e+09   \n",
       "428          7.833346e+17              4.196984e+09   \n",
       "430          7.827226e+17              4.196984e+09   \n",
       "...                   ...                       ...   \n",
       "484          7.961497e+17              4.196984e+09   \n",
       "492          7.895309e+17              4.196984e+09   \n",
       "494          7.887659e+17              4.196984e+09   \n",
       "499          7.916723e+17              4.196984e+09   \n",
       "522          7.638376e+17              4.196984e+09   \n",
       "525          7.899865e+17              4.196984e+09   \n",
       "541          7.610045e+17              4.196984e+09   \n",
       "553          7.798343e+17              4.196984e+09   \n",
       "568          6.742918e+17              4.196984e+09   \n",
       "576          7.076109e+17              4.196984e+09   \n",
       "587          7.424232e+17              4.196984e+09   \n",
       "588          7.804657e+17              1.228326e+09   \n",
       "599          7.030419e+17              4.196984e+09   \n",
       "606          7.504293e+17              4.196984e+09   \n",
       "609          6.798284e+17              4.196984e+09   \n",
       "616          7.331095e+17              4.196984e+09   \n",
       "635          7.652221e+17              4.196984e+09   \n",
       "645          6.733201e+17              4.196984e+09   \n",
       "654          7.410673e+17              4.196984e+09   \n",
       "674          7.258423e+17              4.196984e+09   \n",
       "693          6.853251e+17              4.196984e+09   \n",
       "697          7.116948e+17              4.196984e+09   \n",
       "715          6.703191e+17              4.196984e+09   \n",
       "727          6.790626e+17              4.196984e+09   \n",
       "730          7.575971e+17              2.804798e+08   \n",
       "745          6.791584e+17              4.196984e+09   \n",
       "762          6.753544e+17              4.196984e+09   \n",
       "1022         7.119983e+17              7.832140e+05   \n",
       "1963         6.675487e+17              4.296832e+09   \n",
       "1964         6.675484e+17              4.296832e+09   \n",
       "\n",
       "     retweeted_status_timestamp  \\\n",
       "32    2017-02-12 01:04:29 +0000   \n",
       "67    2017-06-19 17:14:49 +0000   \n",
       "107   2017-05-18 01:17:25 +0000   \n",
       "130   2017-05-06 17:49:42 +0000   \n",
       "167   2017-04-01 21:42:03 +0000   \n",
       "182   2017-04-01 00:36:55 +0000   \n",
       "209   2017-01-06 17:33:29 +0000   \n",
       "220   2017-03-08 01:41:24 +0000   \n",
       "223   2017-03-07 00:15:46 +0000   \n",
       "255   2017-02-18 01:39:12 +0000   \n",
       "261   2016-11-01 03:00:09 +0000   \n",
       "262   2016-08-28 16:51:16 +0000   \n",
       "276   2017-02-02 01:01:21 +0000   \n",
       "309   2016-11-06 01:33:58 +0000   \n",
       "318   2017-01-20 00:50:15 +0000   \n",
       "322   2017-01-20 17:00:46 +0000   \n",
       "328   2016-09-27 02:53:48 +0000   \n",
       "337   2016-11-20 00:59:15 +0000   \n",
       "346   2017-01-11 02:15:36 +0000   \n",
       "347   2017-01-11 02:21:57 +0000   \n",
       "352   2016-09-07 15:44:53 +0000   \n",
       "361   2017-01-02 17:00:46 +0000   \n",
       "365   2016-10-25 16:00:09 +0000   \n",
       "371   2016-05-16 00:31:53 +0000   \n",
       "381   2016-10-23 19:42:02 +0000   \n",
       "412   2016-11-02 23:45:19 +0000   \n",
       "419   2016-11-22 20:58:07 +0000   \n",
       "424   2016-10-03 15:42:44 +0000   \n",
       "428   2016-10-04 15:55:06 +0000   \n",
       "430   2016-10-02 23:23:04 +0000   \n",
       "...                         ...   \n",
       "484   2016-11-09 00:37:46 +0000   \n",
       "492   2016-10-21 18:16:44 +0000   \n",
       "494   2016-10-19 15:37:03 +0000   \n",
       "499   2016-10-27 16:06:04 +0000   \n",
       "522   2016-08-11 20:40:41 +0000   \n",
       "525   2016-10-23 00:27:05 +0000   \n",
       "541   2016-08-04 01:03:17 +0000   \n",
       "553   2016-09-25 00:06:08 +0000   \n",
       "568   2015-12-08 18:17:56 +0000   \n",
       "576   2016-03-09 16:56:11 +0000   \n",
       "587   2016-06-13 18:27:32 +0000   \n",
       "588   2016-09-26 17:55:00 +0000   \n",
       "599   2016-02-26 02:20:37 +0000   \n",
       "606   2016-07-05 20:41:01 +0000   \n",
       "609   2015-12-24 00:58:27 +0000   \n",
       "616   2016-05-19 01:38:16 +0000   \n",
       "635   2016-08-15 16:22:20 +0000   \n",
       "645   2015-12-06 01:56:44 +0000   \n",
       "654   2016-06-10 00:39:48 +0000   \n",
       "674   2016-04-29 00:21:01 +0000   \n",
       "693   2016-01-08 05:00:14 +0000   \n",
       "697   2016-03-20 23:23:54 +0000   \n",
       "715   2015-11-27 19:11:49 +0000   \n",
       "727   2015-12-21 22:15:18 +0000   \n",
       "730   2016-07-25 15:23:28 +0000   \n",
       "745   2015-12-22 04:35:49 +0000   \n",
       "762   2015-12-11 16:40:19 +0000   \n",
       "1022  2016-03-21 19:29:52 +0000   \n",
       "1963  2015-11-20 03:43:06 +0000   \n",
       "1964  2015-11-20 03:41:59 +0000   \n",
       "\n",
       "                                          expanded_urls  rating_numerator  \\\n",
       "32    https://twitter.com/dog_rates/status/830583320...                13   \n",
       "67    https://twitter.com/rachel2195/status/87685077...                14   \n",
       "107   https://twitter.com/rachaeleasler/status/86501...                13   \n",
       "130   https://twitter.com/tallylott/status/860914485...                13   \n",
       "167   https://twitter.com/eddie_coe98/status/8482893...                10   \n",
       "182   https://twitter.com/basic_vacek_/status/847971...                13   \n",
       "209   https://twitter.com/dog_rates/status/817423860...                13   \n",
       "220   https://twitter.com/alexmartindawg/status/8392...                10   \n",
       "223   https://twitter.com/KibaDva/status/83890598062...                15   \n",
       "255   https://twitter.com/EmilieGambril/status/83276...                12   \n",
       "261   https://twitter.com/dog_rates/status/793286476...                13   \n",
       "262   https://twitter.com/dog_rates/status/769940425...                12   \n",
       "276   https://twitter.com/dog_rates/status/826958653...                12   \n",
       "309   https://twitter.com/dog_rates/status/795076730...                11   \n",
       "318   https://twitter.com/dog_rates/status/822244816...                11   \n",
       "322   https://twitter.com/dog_rates/status/822489057...                13   \n",
       "328   https://twitter.com/dog_rates/status/780601303...                12   \n",
       "337   https://twitter.com/dog_rates/status/800141422...                13   \n",
       "346   https://twitter.com/dog_rates/status/819004803...                14   \n",
       "347   https://twitter.com/dog_rates/status/819006400...                14   \n",
       "352   https://twitter.com/dog_rates/status/773547596...                11   \n",
       "361   https://twitter.com/dog_rates/status/815966073...                13   \n",
       "365   https://twitter.com/dog_rates/status/790946055...                12   \n",
       "371   https://twitter.com/dog_rates/status/732005617...                11   \n",
       "381   https://twitter.com/dog_rates/status/790277117...                11   \n",
       "412   https://twitter.com/dog_rates/status/793962221...                12   \n",
       "419   https://twitter.com/dog_rates/status/801167903...                13   \n",
       "424   https://twitter.com/dog_rates/status/782969140...                12   \n",
       "428   https://twitter.com/dog_rates/status/783334639...                12   \n",
       "430   https://twitter.com/dog_rates/status/782722598...                10   \n",
       "...                                                 ...               ...   \n",
       "484   https://twitter.com/dog_rates/status/796149749...                11   \n",
       "492   https://twitter.com/dog_rates/status/789530877...                12   \n",
       "494   https://twitter.com/dog_rates/status/788765914...                12   \n",
       "499   https://twitter.com/dog_rates/status/791672322...                13   \n",
       "522   https://twitter.com/dog_rates/status/763837565...                11   \n",
       "525   https://twitter.com/dog_rates/status/789986466...                12   \n",
       "541   https://twitter.com/dog_rates/status/761004547...                11   \n",
       "553   https://twitter.com/dog_rates/status/779834332...                11   \n",
       "568   https://twitter.com/dog_rates/status/674291837...                11   \n",
       "576   https://twitter.com/dog_rates/status/707610948...                12   \n",
       "587   https://twitter.com/dog_rates/status/742423170...                12   \n",
       "588   https://www.patreon.com/WeRateDogs,https://twi...                12   \n",
       "599   https://twitter.com/dog_rates/status/703041949...                10   \n",
       "606   https://twitter.com/dog_rates/status/750429297...                12   \n",
       "609   https://twitter.com/dog_rates/status/679828447...                13   \n",
       "616   https://twitter.com/dog_rates/status/733109485...                12   \n",
       "635   https://twitter.com/dog_rates/status/765222098...                10   \n",
       "645   https://twitter.com/dog_rates/status/673320132...                11   \n",
       "654   https://twitter.com/dog_rates/status/741067306...                12   \n",
       "674   https://twitter.com/dog_rates/status/725842289...                12   \n",
       "693   https://twitter.com/dog_rates/status/685325112...                10   \n",
       "697   https://twitter.com/dog_rates/status/711694788...                13   \n",
       "715   https://twitter.com/dog_rates/status/670319130...                11   \n",
       "727   https://twitter.com/dog_rates/status/679062614...                11   \n",
       "730   https://twitter.com/jon_hill987/status/7575971...                11   \n",
       "745   https://twitter.com/dog_rates/status/679158373...                11   \n",
       "762   https://twitter.com/dog_rates/status/675354435...                13   \n",
       "1022  https://twitter.com/twitter/status/71199827977...                12   \n",
       "1963  https://twitter.com/dogratingrating/status/667...                12   \n",
       "1964  https://twitter.com/dogratingrating/status/667...                 5   \n",
       "\n",
       "          ...       favorites retweets user_favourites user_followers  \\\n",
       "32        ...               0    16291          146211        8943066   \n",
       "67        ...               0       71          146211        8943066   \n",
       "107       ...               0      108          146211        8943067   \n",
       "130       ...               0      723          146211        8943066   \n",
       "167       ...               0       19          146211        8943066   \n",
       "182       ...               0      419          146211        8943066   \n",
       "209       ...               0    14403          146211        8943067   \n",
       "220       ...               0      139          146211        8943067   \n",
       "223       ...               0       33          146211        8943067   \n",
       "255       ...               0       38          146211        8943069   \n",
       "261       ...               0     9057          146211        8943069   \n",
       "262       ...               0     9306          146211        8943069   \n",
       "276       ...               0     4869          146211        8943069   \n",
       "309       ...               0     5383          146211        8943069   \n",
       "318       ...               0     9663          146211        8943069   \n",
       "322       ...               0     6264          146211        8943069   \n",
       "328       ...               0     3303          146211        8943068   \n",
       "337       ...               0     2520          146211        8943069   \n",
       "346       ...               0    36316          146211        8943069   \n",
       "347       ...               0    18691          146211        8943069   \n",
       "352       ...               0     6009          146211        8943069   \n",
       "361       ...               0     8318          146211        8943069   \n",
       "365       ...               0     4634          146211        8943069   \n",
       "371       ...               0     5167          146211        8943069   \n",
       "381       ...               0     3138          146211        8943069   \n",
       "412       ...               0     4836          146211        8943069   \n",
       "419       ...               0     5842          146211        8943069   \n",
       "424       ...               0     7253          146211        8943069   \n",
       "428       ...               0    11502          146211        8943069   \n",
       "430       ...               0     5305          146211        8943069   \n",
       "...       ...             ...      ...             ...            ...   \n",
       "484       ...               0    14125          146211        8943071   \n",
       "492       ...               0     3343          146211        8943071   \n",
       "494       ...               0    10171          146211        8943071   \n",
       "499       ...               0     3098          146211        8943071   \n",
       "522       ...               0     4046          146209        8943694   \n",
       "525       ...               0     2282          146211        8943071   \n",
       "541       ...               0     3391          146211        8943071   \n",
       "553       ...               0     6898          146211        8943071   \n",
       "568       ...               0     5452          146211        8943071   \n",
       "576       ...               0     6096          146211        8943071   \n",
       "587       ...               0     3607          146211        8943072   \n",
       "588       ...               0      109          146211        8943072   \n",
       "599       ...               0    11992          146211        8943072   \n",
       "606       ...               0     4143          146211        8943072   \n",
       "609       ...               0    13414          146211        8943072   \n",
       "616       ...               0    16437          146211        8943072   \n",
       "635       ...               0     3308          146211        8943072   \n",
       "645       ...               0     7271          146211        8943072   \n",
       "654       ...               0     2976          146211        8943072   \n",
       "674       ...               0     2559          146211        8943072   \n",
       "693       ...               0     3816          146211        8943072   \n",
       "697       ...               0    17628          146211        8943072   \n",
       "715       ...               0     1128          146211        8943072   \n",
       "727       ...               0     7676          146211        8943107   \n",
       "730       ...               0      292          146211        8943107   \n",
       "745       ...               0     7677          146211        8943107   \n",
       "762       ...               0    15719          146211        8943108   \n",
       "1022      ...               0      123          146211        8943108   \n",
       "1963      ...               0       31          146208        8943149   \n",
       "1964      ...               0       27          146208        8943149   \n",
       "\n",
       "                                                jpg_url img_num  \\\n",
       "32      https://pbs.twimg.com/media/C4bTH6nWMAAX_bJ.jpg       1   \n",
       "67      https://pbs.twimg.com/media/DCszHgmW0AAmIpT.jpg       1   \n",
       "107     https://pbs.twimg.com/media/DAElHfmUMAEH9lB.jpg       1   \n",
       "130     https://pbs.twimg.com/media/C_KVJjDXsAEUCWn.jpg       2   \n",
       "167     https://pbs.twimg.com/media/C8W6sY_W0AEmttW.jpg       1   \n",
       "182     https://pbs.twimg.com/media/C8SZH1EWAAAIRRF.jpg       1   \n",
       "209   https://pbs.twimg.com/ext_tw_video_thumb/81742...       1   \n",
       "220     https://pbs.twimg.com/media/C6XBt9XXEAEEW9U.jpg       1   \n",
       "223     https://pbs.twimg.com/media/C6RkiQZUsAAM4R4.jpg       2   \n",
       "255     https://pbs.twimg.com/media/C46UmzSVMAAqBug.jpg       1   \n",
       "261     https://pbs.twimg.com/media/CwJR1okWIAA6XMp.jpg       1   \n",
       "262     https://pbs.twimg.com/media/Cq9guJ5WgAADfpF.jpg       1   \n",
       "276     https://pbs.twimg.com/media/C3nygbBWQAAjwcW.jpg       1   \n",
       "309     https://pbs.twimg.com/media/CwiuEJmW8AAZnit.jpg       2   \n",
       "318     https://pbs.twimg.com/media/C2kzTGxWEAEOpPL.jpg       1   \n",
       "322     https://pbs.twimg.com/media/C2oRbOuWEAAbVSl.jpg       1   \n",
       "328     https://pbs.twimg.com/media/CtVAvX-WIAAcGTf.jpg       1   \n",
       "337     https://pbs.twimg.com/media/CxqsX-8XUAAEvjD.jpg       3   \n",
       "346     https://pbs.twimg.com/media/C12whDoVEAALRxa.jpg       1   \n",
       "347     https://pbs.twimg.com/media/C12x-JTVIAAzdfl.jpg       4   \n",
       "352     https://pbs.twimg.com/media/Crwxb5yWgAAX5P_.jpg       1   \n",
       "361   https://pbs.twimg.com/ext_tw_video_thumb/81596...       1   \n",
       "365     https://pbs.twimg.com/media/CvoBPWRWgAA4het.jpg       1   \n",
       "371     https://pbs.twimg.com/media/CiibOMzUYAA9Mxz.jpg       1   \n",
       "381     https://pbs.twimg.com/media/Cveg1-NXgAASaaT.jpg       1   \n",
       "412     https://pbs.twimg.com/media/CwS4aqZXUAAe3IO.jpg       1   \n",
       "419     https://pbs.twimg.com/media/Cx5R8wPVEAALa9r.jpg       1   \n",
       "424     https://pbs.twimg.com/media/Ct2qO5PXEAE6eB0.jpg       1   \n",
       "428     https://pbs.twimg.com/media/Ct72q9jWcAAhlnw.jpg       2   \n",
       "430     https://pbs.twimg.com/media/CtzKC7zXEAALfSo.jpg       1   \n",
       "...                                                 ...     ...   \n",
       "484     https://pbs.twimg.com/media/Cwx99rpW8AMk_Ie.jpg       1   \n",
       "492     https://pbs.twimg.com/media/CvT6IV6WEAQhhV5.jpg       3   \n",
       "494     https://pbs.twimg.com/media/CvJCabcWgAIoUxW.jpg       1   \n",
       "499     https://pbs.twimg.com/media/CvyVxQRWEAAdSZS.jpg       1   \n",
       "522     https://pbs.twimg.com/media/CpmyNumW8AAAJGj.jpg       1   \n",
       "525     https://pbs.twimg.com/media/CvaYgDOWgAEfjls.jpg       1   \n",
       "541     https://pbs.twimg.com/media/Co-hmcYXYAASkiG.jpg       1   \n",
       "553     https://pbs.twimg.com/media/CtKHLuCWYAA2TTs.jpg       1   \n",
       "568     https://pbs.twimg.com/media/CVuQ2LeUsAAIe3s.jpg       1   \n",
       "576     https://pbs.twimg.com/media/CdHwZd0VIAA4792.jpg       1   \n",
       "587     https://pbs.twimg.com/media/Ck2d7tJWUAEPTL3.jpg       1   \n",
       "588   https://pbs.twimg.com/tweet_video_thumb/CtTFZZ...       1   \n",
       "599     https://pbs.twimg.com/media/CcG07BYW0AErrC9.jpg       1   \n",
       "606     https://pbs.twimg.com/media/CmoPdmHW8AAi8BI.jpg       1   \n",
       "609     https://pbs.twimg.com/media/CW88XN4WsAAlo8r.jpg       3   \n",
       "616     https://pbs.twimg.com/media/CiyHLocU4AI2pJu.jpg       1   \n",
       "635     https://pbs.twimg.com/media/Cp6db4-XYAAMmqL.jpg       1   \n",
       "645     https://pbs.twimg.com/media/CVgdFjNWEAAxmbq.jpg       3   \n",
       "654     https://pbs.twimg.com/media/CkjMx99UoAM2B1a.jpg       1   \n",
       "674     https://pbs.twimg.com/media/ChK1tdBWwAQ1flD.jpg       1   \n",
       "693     https://pbs.twimg.com/media/CYLDikFWEAAIy1y.jpg       1   \n",
       "697   https://pbs.twimg.com/tweet_video_thumb/CeBym7...       1   \n",
       "715     https://pbs.twimg.com/media/CU1zsMSUAAAS0qW.jpg       1   \n",
       "727     https://pbs.twimg.com/media/CWyD2HGUYAQ1Xa7.jpg       2   \n",
       "730     https://pbs.twimg.com/media/CoOGZjiWAAEMKGx.jpg       1   \n",
       "745     https://pbs.twimg.com/media/CWza7kpWcAAdYLc.jpg       1   \n",
       "762   https://pbs.twimg.com/ext_tw_video_thumb/67535...       1   \n",
       "1022  https://pbs.twimg.com/tweet_video_thumb/CeGGkW...       1   \n",
       "1963    https://pbs.twimg.com/media/CUOb_gUUkAACXdS.jpg       1   \n",
       "1964    https://pbs.twimg.com/media/CUObvUJVEAAnYPF.jpg       1   \n",
       "\n",
       "             predictions  confidences   gender  tweet_length  \n",
       "32    Labrador_retriever     0.908703   female            25  \n",
       "67          Irish_setter     0.364729     male            23  \n",
       "107     Blenheim_spaniel     0.352946  unknown            15  \n",
       "130                  NaN     0.000000  unknown            14  \n",
       "167                  NaN     0.000000  unknown            18  \n",
       "182                  NaN     0.000000  unknown            17  \n",
       "209              Samoyed     0.201358     male            19  \n",
       "220                  NaN     0.000000      NaN            18  \n",
       "223                  NaN     0.000000  unknown            17  \n",
       "255                  NaN     0.000000  unknown            17  \n",
       "261         Afghan_hound     0.274637     male            23  \n",
       "262   miniature_pinscher     0.796313     male            28  \n",
       "276     golden_retriever     0.617389     male            23  \n",
       "309                  NaN     0.000000   female            24  \n",
       "318              Samoyed     0.585441  unknown            26  \n",
       "322              Samoyed     0.416769   female            23  \n",
       "328        Saint_Bernard     0.995143     male            25  \n",
       "337     golden_retriever     0.938048   female            23  \n",
       "346      standard_poodle     0.351308     male            26  \n",
       "347                  NaN     0.000000   female            28  \n",
       "352   Norwegian_elkhound     0.372202   female            21  \n",
       "361      Tibetan_mastiff     0.506312  unknown            18  \n",
       "365     golden_retriever     0.245773   female            26  \n",
       "371       English_setter     0.677408     male            22  \n",
       "381   Labrador_retriever     0.427742     male            23  \n",
       "412   Labrador_retriever     0.861651     male            26  \n",
       "419       cocker_spaniel     0.740220  unknown            19  \n",
       "424     golden_retriever     0.171393   female            24  \n",
       "428             Cardigan     0.593858     male            27  \n",
       "430         Irish_setter     0.574557   female            27  \n",
       "...                  ...          ...      ...           ...  \n",
       "484     golden_retriever     0.600276   female            23  \n",
       "492           schipperke     0.363272   female            18  \n",
       "494       cocker_spaniel     0.500509   female            22  \n",
       "499     golden_retriever     0.705092     male            31  \n",
       "522             malamute     0.375098     male            21  \n",
       "525     golden_retriever     0.078530     male            24  \n",
       "541     golden_retriever     0.735163  unknown            24  \n",
       "553     golden_retriever     0.993830     male            23  \n",
       "568             Cardigan     0.611525     male            21  \n",
       "576     golden_retriever     0.383223   female            25  \n",
       "587                  pug     0.997310   female            22  \n",
       "588                  pug     0.919255  unknown            18  \n",
       "599                  NaN     0.000000  unknown            27  \n",
       "606     golden_retriever     0.964929     male            21  \n",
       "609            Chihuahua     0.346545  unknown            15  \n",
       "616     golden_retriever     0.945523  unknown            16  \n",
       "635            dalmatian     0.556595     male            28  \n",
       "645              Samoyed     0.978833     male            21  \n",
       "654     golden_retriever     0.843799  unknown            20  \n",
       "674           toy_poodle     0.420463     male            27  \n",
       "693     golden_retriever     0.586937  unknown            27  \n",
       "697                  NaN     0.000000  unknown            14  \n",
       "715        Irish_terrier     0.254856  unknown            13  \n",
       "727           schipperke     0.045519     male            18  \n",
       "730                  NaN     0.000000  unknown            21  \n",
       "745                  pug     0.272205     male            17  \n",
       "762     golden_retriever     0.181351  unknown            14  \n",
       "1022              kuvasz     0.059895  unknown            15  \n",
       "1963              vizsla     0.000081      NaN            17  \n",
       "1964                 NaN     0.000000      NaN            14  \n",
       "\n",
       "[72 rows x 27 columns]"
      ]
     },
     "execution_count": 66,
     "metadata": {},
     "output_type": "execute_result"
    }
   ],
   "source": [
    "df_master[~df_master.retweeted_status_timestamp.isnull()]"
   ]
  },
  {
   "cell_type": "markdown",
   "metadata": {},
   "source": [
    "#### Define\n",
    "in_reply_to_user_id contains one value and drop \n",
    "The in_reply_to_status_id,  and retweeted_status_id and retweeted_status_timestamp since we do not need any information about retweeting besides retweet_status_user_id which we will keep"
   ]
  },
  {
   "cell_type": "markdown",
   "metadata": {},
   "source": [
    "#### Code"
   ]
  },
  {
   "cell_type": "code",
   "execution_count": 67,
   "metadata": {},
   "outputs": [
    {
     "data": {
      "text/plain": [
       "1"
      ]
     },
     "execution_count": 67,
     "metadata": {},
     "output_type": "execute_result"
    }
   ],
   "source": [
    "df_master.in_reply_to_user_id.nunique() #this needs to be dropped since only one unique value"
   ]
  },
  {
   "cell_type": "markdown",
   "metadata": {},
   "source": [
    "This retweeted_status_user_id still gives us some insight so we will keep it"
   ]
  },
  {
   "cell_type": "code",
   "execution_count": 69,
   "metadata": {},
   "outputs": [
    {
     "data": {
      "image/png": "[encoded data removed]",
      "text/plain": [
       "<matplotlib.figure.Figure at 0x7f16e77b2160>"
      ]
     },
     "metadata": {
      "needs_background": "light"
     },
     "output_type": "display_data"
    }
   ],
   "source": [
    "df_master.groupby('retweeted_status_user_id')['retweets'].mean().sort_values(ascending=False).head(8).plot(kind='bar', color = sb.color_palette()[0])\n",
    "plt.title('Frequency of Different User_id for the Retweet');"
   ]
  },
  {
   "cell_type": "code",
   "execution_count": 70,
   "metadata": {},
   "outputs": [],
   "source": [
    "df_master = df_master.drop(columns = ['in_reply_to_status_id','in_reply_to_user_id','retweeted_status_id','retweeted_status_timestamp'])"
   ]
  },
  {
   "cell_type": "markdown",
   "metadata": {},
   "source": [
    "#### Test\n",
    "\n",
    "The columns are removed."
   ]
  },
  {
   "cell_type": "code",
   "execution_count": 71,
   "metadata": {},
   "outputs": [
    {
     "data": {
      "text/plain": [
       "Index(['tweet_id', 'source', 'text', 'retweeted_status_user_id',\n",
       "       'expanded_urls', 'rating_numerator', 'rating_denominator', 'name',\n",
       "       'doggo', 'floofer', 'pupper', 'puppo', 'date_time', 'favorites',\n",
       "       'retweets', 'user_favourites', 'user_followers', 'jpg_url', 'img_num',\n",
       "       'predictions', 'confidences', 'gender', 'tweet_length'],\n",
       "      dtype='object')"
      ]
     },
     "execution_count": 71,
     "metadata": {},
     "output_type": "execute_result"
    }
   ],
   "source": [
    "df_master.columns"
   ]
  },
  {
   "cell_type": "markdown",
   "metadata": {},
   "source": [
    "#### Define \n",
    "Drop column without image(jpg_url)"
   ]
  },
  {
   "cell_type": "markdown",
   "metadata": {},
   "source": [
    "#### Code"
   ]
  },
  {
   "cell_type": "code",
   "execution_count": 72,
   "metadata": {},
   "outputs": [],
   "source": [
    "df_master = df_master.dropna(subset = ['jpg_url'])"
   ]
  },
  {
   "cell_type": "markdown",
   "metadata": {},
   "source": [
    "#### Test"
   ]
  },
  {
   "cell_type": "code",
   "execution_count": 73,
   "metadata": {},
   "outputs": [
    {
     "data": {
      "text/plain": [
       "False"
      ]
     },
     "execution_count": 73,
     "metadata": {},
     "output_type": "execute_result"
    }
   ],
   "source": [
    "df_master.jpg_url.isna().any()"
   ]
  },
  {
   "cell_type": "markdown",
   "metadata": {},
   "source": [
    "#### Define\n",
    "Check for number of unique values in the column"
   ]
  },
  {
   "cell_type": "markdown",
   "metadata": {},
   "source": [
    "#### Code / Test"
   ]
  },
  {
   "cell_type": "code",
   "execution_count": 74,
   "metadata": {},
   "outputs": [],
   "source": [
    "non_include = ['text']\n",
    "column_to_check = [column for column in df_master.columns.tolist() if column not in non_include]"
   ]
  },
  {
   "cell_type": "code",
   "execution_count": 75,
   "metadata": {
    "scrolled": true
   },
   "outputs": [
    {
     "data": {
      "text/plain": [
       "[('tweet_id', 2059),\n",
       " ('source', 3),\n",
       " ('retweeted_status_user_id', 13),\n",
       " ('expanded_urls', 2059),\n",
       " ('rating_numerator', 35),\n",
       " ('rating_denominator', 15),\n",
       " ('name', 934),\n",
       " ('doggo', 2),\n",
       " ('floofer', 2),\n",
       " ('pupper', 2),\n",
       " ('puppo', 2),\n",
       " ('date_time', 2059),\n",
       " ('favorites', 1830),\n",
       " ('retweets', 1552),\n",
       " ('user_favourites', 3),\n",
       " ('user_followers', 34),\n",
       " ('jpg_url', 2000),\n",
       " ('img_num', 4),\n",
       " ('predictions', 113),\n",
       " ('confidences', 1682),\n",
       " ('gender', 3),\n",
       " ('tweet_length', 29)]"
      ]
     },
     "execution_count": 75,
     "metadata": {},
     "output_type": "execute_result"
    }
   ],
   "source": [
    "[(i, df_master[i].nunique()) for i in df_master[column_to_check]]"
   ]
  },
  {
   "cell_type": "markdown",
   "metadata": {},
   "source": [
    "#### Define\n",
    "\n",
    "Does not seem like we will get information fom user_favourites since there are 2 unique values, so it will be dropped"
   ]
  },
  {
   "cell_type": "markdown",
   "metadata": {},
   "source": [
    "#### Code"
   ]
  },
  {
   "cell_type": "code",
   "execution_count": 76,
   "metadata": {},
   "outputs": [],
   "source": [
    "df_master.drop(columns = 'user_favourites',inplace=True)"
   ]
  },
  {
   "cell_type": "markdown",
   "metadata": {},
   "source": [
    "#### Test"
   ]
  },
  {
   "cell_type": "code",
   "execution_count": 77,
   "metadata": {},
   "outputs": [
    {
     "data": {
      "text/plain": [
       "Index(['tweet_id', 'source', 'text', 'retweeted_status_user_id',\n",
       "       'expanded_urls', 'rating_numerator', 'rating_denominator', 'name',\n",
       "       'doggo', 'floofer', 'pupper', 'puppo', 'date_time', 'favorites',\n",
       "       'retweets', 'user_followers', 'jpg_url', 'img_num', 'predictions',\n",
       "       'confidences', 'gender', 'tweet_length'],\n",
       "      dtype='object')"
      ]
     },
     "execution_count": 77,
     "metadata": {},
     "output_type": "execute_result"
    }
   ],
   "source": [
    "df_master.columns"
   ]
  },
  {
   "cell_type": "markdown",
   "metadata": {},
   "source": [
    "#### Define\n",
    "\n",
    "Check for duplicate values"
   ]
  },
  {
   "cell_type": "markdown",
   "metadata": {},
   "source": [
    "#### Code / Test"
   ]
  },
  {
   "cell_type": "code",
   "execution_count": 78,
   "metadata": {},
   "outputs": [
    {
     "data": {
      "text/plain": [
       "False"
      ]
     },
     "execution_count": 78,
     "metadata": {},
     "output_type": "execute_result"
    }
   ],
   "source": [
    "non_include = ['text']\n",
    "column_to_check = [column for column in df_master.columns.tolist() if column not in non_include]\n",
    "df_master[column_to_check].duplicated().any()"
   ]
  },
  {
   "cell_type": "markdown",
   "metadata": {},
   "source": [
    "#### Define\n",
    "\n",
    "data is being converted to proper datatype and index is being resetted"
   ]
  },
  {
   "cell_type": "code",
   "execution_count": 79,
   "metadata": {},
   "outputs": [
    {
     "data": {
      "text/plain": [
       "tweet_id                             int64\n",
       "source                              object\n",
       "text                                object\n",
       "retweeted_status_user_id           float64\n",
       "expanded_urls                       object\n",
       "rating_numerator                     int64\n",
       "rating_denominator                   int64\n",
       "name                                object\n",
       "doggo                               object\n",
       "floofer                             object\n",
       "pupper                              object\n",
       "puppo                               object\n",
       "date_time                   datetime64[ns]\n",
       "favorites                            int64\n",
       "retweets                             int64\n",
       "user_followers                       int64\n",
       "jpg_url                             object\n",
       "img_num                              int64\n",
       "predictions                         object\n",
       "confidences                        float64\n",
       "gender                              object\n",
       "tweet_length                         int64\n",
       "dtype: object"
      ]
     },
     "execution_count": 79,
     "metadata": {},
     "output_type": "execute_result"
    }
   ],
   "source": [
    "df_master.dtypes"
   ]
  },
  {
   "cell_type": "markdown",
   "metadata": {},
   "source": [
    "#### Code"
   ]
  },
  {
   "cell_type": "code",
   "execution_count": 80,
   "metadata": {},
   "outputs": [],
   "source": [
    "def convert_data_type(data, datatype):\n",
    "    return data.astype(datatype)"
   ]
  },
  {
   "cell_type": "code",
   "execution_count": 81,
   "metadata": {},
   "outputs": [],
   "source": [
    "df_master['tweet_id'] = convert_data_type(df_master['tweet_id'], str)\n",
    "df_master['source'] = convert_data_type(df_master['source'], 'category')\n",
    "df_master['gender'] = convert_data_type(df_master['gender'], 'category')"
   ]
  },
  {
   "cell_type": "markdown",
   "metadata": {},
   "source": [
    "#### Test"
   ]
  },
  {
   "cell_type": "code",
   "execution_count": 82,
   "metadata": {},
   "outputs": [
    {
     "name": "stdout",
     "output_type": "stream",
     "text": [
      "<class 'pandas.core.frame.DataFrame'>\n",
      "Int64Index: 2059 entries, 0 to 2058\n",
      "Data columns (total 22 columns):\n",
      "tweet_id                    2059 non-null object\n",
      "source                      2059 non-null category\n",
      "text                        2059 non-null object\n",
      "retweeted_status_user_id    72 non-null float64\n",
      "expanded_urls               2059 non-null object\n",
      "rating_numerator            2059 non-null int64\n",
      "rating_denominator          2059 non-null int64\n",
      "name                        2059 non-null object\n",
      "doggo                       2059 non-null object\n",
      "floofer                     2059 non-null object\n",
      "pupper                      2059 non-null object\n",
      "puppo                       2059 non-null object\n",
      "date_time                   2059 non-null datetime64[ns]\n",
      "favorites                   2059 non-null int64\n",
      "retweets                    2059 non-null int64\n",
      "user_followers              2059 non-null int64\n",
      "jpg_url                     2059 non-null object\n",
      "img_num                     2059 non-null int64\n",
      "predictions                 1737 non-null object\n",
      "confidences                 2059 non-null float64\n",
      "gender                      1831 non-null category\n",
      "tweet_length                2059 non-null int64\n",
      "dtypes: category(2), datetime64[ns](1), float64(2), int64(7), object(10)\n",
      "memory usage: 342.0+ KB\n"
     ]
    }
   ],
   "source": [
    "df_master.info()"
   ]
  },
  {
   "cell_type": "markdown",
   "metadata": {},
   "source": [
    "### Store Cleaned Data into a file"
   ]
  },
  {
   "cell_type": "markdown",
   "metadata": {},
   "source": [
    "#### Code"
   ]
  },
  {
   "cell_type": "code",
   "execution_count": 83,
   "metadata": {},
   "outputs": [],
   "source": [
    "df_master.to_csv('./twitter_archive_master.csv', encoding = 'utf-8', index=False)"
   ]
  },
  {
   "cell_type": "markdown",
   "metadata": {},
   "source": [
    "#### Test"
   ]
  },
  {
   "cell_type": "code",
   "execution_count": 84,
   "metadata": {},
   "outputs": [
    {
     "name": "stdout",
     "output_type": "stream",
     "text": [
      "<class 'pandas.core.frame.DataFrame'>\n",
      "RangeIndex: 2059 entries, 0 to 2058\n",
      "Data columns (total 22 columns):\n",
      "tweet_id                    2059 non-null int64\n",
      "source                      2059 non-null object\n",
      "text                        2059 non-null object\n",
      "retweeted_status_user_id    72 non-null float64\n",
      "expanded_urls               2059 non-null object\n",
      "rating_numerator            2059 non-null int64\n",
      "rating_denominator          2059 non-null int64\n",
      "name                        2059 non-null object\n",
      "doggo                       2059 non-null object\n",
      "floofer                     2059 non-null object\n",
      "pupper                      2059 non-null object\n",
      "puppo                       2059 non-null object\n",
      "date_time                   2059 non-null object\n",
      "favorites                   2059 non-null int64\n",
      "retweets                    2059 non-null int64\n",
      "user_followers              2059 non-null int64\n",
      "jpg_url                     2059 non-null object\n",
      "img_num                     2059 non-null int64\n",
      "predictions                 1737 non-null object\n",
      "confidences                 2059 non-null float64\n",
      "gender                      1831 non-null object\n",
      "tweet_length                2059 non-null int64\n",
      "dtypes: float64(2), int64(8), object(12)\n",
      "memory usage: 354.0+ KB\n"
     ]
    }
   ],
   "source": [
    "df_master_clean = pd.read_csv('twitter_archive_master.csv')\n",
    "df_master_clean.info()"
   ]
  },
  {
   "cell_type": "markdown",
   "metadata": {},
   "source": [
    "## Visualization and Analysis"
   ]
  },
  {
   "cell_type": "markdown",
   "metadata": {},
   "source": [
    "### Visualization : "
   ]
  },
  {
   "cell_type": "code",
   "execution_count": 89,
   "metadata": {},
   "outputs": [
    {
     "data": {
      "image/png": "[encoded data removed]",
      "text/plain": [
       "<matplotlib.figure.Figure at 0x7f16e57c04e0>"
      ]
     },
     "metadata": {
      "needs_background": "light"
     },
     "output_type": "display_data"
    }
   ],
   "source": [
    "df_master_filtered = df_master_clean.query('rating_numerator <  250')\n",
    "sb.regplot(data = df_master_filtered, x = 'tweet_length', y = 'rating_numerator', fit_reg = True,\n",
    "           x_jitter = 0.3, y_jitter = 0.3, scatter_kws = {'alpha' : 1/5})\n",
    "plt.ylim(0,30)\n",
    "plt.title('Relationship between length of tweet and tweet Rating')\n",
    "plt.xlabel('Tweet Length (word)');"
   ]
  },
  {
   "cell_type": "markdown",
   "metadata": {},
   "source": [
    "### Analysis :"
   ]
  },
  {
   "cell_type": "markdown",
   "metadata": {},
   "source": [
    "### Visualization : "
   ]
  },
  {
   "cell_type": "code",
   "execution_count": 92,
   "metadata": {},
   "outputs": [
    {
     "data": {
      "text/html": [
       "<div>\n",
       "<style scoped>\n",
       "    .dataframe tbody tr th:only-of-type {\n",
       "        vertical-align: middle;\n",
       "    }\n",
       "\n",
       "    .dataframe tbody tr th {\n",
       "        vertical-align: top;\n",
       "    }\n",
       "\n",
       "    .dataframe thead th {\n",
       "        text-align: right;\n",
       "    }\n",
       "</style>\n",
       "<table border=\"1\" class=\"dataframe\">\n",
       "  <thead>\n",
       "    <tr style=\"text-align: right;\">\n",
       "      <th></th>\n",
       "      <th>tweet_id</th>\n",
       "      <th>retweeted_status_user_id</th>\n",
       "      <th>rating_numerator</th>\n",
       "      <th>rating_denominator</th>\n",
       "      <th>favorites</th>\n",
       "      <th>retweets</th>\n",
       "      <th>user_followers</th>\n",
       "      <th>img_num</th>\n",
       "      <th>confidences</th>\n",
       "      <th>tweet_length</th>\n",
       "    </tr>\n",
       "  </thead>\n",
       "  <tbody>\n",
       "    <tr>\n",
       "      <th>count</th>\n",
       "      <td>2.059000e+03</td>\n",
       "      <td>7.200000e+01</td>\n",
       "      <td>2059.000000</td>\n",
       "      <td>2059.000000</td>\n",
       "      <td>2059.000000</td>\n",
       "      <td>2059.000000</td>\n",
       "      <td>2.059000e+03</td>\n",
       "      <td>2059.000000</td>\n",
       "      <td>2059.000000</td>\n",
       "      <td>2059.000000</td>\n",
       "    </tr>\n",
       "    <tr>\n",
       "      <th>mean</th>\n",
       "      <td>7.378345e+17</td>\n",
       "      <td>1.093697e+16</td>\n",
       "      <td>12.263720</td>\n",
       "      <td>10.515299</td>\n",
       "      <td>7776.703254</td>\n",
       "      <td>2496.741622</td>\n",
       "      <td>8.943113e+06</td>\n",
       "      <td>1.203983</td>\n",
       "      <td>0.462350</td>\n",
       "      <td>23.369111</td>\n",
       "    </tr>\n",
       "    <tr>\n",
       "      <th>std</th>\n",
       "      <td>6.758411e+16</td>\n",
       "      <td>9.280326e+16</td>\n",
       "      <td>40.838002</td>\n",
       "      <td>7.204775</td>\n",
       "      <td>11753.381297</td>\n",
       "      <td>4363.014143</td>\n",
       "      <td>7.769237e+01</td>\n",
       "      <td>0.563002</td>\n",
       "      <td>0.338944</td>\n",
       "      <td>4.993751</td>\n",
       "    </tr>\n",
       "    <tr>\n",
       "      <th>min</th>\n",
       "      <td>6.660209e+17</td>\n",
       "      <td>7.832140e+05</td>\n",
       "      <td>0.000000</td>\n",
       "      <td>2.000000</td>\n",
       "      <td>0.000000</td>\n",
       "      <td>11.000000</td>\n",
       "      <td>8.943066e+06</td>\n",
       "      <td>1.000000</td>\n",
       "      <td>0.000000</td>\n",
       "      <td>7.000000</td>\n",
       "    </tr>\n",
       "    <tr>\n",
       "      <th>25%</th>\n",
       "      <td>6.762505e+17</td>\n",
       "      <td>4.196984e+09</td>\n",
       "      <td>10.000000</td>\n",
       "      <td>10.000000</td>\n",
       "      <td>1475.000000</td>\n",
       "      <td>535.500000</td>\n",
       "      <td>8.943071e+06</td>\n",
       "      <td>1.000000</td>\n",
       "      <td>0.139761</td>\n",
       "      <td>20.000000</td>\n",
       "    </tr>\n",
       "    <tr>\n",
       "      <th>50%</th>\n",
       "      <td>7.113067e+17</td>\n",
       "      <td>4.196984e+09</td>\n",
       "      <td>11.000000</td>\n",
       "      <td>10.000000</td>\n",
       "      <td>3429.000000</td>\n",
       "      <td>1181.000000</td>\n",
       "      <td>8.943108e+06</td>\n",
       "      <td>1.000000</td>\n",
       "      <td>0.456047</td>\n",
       "      <td>24.000000</td>\n",
       "    </tr>\n",
       "    <tr>\n",
       "      <th>75%</th>\n",
       "      <td>7.928986e+17</td>\n",
       "      <td>4.196984e+09</td>\n",
       "      <td>12.000000</td>\n",
       "      <td>10.000000</td>\n",
       "      <td>9695.000000</td>\n",
       "      <td>2866.500000</td>\n",
       "      <td>8.943144e+06</td>\n",
       "      <td>1.000000</td>\n",
       "      <td>0.772554</td>\n",
       "      <td>27.000000</td>\n",
       "    </tr>\n",
       "    <tr>\n",
       "      <th>max</th>\n",
       "      <td>8.924206e+17</td>\n",
       "      <td>7.874618e+17</td>\n",
       "      <td>1776.000000</td>\n",
       "      <td>170.000000</td>\n",
       "      <td>151831.000000</td>\n",
       "      <td>75040.000000</td>\n",
       "      <td>8.943773e+06</td>\n",
       "      <td>4.000000</td>\n",
       "      <td>0.999956</td>\n",
       "      <td>35.000000</td>\n",
       "    </tr>\n",
       "  </tbody>\n",
       "</table>\n",
       "</div>"
      ],
      "text/plain": [
       "           tweet_id  retweeted_status_user_id  rating_numerator  \\\n",
       "count  2.059000e+03              7.200000e+01       2059.000000   \n",
       "mean   7.378345e+17              1.093697e+16         12.263720   \n",
       "std    6.758411e+16              9.280326e+16         40.838002   \n",
       "min    6.660209e+17              7.832140e+05          0.000000   \n",
       "25%    6.762505e+17              4.196984e+09         10.000000   \n",
       "50%    7.113067e+17              4.196984e+09         11.000000   \n",
       "75%    7.928986e+17              4.196984e+09         12.000000   \n",
       "max    8.924206e+17              7.874618e+17       1776.000000   \n",
       "\n",
       "       rating_denominator      favorites      retweets  user_followers  \\\n",
       "count         2059.000000    2059.000000   2059.000000    2.059000e+03   \n",
       "mean            10.515299    7776.703254   2496.741622    8.943113e+06   \n",
       "std              7.204775   11753.381297   4363.014143    7.769237e+01   \n",
       "min              2.000000       0.000000     11.000000    8.943066e+06   \n",
       "25%             10.000000    1475.000000    535.500000    8.943071e+06   \n",
       "50%             10.000000    3429.000000   1181.000000    8.943108e+06   \n",
       "75%             10.000000    9695.000000   2866.500000    8.943144e+06   \n",
       "max            170.000000  151831.000000  75040.000000    8.943773e+06   \n",
       "\n",
       "           img_num  confidences  tweet_length  \n",
       "count  2059.000000  2059.000000   2059.000000  \n",
       "mean      1.203983     0.462350     23.369111  \n",
       "std       0.563002     0.338944      4.993751  \n",
       "min       1.000000     0.000000      7.000000  \n",
       "25%       1.000000     0.139761     20.000000  \n",
       "50%       1.000000     0.456047     24.000000  \n",
       "75%       1.000000     0.772554     27.000000  \n",
       "max       4.000000     0.999956     35.000000  "
      ]
     },
     "execution_count": 92,
     "metadata": {},
     "output_type": "execute_result"
    }
   ],
   "source": [
    "df_master_clean.describe()"
   ]
  },
  {
   "cell_type": "code",
   "execution_count": 249,
   "metadata": {},
   "outputs": [],
   "source": [
    "df_numerical = df_master_clean[['rating_numerator', 'favorites','retweets','user_followers','img_num','confidences','tweet_length']]"
   ]
  },
  {
   "cell_type": "code",
   "execution_count": 250,
   "metadata": {},
   "outputs": [],
   "source": [
    "def lower_corr_matrix(df):\n",
    "    '''\n",
    "    calculate a lower correlated matrix from the dataframe numeric variables\n",
    "    INPUT\n",
    "    df - dataframe with numeric variables to examine\n",
    "    OUTPUT\n",
    "    df_lt - lower correlated matrix\n",
    "    '''\n",
    "    corr_matrix = df.corr().abs()\n",
    "    np.tril(np.ones(corr_matrix.shape)).astype(np.bool)[0:len(corr_matrix),0:len(corr_matrix)]\n",
    "    df_lt = corr_matrix.where(np.tril(np.ones(corr_matrix.shape)).astype(np.bool))\n",
    "    return df_lt"
   ]
  },
  {
   "cell_type": "code",
   "execution_count": 251,
   "metadata": {},
   "outputs": [
    {
     "data": {
      "image/png": "[encoded data removed]",
      "text/plain": [
       "<matplotlib.figure.Figure at 0x7f16e557e4a8>"
      ]
     },
     "metadata": {
      "needs_background": "light"
     },
     "output_type": "display_data"
    }
   ],
   "source": [
    "plt.figure(figsize=(15,10))\n",
    "sb.heatmap(lower_corr_matrix(df_numerical), annot=True, cmap='mako_r', vmin=0.1, vmax = 1)\n",
    "plt.title('Correlated Matrix of Numerical Variables of Twitter Dataset');"
   ]
  },
  {
   "cell_type": "markdown",
   "metadata": {},
   "source": [
    "### Visualization :"
   ]
  },
  {
   "cell_type": "code",
   "execution_count": 96,
   "metadata": {},
   "outputs": [
    {
     "data": {
      "image/png": "[encoded data removed]",
      "text/plain": [
       "<matplotlib.figure.Figure at 0x7f16e569a400>"
      ]
     },
     "metadata": {
      "needs_background": "light"
     },
     "output_type": "display_data"
    }
   ],
   "source": [
    "sb.boxplot(x = 'gender', y = 'favorites', data = df_master_clean)\n",
    "plt.title('Number of Favorites vs. Gender');"
   ]
  },
  {
   "cell_type": "markdown",
   "metadata": {},
   "source": [
    "### Analysis :"
   ]
  },
  {
   "cell_type": "markdown",
   "metadata": {},
   "source": [
    "### Visualization :\n"
   ]
  },
  {
   "cell_type": "code",
   "execution_count": 97,
   "metadata": {
    "scrolled": true
   },
   "outputs": [
    {
     "data": {
      "image/png": "[encoded data removed]",
      "text/plain": [
       "<matplotlib.figure.Figure at 0x7f16e578a438>"
      ]
     },
     "metadata": {
      "needs_background": "light"
     },
     "output_type": "display_data"
    }
   ],
   "source": [
    "sb.regplot(x = 'retweets', y = 'favorites', data = df_master_clean, fit_reg=True, scatter_kws={'alpha':0.2})\n",
    "plt.title('Relationship between Number of Favorites vs. Number of Retweets');"
   ]
  },
  {
   "cell_type": "code",
   "execution_count": 240,
   "metadata": {},
   "outputs": [],
   "source": [
    "from sklearn.svm import SVR\n",
    "from sklearn.pipeline import Pipeline\n",
    "from sklearn.preprocessing import StandardScaler\n",
    "from sklearn.model_selection import train_test_split, GridSearchCV\n",
    "from sklearn.metrics import mean_squared_error, explained_variance_score, r2_score\n",
    "\n",
    "y = df_master['favorites']\n",
    "X_col = [col for col in df_numerical if col not in ['favorites']]\n",
    "X = df_numerical[X_col]\n",
    "X_train, X_test, y_train, y_test = train_test_split(X,y,test_size=0.3, random_state=42)\n",
    "\n",
    "\n",
    "regr = make_pipeline(StandardScaler(), SVR(kernel='linear'))\n",
    "\n",
    "\n",
    "regr.fit(X_train, y_train)\n",
    "y_pred = regr.predict(X_test)\n",
    "\n"
   ]
  },
  {
   "cell_type": "code",
   "execution_count": 241,
   "metadata": {},
   "outputs": [
    {
     "data": {
      "text/plain": [
       "{'memory': None,\n",
       " 'steps': [('standardscaler',\n",
       "   StandardScaler(copy=True, with_mean=True, with_std=True)),\n",
       "  ('svr',\n",
       "   SVR(C=1.0, cache_size=200, coef0=0.0, degree=3, epsilon=0.1, gamma='auto',\n",
       "     kernel='linear', max_iter=-1, shrinking=True, tol=0.001, verbose=False))],\n",
       " 'standardscaler': StandardScaler(copy=True, with_mean=True, with_std=True),\n",
       " 'svr': SVR(C=1.0, cache_size=200, coef0=0.0, degree=3, epsilon=0.1, gamma='auto',\n",
       "   kernel='linear', max_iter=-1, shrinking=True, tol=0.001, verbose=False),\n",
       " 'standardscaler__copy': True,\n",
       " 'standardscaler__with_mean': True,\n",
       " 'standardscaler__with_std': True,\n",
       " 'svr__C': 1.0,\n",
       " 'svr__cache_size': 200,\n",
       " 'svr__coef0': 0.0,\n",
       " 'svr__degree': 3,\n",
       " 'svr__epsilon': 0.1,\n",
       " 'svr__gamma': 'auto',\n",
       " 'svr__kernel': 'linear',\n",
       " 'svr__max_iter': -1,\n",
       " 'svr__shrinking': True,\n",
       " 'svr__tol': 0.001,\n",
       " 'svr__verbose': False}"
      ]
     },
     "execution_count": 241,
     "metadata": {},
     "output_type": "execute_result"
    }
   ],
   "source": [
    "regr.get_params()"
   ]
  },
  {
   "cell_type": "code",
   "execution_count": 242,
   "metadata": {},
   "outputs": [
    {
     "name": "stdout",
     "output_type": "stream",
     "text": [
      "\n",
      "The r2_score for SVR is 0.00.\n",
      "\n"
     ]
    }
   ],
   "source": [
    "r2_score_all = r2_score(y_test, y_pred)\n",
    "print(\"\\nThe r2_score for SVR is {:0.2f}.\\n\".format(r2_score_all))"
   ]
  },
  {
   "cell_type": "code",
   "execution_count": 243,
   "metadata": {},
   "outputs": [
    {
     "data": {
      "text/plain": [
       "{'C': 1.0,\n",
       " 'cache_size': 200,\n",
       " 'coef0': 0.0,\n",
       " 'degree': 3,\n",
       " 'epsilon': 0.1,\n",
       " 'gamma': 'auto',\n",
       " 'kernel': 'rbf',\n",
       " 'max_iter': -1,\n",
       " 'shrinking': True,\n",
       " 'tol': 0.001,\n",
       " 'verbose': False}"
      ]
     },
     "execution_count": 243,
     "metadata": {},
     "output_type": "execute_result"
    }
   ],
   "source": [
    "svr.get_params(deep=True)"
   ]
  },
  {
   "cell_type": "code",
   "execution_count": 244,
   "metadata": {},
   "outputs": [],
   "source": [
    "y = df_master['favorites']"
   ]
  },
  {
   "cell_type": "code",
   "execution_count": 245,
   "metadata": {},
   "outputs": [
    {
     "data": {
      "text/plain": [
       "Index(['tweet_id', 'source', 'text', 'retweeted_status_user_id',\n",
       "       'expanded_urls', 'rating_numerator', 'rating_denominator', 'name',\n",
       "       'doggo', 'floofer', 'pupper', 'puppo', 'date_time', 'favorites',\n",
       "       'retweets', 'user_followers', 'jpg_url', 'img_num', 'predictions',\n",
       "       'confidences', 'gender', 'tweet_length'],\n",
       "      dtype='object')"
      ]
     },
     "execution_count": 245,
     "metadata": {},
     "output_type": "execute_result"
    }
   ],
   "source": [
    "df_master_clean.columns"
   ]
  },
  {
   "cell_type": "code",
   "execution_count": 246,
   "metadata": {},
   "outputs": [],
   "source": [
    "X_improved = df_master_clean[['retweets']]\n",
    "X_train_improved, X_test_improved, y_train, y_test = train_test_split(X_improved, y, test_size=0.3, random_state=42)\n",
    "\n",
    "regr = make_pipeline(StandardScaler(), SVR(kernel='linear'))\n",
    "\n",
    "regr.fit(X_train_improved, y_train)\n",
    "y_pred = regr.predict(X_test_improved)"
   ]
  },
  {
   "cell_type": "code",
   "execution_count": 247,
   "metadata": {},
   "outputs": [
    {
     "name": "stdout",
     "output_type": "stream",
     "text": [
      "\n",
      "The r2_score for SVR is -0.01.\n",
      "\n"
     ]
    }
   ],
   "source": [
    "r2_score_SVR = r2_score(y_test, y_pred)\n",
    "print(\"\\nThe r2_score for SVR is {:0.2f}.\\n\".format(r2_score_SVR))"
   ]
  },
  {
   "cell_type": "code",
   "execution_count": 248,
   "metadata": {},
   "outputs": [
    {
     "name": "stdout",
     "output_type": "stream",
     "text": [
      "\n",
      "The r2_score for Ridge Regression is 0.83.\n",
      "\n"
     ]
    }
   ],
   "source": [
    "from sklearn.linear_model import Ridge\n",
    "\n",
    "clf = Ridge(alpha=0.1)\n",
    "clf.fit(X_train, y_train)\n",
    "y_pred = clf.predict(X_test)\n",
    "r2_score = r2_score(y_test,y_pred)\n",
    "print(\"\\nThe r2_score for Ridge Regression is {:0.2f}.\\n\".format(r2_score))"
   ]
  },
  {
   "cell_type": "code",
   "execution_count": null,
   "metadata": {},
   "outputs": [],
   "source": []
  }
 ],
 "metadata": {
  "kernelspec": {
   "display_name": "Python 3",
   "language": "python",
   "name": "python3"
  },
  "language_info": {
   "codemirror_mode": {
    "name": "ipython",
    "version": 3
   },
   "file_extension": ".py",
   "mimetype": "text/x-python",
   "name": "python",
   "nbconvert_exporter": "python",
   "pygments_lexer": "ipython3",
   "version": "3.6.3"
  }
 },
 "nbformat": 4,
 "nbformat_minor": 2
}
